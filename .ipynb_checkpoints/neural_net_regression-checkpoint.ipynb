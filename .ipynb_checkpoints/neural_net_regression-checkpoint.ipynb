{
 "cells": [
  {
   "cell_type": "code",
   "execution_count": 1,
   "id": "095496a3",
   "metadata": {},
   "outputs": [],
   "source": [
    "import pyodbc\n",
    "import pandas as pd\n",
    "import requests\n",
    "import json\n",
    "import numpy as np\n",
    "import matplotlib.pyplot as plt \n",
    "\n",
    "from datetime import datetime\n",
    "from sklearn.model_selection import train_test_split\n",
    "from sklearn.preprocessing import MinMaxScaler, StandardScaler\n",
    "from pickle import dump\n",
    "\n",
    "from keras.models import Sequential\n",
    "from keras.layers import Dense\n",
    "from keras.models import model_from_json\n",
    "\n",
    "pd.options.mode.chained_assignment = None"
   ]
  },
  {
   "cell_type": "code",
   "execution_count": 2,
   "id": "3bb4da6d",
   "metadata": {},
   "outputs": [],
   "source": [
    "data = pd.read_csv('./merged_datasets.csv')\n",
    "vessel_info = pd.read_csv('./vessel_information.csv')"
   ]
  },
  {
   "cell_type": "code",
   "execution_count": 3,
   "id": "bd90143b",
   "metadata": {},
   "outputs": [
    {
     "data": {
      "text/html": [
       "<div>\n",
       "<style scoped>\n",
       "    .dataframe tbody tr th:only-of-type {\n",
       "        vertical-align: middle;\n",
       "    }\n",
       "\n",
       "    .dataframe tbody tr th {\n",
       "        vertical-align: top;\n",
       "    }\n",
       "\n",
       "    .dataframe thead th {\n",
       "        text-align: right;\n",
       "    }\n",
       "</style>\n",
       "<table border=\"1\" class=\"dataframe\">\n",
       "  <thead>\n",
       "    <tr style=\"text-align: right;\">\n",
       "      <th></th>\n",
       "      <th>IMO</th>\n",
       "      <th>MainEngineKW</th>\n",
       "      <th>Deadweight</th>\n",
       "      <th>GrossRatedTonnage</th>\n",
       "      <th>Yearbuilt</th>\n",
       "    </tr>\n",
       "  </thead>\n",
       "  <tbody>\n",
       "    <tr>\n",
       "      <th>0</th>\n",
       "      <td>8905787</td>\n",
       "      <td>3360.0</td>\n",
       "      <td>12223</td>\n",
       "      <td>9094</td>\n",
       "      <td>1995</td>\n",
       "    </tr>\n",
       "    <tr>\n",
       "      <th>1</th>\n",
       "      <td>9010929</td>\n",
       "      <td>4080.0</td>\n",
       "      <td>8000</td>\n",
       "      <td>5045</td>\n",
       "      <td>1993</td>\n",
       "    </tr>\n",
       "    <tr>\n",
       "      <th>2</th>\n",
       "      <td>9114608</td>\n",
       "      <td>16859.0</td>\n",
       "      <td>148435</td>\n",
       "      <td>79832</td>\n",
       "      <td>1996</td>\n",
       "    </tr>\n",
       "    <tr>\n",
       "      <th>3</th>\n",
       "      <td>9125279</td>\n",
       "      <td>5400.0</td>\n",
       "      <td>10044</td>\n",
       "      <td>6877</td>\n",
       "      <td>1996</td>\n",
       "    </tr>\n",
       "    <tr>\n",
       "      <th>4</th>\n",
       "      <td>9144794</td>\n",
       "      <td>14004.0</td>\n",
       "      <td>106504</td>\n",
       "      <td>56127</td>\n",
       "      <td>1998</td>\n",
       "    </tr>\n",
       "    <tr>\n",
       "      <th>...</th>\n",
       "      <td>...</td>\n",
       "      <td>...</td>\n",
       "      <td>...</td>\n",
       "      <td>...</td>\n",
       "      <td>...</td>\n",
       "    </tr>\n",
       "    <tr>\n",
       "      <th>2592</th>\n",
       "      <td>9868778</td>\n",
       "      <td>13450.0</td>\n",
       "      <td>114900</td>\n",
       "      <td>62000</td>\n",
       "      <td>2020</td>\n",
       "    </tr>\n",
       "    <tr>\n",
       "      <th>2593</th>\n",
       "      <td>9871012</td>\n",
       "      <td>6560.0</td>\n",
       "      <td>37430</td>\n",
       "      <td>23420</td>\n",
       "      <td>2019</td>\n",
       "    </tr>\n",
       "    <tr>\n",
       "      <th>2594</th>\n",
       "      <td>9874210</td>\n",
       "      <td>24330.0</td>\n",
       "      <td>302000</td>\n",
       "      <td>157208</td>\n",
       "      <td>2020</td>\n",
       "    </tr>\n",
       "    <tr>\n",
       "      <th>2595</th>\n",
       "      <td>9878838</td>\n",
       "      <td>24500.0</td>\n",
       "      <td>299772</td>\n",
       "      <td>154046</td>\n",
       "      <td>2020</td>\n",
       "    </tr>\n",
       "    <tr>\n",
       "      <th>2596</th>\n",
       "      <td>9884045</td>\n",
       "      <td>21840.0</td>\n",
       "      <td>157447</td>\n",
       "      <td>81502</td>\n",
       "      <td>2020</td>\n",
       "    </tr>\n",
       "  </tbody>\n",
       "</table>\n",
       "<p>2597 rows × 5 columns</p>\n",
       "</div>"
      ],
      "text/plain": [
       "          IMO  MainEngineKW  Deadweight  GrossRatedTonnage  Yearbuilt\n",
       "0     8905787        3360.0       12223               9094       1995\n",
       "1     9010929        4080.0        8000               5045       1993\n",
       "2     9114608       16859.0      148435              79832       1996\n",
       "3     9125279        5400.0       10044               6877       1996\n",
       "4     9144794       14004.0      106504              56127       1998\n",
       "...       ...           ...         ...                ...        ...\n",
       "2592  9868778       13450.0      114900              62000       2020\n",
       "2593  9871012        6560.0       37430              23420       2019\n",
       "2594  9874210       24330.0      302000             157208       2020\n",
       "2595  9878838       24500.0      299772             154046       2020\n",
       "2596  9884045       21840.0      157447              81502       2020\n",
       "\n",
       "[2597 rows x 5 columns]"
      ]
     },
     "metadata": {},
     "output_type": "display_data"
    }
   ],
   "source": [
    "display (vessel_info)"
   ]
  },
  {
   "cell_type": "code",
   "execution_count": 4,
   "id": "76356997",
   "metadata": {},
   "outputs": [
    {
     "data": {
      "text/html": [
       "<div>\n",
       "<style scoped>\n",
       "    .dataframe tbody tr th:only-of-type {\n",
       "        vertical-align: middle;\n",
       "    }\n",
       "\n",
       "    .dataframe tbody tr th {\n",
       "        vertical-align: top;\n",
       "    }\n",
       "\n",
       "    .dataframe thead th {\n",
       "        text-align: right;\n",
       "    }\n",
       "</style>\n",
       "<table border=\"1\" class=\"dataframe\">\n",
       "  <thead>\n",
       "    <tr style=\"text-align: right;\">\n",
       "      <th></th>\n",
       "      <th>IMO</th>\n",
       "      <th>Annual average Fuel consumption per distance [kg / n mile]</th>\n",
       "    </tr>\n",
       "  </thead>\n",
       "  <tbody>\n",
       "    <tr>\n",
       "      <th>0</th>\n",
       "      <td>9010929</td>\n",
       "      <td>72.10</td>\n",
       "    </tr>\n",
       "    <tr>\n",
       "      <th>1</th>\n",
       "      <td>9114608</td>\n",
       "      <td>271.81</td>\n",
       "    </tr>\n",
       "    <tr>\n",
       "      <th>2</th>\n",
       "      <td>9125279</td>\n",
       "      <td>75.45</td>\n",
       "    </tr>\n",
       "    <tr>\n",
       "      <th>3</th>\n",
       "      <td>9144794</td>\n",
       "      <td>204.86</td>\n",
       "    </tr>\n",
       "    <tr>\n",
       "      <th>4</th>\n",
       "      <td>9145437</td>\n",
       "      <td>125.11</td>\n",
       "    </tr>\n",
       "    <tr>\n",
       "      <th>...</th>\n",
       "      <td>...</td>\n",
       "      <td>...</td>\n",
       "    </tr>\n",
       "    <tr>\n",
       "      <th>5543</th>\n",
       "      <td>9868778</td>\n",
       "      <td>157.68</td>\n",
       "    </tr>\n",
       "    <tr>\n",
       "      <th>5544</th>\n",
       "      <td>9869459</td>\n",
       "      <td>327.28</td>\n",
       "    </tr>\n",
       "    <tr>\n",
       "      <th>5545</th>\n",
       "      <td>9871012</td>\n",
       "      <td>117.80</td>\n",
       "    </tr>\n",
       "    <tr>\n",
       "      <th>5546</th>\n",
       "      <td>9874210</td>\n",
       "      <td>200.28</td>\n",
       "    </tr>\n",
       "    <tr>\n",
       "      <th>5547</th>\n",
       "      <td>9884045</td>\n",
       "      <td>122.91</td>\n",
       "    </tr>\n",
       "  </tbody>\n",
       "</table>\n",
       "<p>5548 rows × 2 columns</p>\n",
       "</div>"
      ],
      "text/plain": [
       "          IMO  Annual average Fuel consumption per distance [kg / n mile]\n",
       "0     9010929                                              72.10         \n",
       "1     9114608                                             271.81         \n",
       "2     9125279                                              75.45         \n",
       "3     9144794                                             204.86         \n",
       "4     9145437                                             125.11         \n",
       "...       ...                                                ...         \n",
       "5543  9868778                                             157.68         \n",
       "5544  9869459                                             327.28         \n",
       "5545  9871012                                             117.80         \n",
       "5546  9874210                                             200.28         \n",
       "5547  9884045                                             122.91         \n",
       "\n",
       "[5548 rows x 2 columns]"
      ]
     },
     "metadata": {},
     "output_type": "display_data"
    }
   ],
   "source": [
    "avg_cons_per_distance = data[['IMO', 'Annual average Fuel consumption per distance [kg / n mile]']]\n",
    "display (avg_cons_per_distance)"
   ]
  },
  {
   "cell_type": "code",
   "execution_count": 5,
   "id": "9acf0318",
   "metadata": {},
   "outputs": [
    {
     "data": {
      "text/plain": [
       "<AxesSubplot:>"
      ]
     },
     "execution_count": 5,
     "metadata": {},
     "output_type": "execute_result"
    },
    {
     "data": {
      "image/png": "[encoded data removed]",
      "text/plain": [
       "<Figure size 1080x720 with 1 Axes>"
      ]
     },
     "metadata": {
      "needs_background": "light"
     },
     "output_type": "display_data"
    }
   ],
   "source": [
    "plt.figure(figsize = (15, 10))\n",
    "avg_cons_per_distance.boxplot('Annual average Fuel consumption per distance [kg / n mile]')"
   ]
  },
  {
   "cell_type": "code",
   "execution_count": 6,
   "id": "1f753677",
   "metadata": {
    "scrolled": false
   },
   "outputs": [
    {
     "name": "stdout",
     "output_type": "stream",
     "text": [
      "<class 'pandas.core.frame.DataFrame'>\n",
      "Int64Index: 2336 entries, 1 to 5483\n",
      "Data columns (total 6 columns):\n",
      " #   Column                                                      Non-Null Count  Dtype  \n",
      "---  ------                                                      --------------  -----  \n",
      " 0   IMO                                                         2336 non-null   int64  \n",
      " 1   MainEngineKW                                                2336 non-null   float64\n",
      " 2   Deadweight                                                  2336 non-null   int64  \n",
      " 3   GrossRatedTonnage                                           2336 non-null   int64  \n",
      " 4   Yearbuilt                                                   2336 non-null   int64  \n",
      " 5   Annual average Fuel consumption per distance [kg / n mile]  2336 non-null   float64\n",
      "dtypes: float64(2), int64(4)\n",
      "memory usage: 127.8 KB\n"
     ]
    }
   ],
   "source": [
    "vessel_info_1 = pd.merge(vessel_info, avg_cons_per_distance, how = 'left', on=['IMO'])\n",
    "vessel_info_1.dropna(subset=['MainEngineKW'], inplace = True)\n",
    "vessel_info_1.dropna(subset=['Annual average Fuel consumption per distance [kg / n mile]'], inplace = True)\n",
    "vessel_info_1 = vessel_info_1.drop_duplicates(subset='IMO', keep='last')\n",
    "vessel_info_1.info()"
   ]
  },
  {
   "cell_type": "code",
   "execution_count": 7,
   "id": "18c78804",
   "metadata": {},
   "outputs": [
    {
     "data": {
      "text/html": [
       "<div>\n",
       "<style scoped>\n",
       "    .dataframe tbody tr th:only-of-type {\n",
       "        vertical-align: middle;\n",
       "    }\n",
       "\n",
       "    .dataframe tbody tr th {\n",
       "        vertical-align: top;\n",
       "    }\n",
       "\n",
       "    .dataframe thead th {\n",
       "        text-align: right;\n",
       "    }\n",
       "</style>\n",
       "<table border=\"1\" class=\"dataframe\">\n",
       "  <thead>\n",
       "    <tr style=\"text-align: right;\">\n",
       "      <th></th>\n",
       "      <th>IMO</th>\n",
       "      <th>MainEngineKW</th>\n",
       "      <th>Deadweight</th>\n",
       "      <th>GrossRatedTonnage</th>\n",
       "      <th>Yearbuilt</th>\n",
       "      <th>Annual average Fuel consumption per distance [kg / n mile]</th>\n",
       "    </tr>\n",
       "  </thead>\n",
       "  <tbody>\n",
       "    <tr>\n",
       "      <th>1</th>\n",
       "      <td>8905787</td>\n",
       "      <td>3360.0</td>\n",
       "      <td>12223</td>\n",
       "      <td>9094</td>\n",
       "      <td>1995</td>\n",
       "      <td>84.58</td>\n",
       "    </tr>\n",
       "    <tr>\n",
       "      <th>4</th>\n",
       "      <td>9010929</td>\n",
       "      <td>4080.0</td>\n",
       "      <td>8000</td>\n",
       "      <td>5045</td>\n",
       "      <td>1993</td>\n",
       "      <td>123.98</td>\n",
       "    </tr>\n",
       "    <tr>\n",
       "      <th>5</th>\n",
       "      <td>9114608</td>\n",
       "      <td>16859.0</td>\n",
       "      <td>148435</td>\n",
       "      <td>79832</td>\n",
       "      <td>1996</td>\n",
       "      <td>271.81</td>\n",
       "    </tr>\n",
       "    <tr>\n",
       "      <th>8</th>\n",
       "      <td>9125279</td>\n",
       "      <td>5400.0</td>\n",
       "      <td>10044</td>\n",
       "      <td>6877</td>\n",
       "      <td>1996</td>\n",
       "      <td>82.97</td>\n",
       "    </tr>\n",
       "    <tr>\n",
       "      <th>10</th>\n",
       "      <td>9144794</td>\n",
       "      <td>14004.0</td>\n",
       "      <td>106504</td>\n",
       "      <td>56127</td>\n",
       "      <td>1998</td>\n",
       "      <td>217.68</td>\n",
       "    </tr>\n",
       "    <tr>\n",
       "      <th>...</th>\n",
       "      <td>...</td>\n",
       "      <td>...</td>\n",
       "      <td>...</td>\n",
       "      <td>...</td>\n",
       "      <td>...</td>\n",
       "      <td>...</td>\n",
       "    </tr>\n",
       "    <tr>\n",
       "      <th>5477</th>\n",
       "      <td>9868156</td>\n",
       "      <td>15690.0</td>\n",
       "      <td>157946</td>\n",
       "      <td>84655</td>\n",
       "      <td>2020</td>\n",
       "      <td>138.90</td>\n",
       "    </tr>\n",
       "    <tr>\n",
       "      <th>5478</th>\n",
       "      <td>9868778</td>\n",
       "      <td>13450.0</td>\n",
       "      <td>114900</td>\n",
       "      <td>62000</td>\n",
       "      <td>2020</td>\n",
       "      <td>157.68</td>\n",
       "    </tr>\n",
       "    <tr>\n",
       "      <th>5480</th>\n",
       "      <td>9871012</td>\n",
       "      <td>6560.0</td>\n",
       "      <td>37430</td>\n",
       "      <td>23420</td>\n",
       "      <td>2019</td>\n",
       "      <td>117.80</td>\n",
       "    </tr>\n",
       "    <tr>\n",
       "      <th>5481</th>\n",
       "      <td>9874210</td>\n",
       "      <td>24330.0</td>\n",
       "      <td>302000</td>\n",
       "      <td>157208</td>\n",
       "      <td>2020</td>\n",
       "      <td>200.28</td>\n",
       "    </tr>\n",
       "    <tr>\n",
       "      <th>5483</th>\n",
       "      <td>9884045</td>\n",
       "      <td>21840.0</td>\n",
       "      <td>157447</td>\n",
       "      <td>81502</td>\n",
       "      <td>2020</td>\n",
       "      <td>122.91</td>\n",
       "    </tr>\n",
       "  </tbody>\n",
       "</table>\n",
       "<p>2336 rows × 6 columns</p>\n",
       "</div>"
      ],
      "text/plain": [
       "          IMO  MainEngineKW  Deadweight  GrossRatedTonnage  Yearbuilt  \\\n",
       "1     8905787        3360.0       12223               9094       1995   \n",
       "4     9010929        4080.0        8000               5045       1993   \n",
       "5     9114608       16859.0      148435              79832       1996   \n",
       "8     9125279        5400.0       10044               6877       1996   \n",
       "10    9144794       14004.0      106504              56127       1998   \n",
       "...       ...           ...         ...                ...        ...   \n",
       "5477  9868156       15690.0      157946              84655       2020   \n",
       "5478  9868778       13450.0      114900              62000       2020   \n",
       "5480  9871012        6560.0       37430              23420       2019   \n",
       "5481  9874210       24330.0      302000             157208       2020   \n",
       "5483  9884045       21840.0      157447              81502       2020   \n",
       "\n",
       "      Annual average Fuel consumption per distance [kg / n mile]  \n",
       "1                                                 84.58           \n",
       "4                                                123.98           \n",
       "5                                                271.81           \n",
       "8                                                 82.97           \n",
       "10                                               217.68           \n",
       "...                                                 ...           \n",
       "5477                                             138.90           \n",
       "5478                                             157.68           \n",
       "5480                                             117.80           \n",
       "5481                                             200.28           \n",
       "5483                                             122.91           \n",
       "\n",
       "[2336 rows x 6 columns]"
      ]
     },
     "metadata": {},
     "output_type": "display_data"
    }
   ],
   "source": [
    "display (vessel_info_1)"
   ]
  },
  {
   "cell_type": "code",
   "execution_count": 74,
   "id": "e7a6f6f2",
   "metadata": {},
   "outputs": [],
   "source": [
    "TargetVariable = ['Annual average Fuel consumption per distance [kg / n mile]']\n",
    "Predictors = [ 'MainEngineKW','Deadweight', \n",
    "           'GrossRatedTonnage', 'Yearbuilt']\n",
    "\n",
    "X=vessel_info_1[Predictors].values\n",
    "y=vessel_info_1[TargetVariable].values\n",
    " "
   ]
  },
  {
   "cell_type": "code",
   "execution_count": 75,
   "id": "0a8bd756",
   "metadata": {},
   "outputs": [
    {
     "name": "stdout",
     "output_type": "stream",
     "text": [
      "[[  3360.  12223.   9094.   1995.]\n",
      " [  4080.   8000.   5045.   1993.]\n",
      " [ 16859. 148435.  79832.   1996.]\n",
      " ...\n",
      " [  6560.  37430.  23420.   2019.]\n",
      " [ 24330. 302000. 157208.   2020.]\n",
      " [ 21840. 157447.  81502.   2020.]]\n"
     ]
    }
   ],
   "source": [
    "print (X)"
   ]
  },
  {
   "cell_type": "code",
   "execution_count": 76,
   "id": "e1fc11cb",
   "metadata": {},
   "outputs": [
    {
     "name": "stdout",
     "output_type": "stream",
     "text": [
      "[[5.80181016e-02 1.92743012e-02 2.45085309e-02 7.40740741e-02]\n",
      " [7.65838942e-02 5.94172563e-03 5.43560320e-05 0.00000000e+00]\n",
      " [4.06100926e-01 4.49313797e-01 4.51734863e-01 1.11111111e-01]\n",
      " ...\n",
      " [1.40532735e-01 9.88561705e-02 1.11031255e-01 9.62962963e-01]\n",
      " [5.98746809e-01 9.34139034e-01 9.19051789e-01 1.00000000e+00]\n",
      " [5.34540110e-01 4.77765886e-01 4.61820927e-01 1.00000000e+00]]\n",
      "(1635, 4)\n",
      "(1635, 1)\n",
      "(701, 4)\n",
      "(701, 1)\n"
     ]
    }
   ],
   "source": [
    "### Sandardization of data ###\n",
    "\n",
    "PredictorScaler=MinMaxScaler()\n",
    "TargetVarScaler=MinMaxScaler()\n",
    "\n",
    "#PredictorScaler=StandardScaler()\n",
    "#TargetVarScaler=StandardScaler()\n",
    " \n",
    "# Storing the fit object for later reference\n",
    "PredictorScalerFit=PredictorScaler.fit(X)\n",
    "TargetVarScalerFit=TargetVarScaler.fit(y)\n",
    "\n",
    "# Generating the standardized values of X and y\n",
    "X=PredictorScalerFit.transform(X)\n",
    "y=TargetVarScalerFit.transform(y)\n",
    "\n",
    "print (X)\n",
    "# Split the data into training and testing set\n",
    "\n",
    "X_train, X_test, y_train, y_test = train_test_split(X, y, test_size=0.3, random_state=42)\n",
    " \n",
    "# Quick sanity check with the shapes of Training and testing datasets\n",
    "print(X_train.shape)\n",
    "print(y_train.shape)\n",
    "print(X_test.shape)\n",
    "print(y_test.shape)"
   ]
  },
  {
   "cell_type": "code",
   "execution_count": 79,
   "id": "71116909",
   "metadata": {},
   "outputs": [],
   "source": [
    "dump(PredictorScalerFit, open('scaler_neural.pkl', 'wb'))\n",
    "dump(TargetVarScalerFit, open('scaler_neural_output.pkl', 'wb'))"
   ]
  },
  {
   "cell_type": "code",
   "execution_count": 77,
   "id": "192a0a35",
   "metadata": {
    "scrolled": true
   },
   "outputs": [
    {
     "name": "stdout",
     "output_type": "stream",
     "text": [
      "Epoch 1/50\n",
      "164/164 [==============================] - 0s 594us/step - loss: 0.0592\n",
      "Epoch 2/50\n",
      "164/164 [==============================] - 0s 606us/step - loss: 0.0164\n",
      "Epoch 3/50\n",
      "164/164 [==============================] - 0s 575us/step - loss: 0.0126\n",
      "Epoch 4/50\n",
      "164/164 [==============================] - 0s 557us/step - loss: 0.0096\n",
      "Epoch 5/50\n",
      "164/164 [==============================] - 0s 796us/step - loss: 0.0085\n",
      "Epoch 6/50\n",
      "164/164 [==============================] - 0s 569us/step - loss: 0.0082\n",
      "Epoch 7/50\n",
      "164/164 [==============================] - 0s 600us/step - loss: 0.0080\n",
      "Epoch 8/50\n",
      "164/164 [==============================] - 0s 630us/step - loss: 0.0079\n",
      "Epoch 9/50\n",
      "164/164 [==============================] - 0s 679us/step - loss: 0.0079\n",
      "Epoch 10/50\n",
      "164/164 [==============================] - 0s 655us/step - loss: 0.0078\n",
      "Epoch 11/50\n",
      "164/164 [==============================] - 0s 661us/step - loss: 0.0078\n",
      "Epoch 12/50\n",
      "164/164 [==============================] - 0s 661us/step - loss: 0.0077\n",
      "Epoch 13/50\n",
      "164/164 [==============================] - 0s 557us/step - loss: 0.0077\n",
      "Epoch 14/50\n",
      "164/164 [==============================] - 0s 563us/step - loss: 0.0077\n",
      "Epoch 15/50\n",
      "164/164 [==============================] - 0s 612us/step - loss: 0.0077\n",
      "Epoch 16/50\n",
      "164/164 [==============================] - 0s 642us/step - loss: 0.0077\n",
      "Epoch 17/50\n",
      "164/164 [==============================] - 0s 668us/step - loss: 0.0077\n",
      "Epoch 18/50\n",
      "164/164 [==============================] - 0s 642us/step - loss: 0.0076\n",
      "Epoch 19/50\n",
      "164/164 [==============================] - 0s 557us/step - loss: 0.0077\n",
      "Epoch 20/50\n",
      "164/164 [==============================] - 0s 588us/step - loss: 0.0076\n",
      "Epoch 21/50\n",
      "164/164 [==============================] - 0s 587us/step - loss: 0.0076\n",
      "Epoch 22/50\n",
      "164/164 [==============================] - 0s 587us/step - loss: 0.0076\n",
      "Epoch 23/50\n",
      "164/164 [==============================] - 0s 609us/step - loss: 0.0076\n",
      "Epoch 24/50\n",
      "164/164 [==============================] - 0s 618us/step - loss: 0.0076\n",
      "Epoch 25/50\n",
      "164/164 [==============================] - 0s 606us/step - loss: 0.0075\n",
      "Epoch 26/50\n",
      "164/164 [==============================] - 0s 606us/step - loss: 0.0076\n",
      "Epoch 27/50\n",
      "164/164 [==============================] - 0s 661us/step - loss: 0.0076\n",
      "Epoch 28/50\n",
      "164/164 [==============================] - 0s 655us/step - loss: 0.0076\n",
      "Epoch 29/50\n",
      "164/164 [==============================] - 0s 600us/step - loss: 0.0075\n",
      "Epoch 30/50\n",
      "164/164 [==============================] - 0s 606us/step - loss: 0.0075\n",
      "Epoch 31/50\n",
      "164/164 [==============================] - 0s 661us/step - loss: 0.0076\n",
      "Epoch 32/50\n",
      "164/164 [==============================] - 0s 649us/step - loss: 0.0075\n",
      "Epoch 33/50\n",
      "164/164 [==============================] - 0s 612us/step - loss: 0.0075\n",
      "Epoch 34/50\n",
      "164/164 [==============================] - 0s 710us/step - loss: 0.0075\n",
      "Epoch 35/50\n",
      "164/164 [==============================] - 0s 667us/step - loss: 0.0075\n",
      "Epoch 36/50\n",
      "164/164 [==============================] - 0s 563us/step - loss: 0.0075\n",
      "Epoch 37/50\n",
      "164/164 [==============================] - 0s 600us/step - loss: 0.0075\n",
      "Epoch 38/50\n",
      "164/164 [==============================] - 0s 624us/step - loss: 0.0075\n",
      "Epoch 39/50\n",
      "164/164 [==============================] - 0s 612us/step - loss: 0.0075\n",
      "Epoch 40/50\n",
      "164/164 [==============================] - 0s 575us/step - loss: 0.0075\n",
      "Epoch 41/50\n",
      "164/164 [==============================] - 0s 612us/step - loss: 0.0075\n",
      "Epoch 42/50\n",
      "164/164 [==============================] - 0s 636us/step - loss: 0.0075\n",
      "Epoch 43/50\n",
      "164/164 [==============================] - 0s 661us/step - loss: 0.0075\n",
      "Epoch 44/50\n",
      "164/164 [==============================] - 0s 587us/step - loss: 0.0075\n",
      "Epoch 45/50\n",
      "164/164 [==============================] - 0s 649us/step - loss: 0.0075\n",
      "Epoch 46/50\n",
      "164/164 [==============================] - 0s 673us/step - loss: 0.0075\n",
      "Epoch 47/50\n",
      "164/164 [==============================] - 0s 575us/step - loss: 0.0074\n",
      "Epoch 48/50\n",
      "164/164 [==============================] - 0s 594us/step - loss: 0.0075\n",
      "Epoch 49/50\n",
      "164/164 [==============================] - 0s 661us/step - loss: 0.0074\n",
      "Epoch 50/50\n",
      "164/164 [==============================] - 0s 635us/step - loss: 0.0074\n"
     ]
    },
    {
     "data": {
      "text/plain": [
       "<keras.callbacks.History at 0x13e8d61ddc0>"
      ]
     },
     "execution_count": 77,
     "metadata": {},
     "output_type": "execute_result"
    }
   ],
   "source": [
    "model = Sequential()\n",
    "model.add(Dense(units=5, input_dim=X_train.shape[1], kernel_initializer = 'normal', activation = 'relu')) \n",
    "# Defining the Second layer of the model\n",
    "model.add(Dense(units=5, kernel_initializer='normal', activation='tanh'))\n",
    " \n",
    "# The output neuron is a single fully connected node \n",
    "# Since we will be predicting a single number\n",
    "model.add(Dense(1, kernel_initializer='normal'))\n",
    " \n",
    "# Compiling the model\n",
    "model.compile(loss='mean_squared_error', optimizer='adam')\n",
    " \n",
    "# Fitting the ANN to the Training set\n",
    "model.fit(X_train, y_train ,batch_size = 10, epochs = 50, verbose=1)"
   ]
  },
  {
   "cell_type": "code",
   "execution_count": 78,
   "id": "e33642a6",
   "metadata": {},
   "outputs": [
    {
     "name": "stdout",
     "output_type": "stream",
     "text": [
      "1 Parameters: batch_size: 5 - epochs: 5 Accuracy: 74.68366334899731\n",
      "2 Parameters: batch_size: 5 - epochs: 10 Accuracy: 74.12756220851236\n",
      "3 Parameters: batch_size: 5 - epochs: 50 Accuracy: 75.05943017605199\n",
      "4 Parameters: batch_size: 5 - epochs: 100 Accuracy: 77.95875627428453\n",
      "5 Parameters: batch_size: 10 - epochs: 5 Accuracy: 72.95270854964838\n",
      "6 Parameters: batch_size: 10 - epochs: 10 Accuracy: 74.44389839199542\n",
      "7 Parameters: batch_size: 10 - epochs: 50 Accuracy: 75.88217429252302\n",
      "8 Parameters: batch_size: 10 - epochs: 100 Accuracy: 76.83790407284636\n",
      "9 Parameters: batch_size: 15 - epochs: 5 Accuracy: 68.17480468402852\n",
      "10 Parameters: batch_size: 15 - epochs: 10 Accuracy: 73.6796904879203\n",
      "11 Parameters: batch_size: 15 - epochs: 50 Accuracy: 78.28867953684869\n",
      "12 Parameters: batch_size: 15 - epochs: 100 Accuracy: 76.00393799528058\n",
      "13 Parameters: batch_size: 20 - epochs: 5 Accuracy: 61.02152701204258\n",
      "14 Parameters: batch_size: 20 - epochs: 10 Accuracy: 68.77714782940984\n",
      "15 Parameters: batch_size: 20 - epochs: 50 Accuracy: 75.05301629328319\n",
      "16 Parameters: batch_size: 20 - epochs: 100 Accuracy: 75.27886358692417\n"
     ]
    }
   ],
   "source": [
    "# Defining a function to find the best parameters for ANN\n",
    "def FunctionFindBestParams(X_train, y_train, X_test, y_test):\n",
    "    \n",
    "    # Defining the list of hyper parameters to try\n",
    "    batch_size_list=[5, 10, 15, 20]\n",
    "    epoch_list  =   [5, 10, 50, 100]\n",
    "    \n",
    "\n",
    "    SearchResultsData=pd.DataFrame(columns=['TrialNumber', 'Parameters', 'Accuracy'])\n",
    "    \n",
    "    # initializing the trials\n",
    "    TrialNumber=0\n",
    "    for batch_size_trial in batch_size_list:\n",
    "        for epochs_trial in epoch_list:\n",
    "            TrialNumber+=1\n",
    "            # create ANN model\n",
    "            model = Sequential()\n",
    "            # Defining the first layer of the model\n",
    "            model.add(Dense(units=5, input_dim=X_train.shape[1], kernel_initializer='normal', activation='relu'))\n",
    "\n",
    "            # Defining the Second layer of the model\n",
    "            model.add(Dense(units=5, kernel_initializer='normal', activation='relu'))\n",
    "\n",
    "            # The output neuron is a single fully connected node \n",
    "            # Since we will be predicting a single number\n",
    "            model.add(Dense(1, kernel_initializer='normal'))\n",
    "\n",
    "            # Compiling the model\n",
    "            model.compile(loss='mean_squared_error', optimizer='adam')\n",
    "\n",
    "            # Fitting the ANN to the Training set\n",
    "            model.fit(X_train, y_train ,batch_size = batch_size_trial, epochs = epochs_trial, verbose=0)\n",
    "\n",
    "            MAPE = np.mean(100 * (np.abs(y_test-model.predict(X_test))/y_test))\n",
    "            \n",
    "            # printing the results of the current iteration\n",
    "            print(TrialNumber, 'Parameters:','batch_size:', batch_size_trial,'-', 'epochs:',epochs_trial, 'Accuracy:', 100-MAPE)\n",
    "            \n",
    "            SearchResultsData=SearchResultsData.append(pd.DataFrame(data=[[TrialNumber, str(batch_size_trial)+'-'+str(epochs_trial), 100-MAPE]],\n",
    "                                                                    columns=['TrialNumber', 'Parameters', 'Accuracy'] ))\n",
    "    return(SearchResultsData)\n",
    "\n",
    "\n",
    "######################################################\n",
    "# Calling the function\n",
    "ResultsData=FunctionFindBestParams(X_train, y_train, X_test, y_test)"
   ]
  },
  {
   "cell_type": "code",
   "execution_count": 73,
   "id": "dbeef861",
   "metadata": {},
   "outputs": [
    {
     "data": {
      "text/plain": [
       "<AxesSubplot:xlabel='Parameters'>"
      ]
     },
     "execution_count": 73,
     "metadata": {},
     "output_type": "execute_result"
    },
    {
     "data": {
      "image/png": "[encoded data removed]",
      "text/plain": [
       "<Figure size 1080x288 with 1 Axes>"
      ]
     },
     "metadata": {
      "needs_background": "light"
     },
     "output_type": "display_data"
    }
   ],
   "source": [
    "%matplotlib inline\n",
    "ResultsData.plot(x='Parameters', y='Accuracy', figsize=(15,4), kind='line')"
   ]
  },
  {
   "cell_type": "code",
   "execution_count": 30,
   "id": "bde979b4",
   "metadata": {},
   "outputs": [
    {
     "data": {
      "text/html": [
       "<div>\n",
       "<style scoped>\n",
       "    .dataframe tbody tr th:only-of-type {\n",
       "        vertical-align: middle;\n",
       "    }\n",
       "\n",
       "    .dataframe tbody tr th {\n",
       "        vertical-align: top;\n",
       "    }\n",
       "\n",
       "    .dataframe thead th {\n",
       "        text-align: right;\n",
       "    }\n",
       "</style>\n",
       "<table border=\"1\" class=\"dataframe\">\n",
       "  <thead>\n",
       "    <tr style=\"text-align: right;\">\n",
       "      <th></th>\n",
       "      <th>MainEngineKW</th>\n",
       "      <th>Deadweight</th>\n",
       "      <th>GrossRatedTonnage</th>\n",
       "      <th>Yearbuilt</th>\n",
       "      <th>Annual_Consumption</th>\n",
       "      <th>Predicted_Annual_Consumption</th>\n",
       "    </tr>\n",
       "  </thead>\n",
       "  <tbody>\n",
       "    <tr>\n",
       "      <th>0</th>\n",
       "      <td>9960.0</td>\n",
       "      <td>49990.0</td>\n",
       "      <td>29806.0</td>\n",
       "      <td>2015.0</td>\n",
       "      <td>90.62</td>\n",
       "      <td>88.003166</td>\n",
       "    </tr>\n",
       "    <tr>\n",
       "      <th>1</th>\n",
       "      <td>16080.0</td>\n",
       "      <td>108560.0</td>\n",
       "      <td>60855.0</td>\n",
       "      <td>2019.0</td>\n",
       "      <td>91.13</td>\n",
       "      <td>130.710709</td>\n",
       "    </tr>\n",
       "    <tr>\n",
       "      <th>2</th>\n",
       "      <td>18660.0</td>\n",
       "      <td>158670.0</td>\n",
       "      <td>81509.0</td>\n",
       "      <td>2011.0</td>\n",
       "      <td>175.69</td>\n",
       "      <td>168.936844</td>\n",
       "    </tr>\n",
       "    <tr>\n",
       "      <th>3</th>\n",
       "      <td>11110.0</td>\n",
       "      <td>111890.0</td>\n",
       "      <td>60435.0</td>\n",
       "      <td>2020.0</td>\n",
       "      <td>123.42</td>\n",
       "      <td>125.006409</td>\n",
       "    </tr>\n",
       "    <tr>\n",
       "      <th>4</th>\n",
       "      <td>13450.0</td>\n",
       "      <td>115711.0</td>\n",
       "      <td>62370.0</td>\n",
       "      <td>2017.0</td>\n",
       "      <td>103.07</td>\n",
       "      <td>134.350723</td>\n",
       "    </tr>\n",
       "  </tbody>\n",
       "</table>\n",
       "</div>"
      ],
      "text/plain": [
       "   MainEngineKW  Deadweight  GrossRatedTonnage  Yearbuilt  Annual_Consumption  \\\n",
       "0        9960.0     49990.0            29806.0     2015.0               90.62   \n",
       "1       16080.0    108560.0            60855.0     2019.0               91.13   \n",
       "2       18660.0    158670.0            81509.0     2011.0              175.69   \n",
       "3       11110.0    111890.0            60435.0     2020.0              123.42   \n",
       "4       13450.0    115711.0            62370.0     2017.0              103.07   \n",
       "\n",
       "   Predicted_Annual_Consumption  \n",
       "0                     88.003166  \n",
       "1                    130.710709  \n",
       "2                    168.936844  \n",
       "3                    125.006409  \n",
       "4                    134.350723  "
      ]
     },
     "execution_count": 30,
     "metadata": {},
     "output_type": "execute_result"
    }
   ],
   "source": [
    "# Fitting the ANN to the Training set\n",
    "model.fit(X_train, y_train ,batch_size = 20, epochs = 100, verbose=0)\n",
    " \n",
    "# Generating Predictions on testing data\n",
    "Predictions=model.predict(X_test)\n",
    " \n",
    "# Scaling the predicted Price data back to original price scale\n",
    "Predictions=TargetVarScalerFit.inverse_transform(Predictions)\n",
    " \n",
    "# Scaling the y_test Price data back to original price scale\n",
    "y_test_orig=TargetVarScalerFit.inverse_transform(y_test)\n",
    " \n",
    "# Scaling the test data back to original scale\n",
    "Test_Data=PredictorScalerFit.inverse_transform(X_test)\n",
    " \n",
    "TestingData=pd.DataFrame(data=Test_Data, columns=Predictors)\n",
    "TestingData['Annual_Consumption']=y_test_orig\n",
    "TestingData['Predicted_Annual_Consumption']=Predictions\n",
    "TestingData.head()"
   ]
  },
  {
   "cell_type": "code",
   "execution_count": 31,
   "id": "f819b38a",
   "metadata": {},
   "outputs": [
    {
     "name": "stdout",
     "output_type": "stream",
     "text": [
      "[[0.22820453 0.13850977 0.14959988 0.81481481]\n",
      " [0.38601377 0.32342309 0.33712215 0.96296296]\n",
      " [0.45254119 0.48162706 0.4618632  0.66666667]\n",
      " ...\n",
      " [0.32072407 0.20383402 0.22428507 0.44444444]\n",
      " [0.16807199 0.1381467  0.14870602 0.85185185]\n",
      " [0.3210335  0.21746021 0.22828929 0.55555556]]\n"
     ]
    }
   ],
   "source": [
    "print (X_test)"
   ]
  },
  {
   "cell_type": "code",
   "execution_count": 70,
   "id": "3f955657",
   "metadata": {},
   "outputs": [
    {
     "name": "stdout",
     "output_type": "stream",
     "text": [
      "The Accuracy of ANN model is: 86.04111033664459\n"
     ]
    },
    {
     "data": {
      "text/html": [
       "<div>\n",
       "<style scoped>\n",
       "    .dataframe tbody tr th:only-of-type {\n",
       "        vertical-align: middle;\n",
       "    }\n",
       "\n",
       "    .dataframe tbody tr th {\n",
       "        vertical-align: top;\n",
       "    }\n",
       "\n",
       "    .dataframe thead th {\n",
       "        text-align: right;\n",
       "    }\n",
       "</style>\n",
       "<table border=\"1\" class=\"dataframe\">\n",
       "  <thead>\n",
       "    <tr style=\"text-align: right;\">\n",
       "      <th></th>\n",
       "      <th>MainEngineKW</th>\n",
       "      <th>Deadweight</th>\n",
       "      <th>GrossRatedTonnage</th>\n",
       "      <th>Yearbuilt</th>\n",
       "      <th>Annual_Consumption</th>\n",
       "      <th>Predicted_Annual_Consumption</th>\n",
       "      <th>APE</th>\n",
       "    </tr>\n",
       "  </thead>\n",
       "  <tbody>\n",
       "    <tr>\n",
       "      <th>0</th>\n",
       "      <td>9960.0</td>\n",
       "      <td>49990.0</td>\n",
       "      <td>29806.0</td>\n",
       "      <td>2015.0</td>\n",
       "      <td>90.62</td>\n",
       "      <td>88.003166</td>\n",
       "      <td>2.887700</td>\n",
       "    </tr>\n",
       "    <tr>\n",
       "      <th>1</th>\n",
       "      <td>16080.0</td>\n",
       "      <td>108560.0</td>\n",
       "      <td>60855.0</td>\n",
       "      <td>2019.0</td>\n",
       "      <td>91.13</td>\n",
       "      <td>130.710709</td>\n",
       "      <td>43.433237</td>\n",
       "    </tr>\n",
       "    <tr>\n",
       "      <th>2</th>\n",
       "      <td>18660.0</td>\n",
       "      <td>158670.0</td>\n",
       "      <td>81509.0</td>\n",
       "      <td>2011.0</td>\n",
       "      <td>175.69</td>\n",
       "      <td>168.936844</td>\n",
       "      <td>3.843791</td>\n",
       "    </tr>\n",
       "    <tr>\n",
       "      <th>3</th>\n",
       "      <td>11110.0</td>\n",
       "      <td>111890.0</td>\n",
       "      <td>60435.0</td>\n",
       "      <td>2020.0</td>\n",
       "      <td>123.42</td>\n",
       "      <td>125.006409</td>\n",
       "      <td>1.285374</td>\n",
       "    </tr>\n",
       "    <tr>\n",
       "      <th>4</th>\n",
       "      <td>13450.0</td>\n",
       "      <td>115711.0</td>\n",
       "      <td>62370.0</td>\n",
       "      <td>2017.0</td>\n",
       "      <td>103.07</td>\n",
       "      <td>134.350723</td>\n",
       "      <td>30.349009</td>\n",
       "    </tr>\n",
       "  </tbody>\n",
       "</table>\n",
       "</div>"
      ],
      "text/plain": [
       "   MainEngineKW  Deadweight  GrossRatedTonnage  Yearbuilt  Annual_Consumption  \\\n",
       "0        9960.0     49990.0            29806.0     2015.0               90.62   \n",
       "1       16080.0    108560.0            60855.0     2019.0               91.13   \n",
       "2       18660.0    158670.0            81509.0     2011.0              175.69   \n",
       "3       11110.0    111890.0            60435.0     2020.0              123.42   \n",
       "4       13450.0    115711.0            62370.0     2017.0              103.07   \n",
       "\n",
       "   Predicted_Annual_Consumption        APE  \n",
       "0                     88.003166   2.887700  \n",
       "1                    130.710709  43.433237  \n",
       "2                    168.936844   3.843791  \n",
       "3                    125.006409   1.285374  \n",
       "4                    134.350723  30.349009  "
      ]
     },
     "execution_count": 70,
     "metadata": {},
     "output_type": "execute_result"
    }
   ],
   "source": [
    "# Computing the absolute percent error\n",
    "APE=100*(np.abs(TestingData['Annual_Consumption']-TestingData['Predicted_Annual_Consumption'])/TestingData['Annual_Consumption'])\n",
    "TestingData['APE']=APE\n",
    "MAPE = np.mean(TestingData.APE)\n",
    "print('The Accuracy of ANN model is:', 100-MAPE)\n",
    "TestingData.head()"
   ]
  },
  {
   "cell_type": "code",
   "execution_count": 80,
   "id": "2bb74515",
   "metadata": {},
   "outputs": [
    {
     "name": "stdout",
     "output_type": "stream",
     "text": [
      "Saved model to disk\n"
     ]
    }
   ],
   "source": [
    "model_json = model.to_json()\n",
    "with open(\"model.json\", \"w\") as json_file:\n",
    "    json_file.write(model_json)\n",
    "# serialize weights to HDF5\n",
    "model.save_weights(\"model.h5\")\n",
    "print(\"Saved model to disk\")"
   ]
  },
  {
   "cell_type": "code",
   "execution_count": 84,
   "id": "e3758bfe",
   "metadata": {},
   "outputs": [
    {
     "name": "stdout",
     "output_type": "stream",
     "text": [
      "[[0.22923597 0.02214098 0.04340027 0.33333333]]\n"
     ]
    }
   ],
   "source": [
    "from pickle import load\n",
    "scaler  = load(open('scaler_neural.pkl', 'rb'))\n",
    "scaler_output =  load(open('scaler_neural_output.pkl', 'rb'))\n",
    "test_num = [[10000, 13131, 12222, 2002]]\n",
    "test_num_scaled = scaler.transform(test_num)\n",
    "print (test_num_scaled)"
   ]
  },
  {
   "cell_type": "code",
   "execution_count": 85,
   "id": "cfa5a885",
   "metadata": {},
   "outputs": [
    {
     "name": "stdout",
     "output_type": "stream",
     "text": [
      "[[0.2415066]]\n",
      "(1, 1)\n"
     ]
    }
   ],
   "source": [
    "pred = model.predict(test_num_scaled)\n",
    "print (pred)\n",
    "print (pred.shape)"
   ]
  },
  {
   "cell_type": "code",
   "execution_count": 86,
   "id": "b95849a3",
   "metadata": {},
   "outputs": [
    {
     "name": "stdout",
     "output_type": "stream",
     "text": [
      "[[115.28293]]\n"
     ]
    }
   ],
   "source": [
    "out = scaler_output.inverse_transform(pred)\n",
    "print (out)"
   ]
  },
  {
   "cell_type": "code",
   "execution_count": 69,
   "id": "45e9ecb7",
   "metadata": {},
   "outputs": [
    {
     "data": {
      "text/plain": [
       "Text(0, 0.5, 'Predicted')"
      ]
     },
     "execution_count": 69,
     "metadata": {},
     "output_type": "execute_result"
    },
    {
     "data": {
      "image/png": "[encoded data removed]",
      "text/plain": [
       "<Figure size 1080x720 with 1 Axes>"
      ]
     },
     "metadata": {
      "needs_background": "light"
     },
     "output_type": "display_data"
    }
   ],
   "source": [
    "plt.figure(figsize = (15, 10))\n",
    "plt.scatter(TestingData.Annual_Consumption, TestingData.Predicted_Annual_Consumption)\n",
    "plt.xlabel('Actual')\n",
    "plt.ylabel('Predicted')"
   ]
  },
  {
   "cell_type": "code",
   "execution_count": null,
   "id": "16153f2a",
   "metadata": {},
   "outputs": [],
   "source": []
  }
 ],
 "metadata": {
  "kernelspec": {
   "display_name": "Python 3 (ipykernel)",
   "language": "python",
   "name": "python3"
  },
  "language_info": {
   "codemirror_mode": {
    "name": "ipython",
    "version": 3
   },
   "file_extension": ".py",
   "mimetype": "text/x-python",
   "name": "python",
   "nbconvert_exporter": "python",
   "pygments_lexer": "ipython3",
   "version": "3.9.12"
  }
 },
 "nbformat": 4,
 "nbformat_minor": 5
}
