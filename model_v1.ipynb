{
 "cells": [
  {
   "cell_type": "code",
   "execution_count": 97,
   "id": "83340b65",
   "metadata": {},
   "outputs": [],
   "source": [
    "import pyodbc\n",
    "import pandas as pd\n",
    "import requests\n",
    "import json\n",
    "import numpy as np\n",
    "from datetime import datetime\n",
    "pd.options.mode.chained_assignment = None"
   ]
  },
  {
   "cell_type": "code",
   "execution_count": 98,
   "id": "d358e4a2",
   "metadata": {},
   "outputs": [
    {
     "data": {
      "text/html": [
       "<div>\n",
       "<style scoped>\n",
       "    .dataframe tbody tr th:only-of-type {\n",
       "        vertical-align: middle;\n",
       "    }\n",
       "\n",
       "    .dataframe tbody tr th {\n",
       "        vertical-align: top;\n",
       "    }\n",
       "\n",
       "    .dataframe thead th {\n",
       "        text-align: right;\n",
       "    }\n",
       "</style>\n",
       "<table border=\"1\" class=\"dataframe\">\n",
       "  <thead>\n",
       "    <tr style=\"text-align: right;\">\n",
       "      <th></th>\n",
       "      <th>IMO Number</th>\n",
       "      <th>Name</th>\n",
       "      <th>Ship type</th>\n",
       "      <th>Reporting Period</th>\n",
       "      <th>Technical efficiency</th>\n",
       "      <th>Total fuel consumption [m tonnes]</th>\n",
       "      <th>Total CO₂ emissions [m tonnes]</th>\n",
       "      <th>Annual average Fuel consumption per distance [kg / n mile]</th>\n",
       "      <th>Annual average CO₂ emissions per distance [kg CO₂ / n mile]</th>\n",
       "      <th>Annual average Fuel consumption per transport work (mass) [g / m tonnes · n miles]</th>\n",
       "      <th>Annual average CO₂ emissions per transport work (mass) [g CO₂ / m tonnes · n miles]</th>\n",
       "    </tr>\n",
       "  </thead>\n",
       "  <tbody>\n",
       "    <tr>\n",
       "      <th>0</th>\n",
       "      <td>6602898</td>\n",
       "      <td>OCEAN MAJESTY</td>\n",
       "      <td>Passenger ship</td>\n",
       "      <td>2020</td>\n",
       "      <td>EIV (31.73 gCO₂/t·nm)</td>\n",
       "      <td>951.37</td>\n",
       "      <td>2985.13</td>\n",
       "      <td>132.07</td>\n",
       "      <td>414.4</td>\n",
       "      <td>NaN</td>\n",
       "      <td>NaN</td>\n",
       "    </tr>\n",
       "    <tr>\n",
       "      <th>1</th>\n",
       "      <td>6703343</td>\n",
       "      <td>EQUALITY</td>\n",
       "      <td>Other ship types</td>\n",
       "      <td>2020</td>\n",
       "      <td>EIV (57.84 gCO₂/t·nm)</td>\n",
       "      <td>225.70</td>\n",
       "      <td>706.78</td>\n",
       "      <td>40.75</td>\n",
       "      <td>127.62</td>\n",
       "      <td>67.66</td>\n",
       "      <td>211.88</td>\n",
       "    </tr>\n",
       "    <tr>\n",
       "      <th>2</th>\n",
       "      <td>7037806</td>\n",
       "      <td>IONIAN STAR</td>\n",
       "      <td>Ro-pax ship</td>\n",
       "      <td>2020</td>\n",
       "      <td>EIV (19.4 gCO₂/t·nm)</td>\n",
       "      <td>1543.32</td>\n",
       "      <td>4947.88</td>\n",
       "      <td>103.93</td>\n",
       "      <td>333.19</td>\n",
       "      <td>NaN</td>\n",
       "      <td>NaN</td>\n",
       "    </tr>\n",
       "    <tr>\n",
       "      <th>3</th>\n",
       "      <td>7043843</td>\n",
       "      <td>TALOS</td>\n",
       "      <td>Ro-ro ship</td>\n",
       "      <td>2020</td>\n",
       "      <td>EIV (48.71 gCO₂/t·nm)</td>\n",
       "      <td>2625.33</td>\n",
       "      <td>8416.81</td>\n",
       "      <td>64.28</td>\n",
       "      <td>206.09</td>\n",
       "      <td>168.74</td>\n",
       "      <td>540.98</td>\n",
       "    </tr>\n",
       "    <tr>\n",
       "      <th>4</th>\n",
       "      <td>7128332</td>\n",
       "      <td>SEA WIND</td>\n",
       "      <td>Ro-pax ship</td>\n",
       "      <td>2020</td>\n",
       "      <td>EIV (9.29 gCO₂/t·nm)</td>\n",
       "      <td>4152.78</td>\n",
       "      <td>13137.92</td>\n",
       "      <td>86.64</td>\n",
       "      <td>274.09</td>\n",
       "      <td>NaN</td>\n",
       "      <td>NaN</td>\n",
       "    </tr>\n",
       "  </tbody>\n",
       "</table>\n",
       "</div>"
      ],
      "text/plain": [
       "   IMO Number           Name         Ship type  Reporting Period  \\\n",
       "0     6602898  OCEAN MAJESTY    Passenger ship              2020   \n",
       "1     6703343       EQUALITY  Other ship types              2020   \n",
       "2     7037806    IONIAN STAR       Ro-pax ship              2020   \n",
       "3     7043843          TALOS        Ro-ro ship              2020   \n",
       "4     7128332       SEA WIND       Ro-pax ship              2020   \n",
       "\n",
       "    Technical efficiency  Total fuel consumption [m tonnes]  \\\n",
       "0  EIV (31.73 gCO₂/t·nm)                             951.37   \n",
       "1  EIV (57.84 gCO₂/t·nm)                             225.70   \n",
       "2   EIV (19.4 gCO₂/t·nm)                            1543.32   \n",
       "3  EIV (48.71 gCO₂/t·nm)                            2625.33   \n",
       "4   EIV (9.29 gCO₂/t·nm)                            4152.78   \n",
       "\n",
       "   Total CO₂ emissions [m tonnes]  \\\n",
       "0                         2985.13   \n",
       "1                          706.78   \n",
       "2                         4947.88   \n",
       "3                         8416.81   \n",
       "4                        13137.92   \n",
       "\n",
       "  Annual average Fuel consumption per distance [kg / n mile]  \\\n",
       "0                                             132.07           \n",
       "1                                              40.75           \n",
       "2                                             103.93           \n",
       "3                                              64.28           \n",
       "4                                              86.64           \n",
       "\n",
       "  Annual average CO₂ emissions per distance [kg CO₂ / n mile]  \\\n",
       "0                                              414.4            \n",
       "1                                             127.62            \n",
       "2                                             333.19            \n",
       "3                                             206.09            \n",
       "4                                             274.09            \n",
       "\n",
       "  Annual average Fuel consumption per transport work (mass) [g / m tonnes · n miles]  \\\n",
       "0                                                NaN                                   \n",
       "1                                              67.66                                   \n",
       "2                                                NaN                                   \n",
       "3                                             168.74                                   \n",
       "4                                                NaN                                   \n",
       "\n",
       "  Annual average CO₂ emissions per transport work (mass) [g CO₂ / m tonnes · n miles]  \n",
       "0                                                NaN                                   \n",
       "1                                             211.88                                   \n",
       "2                                                NaN                                   \n",
       "3                                             540.98                                   \n",
       "4                                                NaN                                   "
      ]
     },
     "execution_count": 98,
     "metadata": {},
     "output_type": "execute_result"
    }
   ],
   "source": [
    "data = pd.read_csv('./MRV Data - Curated_info.csv')\n",
    "data.head()"
   ]
  },
  {
   "cell_type": "markdown",
   "id": "37d74409",
   "metadata": {},
   "source": [
    "Keep only the oil tankers with values on total fuel.\n",
    "\n",
    "Replace 'division by zero' with NaN.\n",
    "\n",
    "New pandas with imo, name, vesselclass, annual cons per distance, annual emission per distance."
   ]
  },
  {
   "cell_type": "code",
   "execution_count": 99,
   "id": "46f4993e",
   "metadata": {},
   "outputs": [
    {
     "data": {
      "text/html": [
       "<div>\n",
       "<style scoped>\n",
       "    .dataframe tbody tr th:only-of-type {\n",
       "        vertical-align: middle;\n",
       "    }\n",
       "\n",
       "    .dataframe tbody tr th {\n",
       "        vertical-align: top;\n",
       "    }\n",
       "\n",
       "    .dataframe thead th {\n",
       "        text-align: right;\n",
       "    }\n",
       "</style>\n",
       "<table border=\"1\" class=\"dataframe\">\n",
       "  <thead>\n",
       "    <tr style=\"text-align: right;\">\n",
       "      <th></th>\n",
       "      <th>IMO</th>\n",
       "      <th>Name</th>\n",
       "      <th>Ship type</th>\n",
       "      <th>Reporting Period</th>\n",
       "      <th>Technical efficiency</th>\n",
       "      <th>Total fuel consumption [m tonnes]</th>\n",
       "      <th>Total CO₂ emissions [m tonnes]</th>\n",
       "      <th>Annual average Fuel consumption per distance [kg / n mile]</th>\n",
       "      <th>Annual average CO₂ emissions per distance [kg CO₂ / n mile]</th>\n",
       "      <th>Annual average Fuel consumption per transport work (mass) [g / m tonnes · n miles]</th>\n",
       "      <th>Annual average CO₂ emissions per transport work (mass) [g CO₂ / m tonnes · n miles]</th>\n",
       "    </tr>\n",
       "  </thead>\n",
       "  <tbody>\n",
       "    <tr>\n",
       "      <th>249</th>\n",
       "      <td>8905787</td>\n",
       "      <td>IRINI</td>\n",
       "      <td>Oil tanker</td>\n",
       "      <td>2020</td>\n",
       "      <td>EIV (10.4 gCO₂/t·nm)</td>\n",
       "      <td>2216.30</td>\n",
       "      <td>7050.58</td>\n",
       "      <td>84.58</td>\n",
       "      <td>269.07</td>\n",
       "      <td>15.42</td>\n",
       "      <td>49.07</td>\n",
       "    </tr>\n",
       "    <tr>\n",
       "      <th>345</th>\n",
       "      <td>9010929</td>\n",
       "      <td>ZIRCONE</td>\n",
       "      <td>Oil tanker</td>\n",
       "      <td>2020</td>\n",
       "      <td>EIV (20.45 gCO₂/t·nm)</td>\n",
       "      <td>1900.10</td>\n",
       "      <td>5917.99</td>\n",
       "      <td>123.98</td>\n",
       "      <td>386.14</td>\n",
       "      <td>28.1</td>\n",
       "      <td>87.51</td>\n",
       "    </tr>\n",
       "    <tr>\n",
       "      <th>613</th>\n",
       "      <td>9125279</td>\n",
       "      <td>NORMANNA</td>\n",
       "      <td>Oil tanker</td>\n",
       "      <td>2020</td>\n",
       "      <td>EIV (15.36 gCO₂/t·nm)</td>\n",
       "      <td>2088.77</td>\n",
       "      <td>6550.71</td>\n",
       "      <td>82.97</td>\n",
       "      <td>260.19</td>\n",
       "      <td>10.3</td>\n",
       "      <td>32.3</td>\n",
       "    </tr>\n",
       "    <tr>\n",
       "      <th>744</th>\n",
       "      <td>9145437</td>\n",
       "      <td>CASTILLO DE MONTERREAL</td>\n",
       "      <td>Oil tanker</td>\n",
       "      <td>2020</td>\n",
       "      <td>EIV (7.64 gCO₂/t·nm)</td>\n",
       "      <td>3617.50</td>\n",
       "      <td>11345.81</td>\n",
       "      <td>121.91</td>\n",
       "      <td>382.36</td>\n",
       "      <td>11.14</td>\n",
       "      <td>34.93</td>\n",
       "    </tr>\n",
       "    <tr>\n",
       "      <th>782</th>\n",
       "      <td>9150614</td>\n",
       "      <td>HAI GONG YOU 306</td>\n",
       "      <td>Oil tanker</td>\n",
       "      <td>2020</td>\n",
       "      <td>EIV (12.59 gCO₂/t·nm)</td>\n",
       "      <td>1220.84</td>\n",
       "      <td>3840.79</td>\n",
       "      <td>77.04</td>\n",
       "      <td>242.37</td>\n",
       "      <td>7.97</td>\n",
       "      <td>25.08</td>\n",
       "    </tr>\n",
       "  </tbody>\n",
       "</table>\n",
       "</div>"
      ],
      "text/plain": [
       "         IMO                    Name   Ship type  Reporting Period  \\\n",
       "249  8905787                   IRINI  Oil tanker              2020   \n",
       "345  9010929                 ZIRCONE  Oil tanker              2020   \n",
       "613  9125279                NORMANNA  Oil tanker              2020   \n",
       "744  9145437  CASTILLO DE MONTERREAL  Oil tanker              2020   \n",
       "782  9150614        HAI GONG YOU 306  Oil tanker              2020   \n",
       "\n",
       "      Technical efficiency  Total fuel consumption [m tonnes]  \\\n",
       "249   EIV (10.4 gCO₂/t·nm)                            2216.30   \n",
       "345  EIV (20.45 gCO₂/t·nm)                            1900.10   \n",
       "613  EIV (15.36 gCO₂/t·nm)                            2088.77   \n",
       "744   EIV (7.64 gCO₂/t·nm)                            3617.50   \n",
       "782  EIV (12.59 gCO₂/t·nm)                            1220.84   \n",
       "\n",
       "     Total CO₂ emissions [m tonnes]  \\\n",
       "249                         7050.58   \n",
       "345                         5917.99   \n",
       "613                         6550.71   \n",
       "744                        11345.81   \n",
       "782                         3840.79   \n",
       "\n",
       "    Annual average Fuel consumption per distance [kg / n mile]  \\\n",
       "249                                              84.58           \n",
       "345                                             123.98           \n",
       "613                                              82.97           \n",
       "744                                             121.91           \n",
       "782                                              77.04           \n",
       "\n",
       "    Annual average CO₂ emissions per distance [kg CO₂ / n mile]  \\\n",
       "249                                             269.07            \n",
       "345                                             386.14            \n",
       "613                                             260.19            \n",
       "744                                             382.36            \n",
       "782                                             242.37            \n",
       "\n",
       "    Annual average Fuel consumption per transport work (mass) [g / m tonnes · n miles]  \\\n",
       "249                                              15.42                                   \n",
       "345                                               28.1                                   \n",
       "613                                               10.3                                   \n",
       "744                                              11.14                                   \n",
       "782                                               7.97                                   \n",
       "\n",
       "    Annual average CO₂ emissions per transport work (mass) [g CO₂ / m tonnes · n miles]  \n",
       "249                                              49.07                                   \n",
       "345                                              87.51                                   \n",
       "613                                               32.3                                   \n",
       "744                                              34.93                                   \n",
       "782                                              25.08                                   "
      ]
     },
     "execution_count": 99,
     "metadata": {},
     "output_type": "execute_result"
    }
   ],
   "source": [
    "data = data[(data['Ship type']=='Oil tanker') \n",
    "            &(data['Total fuel consumption [m tonnes]'] > 0) \n",
    "            &(data['Total CO₂ emissions [m tonnes]'] > 0)]\n",
    "data['Annual average Fuel consumption per transport work (mass) [g / m tonnes · n miles]'] =(\n",
    "    data['Annual average Fuel consumption per transport work (mass) [g / m tonnes · n miles]']\n",
    "    .apply(lambda x: np.nan if x=='Division by zero!' else x))\n",
    "data['Annual average CO₂ emissions per transport work (mass) [g CO₂ / m tonnes · n miles]'] = (\n",
    "    data['Annual average CO₂ emissions per transport work (mass) [g CO₂ / m tonnes · n miles]']\n",
    "    .apply(lambda x: np.nan if x=='Division by zero!' else x))\n",
    "data.rename(columns= {'IMO Number' : 'IMO'}, inplace=True)\n",
    "\n",
    "data.head()"
   ]
  },
  {
   "cell_type": "code",
   "execution_count": 4,
   "id": "a2d8d117",
   "metadata": {},
   "outputs": [
    {
     "name": "stdout",
     "output_type": "stream",
     "text": [
      "<class 'pandas.core.frame.DataFrame'>\n",
      "Int64Index: 1861 entries, 249 to 11823\n",
      "Data columns (total 11 columns):\n",
      " #   Column                                                                               Non-Null Count  Dtype  \n",
      "---  ------                                                                               --------------  -----  \n",
      " 0   IMO Number                                                                           1861 non-null   int64  \n",
      " 1   Name                                                                                 1861 non-null   object \n",
      " 2   Ship type                                                                            1861 non-null   object \n",
      " 3   Reporting Period                                                                     1861 non-null   int64  \n",
      " 4   Technical efficiency                                                                 1861 non-null   object \n",
      " 5   Total fuel consumption [m tonnes]                                                    1861 non-null   float64\n",
      " 6   Total CO₂ emissions [m tonnes]                                                       1861 non-null   float64\n",
      " 7   Annual average Fuel consumption per distance [kg / n mile]                           1861 non-null   object \n",
      " 8   Annual average CO₂ emissions per distance [kg CO₂ / n mile]                          1861 non-null   object \n",
      " 9   Annual average Fuel consumption per transport work (mass) [g / m tonnes · n miles]   1835 non-null   object \n",
      " 10  Annual average CO₂ emissions per transport work (mass) [g CO₂ / m tonnes · n miles]  1835 non-null   object \n",
      "dtypes: float64(2), int64(2), object(7)\n",
      "memory usage: 174.5+ KB\n"
     ]
    }
   ],
   "source": [
    "data.info()"
   ]
  },
  {
   "cell_type": "code",
   "execution_count": 100,
   "id": "f41c03cc",
   "metadata": {},
   "outputs": [],
   "source": [
    "data.dropna(subset=['Annual average Fuel consumption per transport work (mass) [g / m tonnes · n miles]', \n",
    "                    'Annual average CO₂ emissions per transport work (mass) [g CO₂ / m tonnes · n miles]'], inplace = True)"
   ]
  },
  {
   "cell_type": "code",
   "execution_count": 101,
   "id": "4895d9b2",
   "metadata": {},
   "outputs": [
    {
     "name": "stdout",
     "output_type": "stream",
     "text": [
      "<class 'pandas.core.frame.DataFrame'>\n",
      "Int64Index: 1835 entries, 249 to 11823\n",
      "Data columns (total 11 columns):\n",
      " #   Column                                                                               Non-Null Count  Dtype  \n",
      "---  ------                                                                               --------------  -----  \n",
      " 0   IMO                                                                                  1835 non-null   int64  \n",
      " 1   Name                                                                                 1835 non-null   object \n",
      " 2   Ship type                                                                            1835 non-null   object \n",
      " 3   Reporting Period                                                                     1835 non-null   int64  \n",
      " 4   Technical efficiency                                                                 1835 non-null   object \n",
      " 5   Total fuel consumption [m tonnes]                                                    1835 non-null   float64\n",
      " 6   Total CO₂ emissions [m tonnes]                                                       1835 non-null   float64\n",
      " 7   Annual average Fuel consumption per distance [kg / n mile]                           1835 non-null   object \n",
      " 8   Annual average CO₂ emissions per distance [kg CO₂ / n mile]                          1835 non-null   object \n",
      " 9   Annual average Fuel consumption per transport work (mass) [g / m tonnes · n miles]   1835 non-null   object \n",
      " 10  Annual average CO₂ emissions per transport work (mass) [g CO₂ / m tonnes · n miles]  1835 non-null   object \n",
      "dtypes: float64(2), int64(2), object(7)\n",
      "memory usage: 172.0+ KB\n"
     ]
    }
   ],
   "source": [
    "data.info()"
   ]
  },
  {
   "cell_type": "code",
   "execution_count": 102,
   "id": "b0d5589e",
   "metadata": {},
   "outputs": [],
   "source": [
    "#float \n",
    "data['Annual average Fuel consumption per distance [kg / n mile]'] = data['Annual average Fuel consumption per distance [kg / n mile]'].astype(float)\n",
    "data['Annual average CO₂ emissions per distance [kg CO₂ / n mile]'] = data['Annual average CO₂ emissions per distance [kg CO₂ / n mile]'].astype(float)"
   ]
  },
  {
   "cell_type": "code",
   "execution_count": 103,
   "id": "fb50d417",
   "metadata": {},
   "outputs": [
    {
     "name": "stdout",
     "output_type": "stream",
     "text": [
      "<class 'pandas.core.frame.DataFrame'>\n",
      "Int64Index: 1835 entries, 249 to 11823\n",
      "Data columns (total 11 columns):\n",
      " #   Column                                                                               Non-Null Count  Dtype  \n",
      "---  ------                                                                               --------------  -----  \n",
      " 0   IMO                                                                                  1835 non-null   int64  \n",
      " 1   Name                                                                                 1835 non-null   object \n",
      " 2   Ship type                                                                            1835 non-null   object \n",
      " 3   Reporting Period                                                                     1835 non-null   int64  \n",
      " 4   Technical efficiency                                                                 1835 non-null   object \n",
      " 5   Total fuel consumption [m tonnes]                                                    1835 non-null   float64\n",
      " 6   Total CO₂ emissions [m tonnes]                                                       1835 non-null   float64\n",
      " 7   Annual average Fuel consumption per distance [kg / n mile]                           1835 non-null   float64\n",
      " 8   Annual average CO₂ emissions per distance [kg CO₂ / n mile]                          1835 non-null   float64\n",
      " 9   Annual average Fuel consumption per transport work (mass) [g / m tonnes · n miles]   1835 non-null   object \n",
      " 10  Annual average CO₂ emissions per transport work (mass) [g CO₂ / m tonnes · n miles]  1835 non-null   object \n",
      "dtypes: float64(4), int64(2), object(5)\n",
      "memory usage: 172.0+ KB\n"
     ]
    }
   ],
   "source": [
    "data.info()"
   ]
  },
  {
   "cell_type": "code",
   "execution_count": 104,
   "id": "9095a08b",
   "metadata": {},
   "outputs": [],
   "source": [
    "#columns = ['IMO','Vessel Name', 'Main Engine RPM', \n",
    "#           'Deadweight', 'Gross Rated Tonnage', 'YearBuilt', \n",
    "#           'Annual average fuel consumption per distance']\n",
    "\n",
    "columns = ['IMO', 'Main Engine RPM','Deadweight', \n",
    "           'Gross Rated Tonnage', 'YearBuilt']\n",
    "\n",
    "vessel_info = pd.DataFrame(columns=columns)"
   ]
  },
  {
   "cell_type": "code",
   "execution_count": 105,
   "id": "daea8790",
   "metadata": {},
   "outputs": [
    {
     "data": {
      "text/html": [
       "<div>\n",
       "<style scoped>\n",
       "    .dataframe tbody tr th:only-of-type {\n",
       "        vertical-align: middle;\n",
       "    }\n",
       "\n",
       "    .dataframe tbody tr th {\n",
       "        vertical-align: top;\n",
       "    }\n",
       "\n",
       "    .dataframe thead th {\n",
       "        text-align: right;\n",
       "    }\n",
       "</style>\n",
       "<table border=\"1\" class=\"dataframe\">\n",
       "  <thead>\n",
       "    <tr style=\"text-align: right;\">\n",
       "      <th></th>\n",
       "      <th>IMO</th>\n",
       "      <th>Main Engine RPM</th>\n",
       "      <th>Deadweight</th>\n",
       "      <th>Gross Rated Tonnage</th>\n",
       "      <th>YearBuilt</th>\n",
       "    </tr>\n",
       "  </thead>\n",
       "  <tbody>\n",
       "  </tbody>\n",
       "</table>\n",
       "</div>"
      ],
      "text/plain": [
       "Empty DataFrame\n",
       "Columns: [IMO, Main Engine RPM, Deadweight, Gross Rated Tonnage, YearBuilt]\n",
       "Index: []"
      ]
     },
     "execution_count": 105,
     "metadata": {},
     "output_type": "execute_result"
    }
   ],
   "source": [
    "vessel_info"
   ]
  },
  {
   "cell_type": "code",
   "execution_count": 110,
   "id": "e11738bf",
   "metadata": {},
   "outputs": [
    {
     "name": "stdout",
     "output_type": "stream",
     "text": [
      "1835\n"
     ]
    }
   ],
   "source": [
    "imolist = data.IMO.tolist()\n",
    "print(len(imolist))"
   ]
  },
  {
   "cell_type": "code",
   "execution_count": null,
   "id": "06dfa924",
   "metadata": {},
   "outputs": [],
   "source": [
    "### Connected to db's here and got some info. Removed the code"
   ]
  },
  {
   "cell_type": "code",
   "execution_count": 112,
   "id": "4dfddc67",
   "metadata": {},
   "outputs": [],
   "source": [
    "coma_list = ','.join([str(i) for i in imolist])"
   ]
  },
  {
   "cell_type": "code",
   "execution_count": 113,
   "id": "90356b1c",
   "metadata": {},
   "outputs": [],
   "source": [
    "vessel_info = get_vessel_info(coma_list)"
   ]
  },
  {
   "cell_type": "code",
   "execution_count": 114,
   "id": "40ca6216",
   "metadata": {},
   "outputs": [
    {
     "name": "stdout",
     "output_type": "stream",
     "text": [
      "<class 'pandas.core.frame.DataFrame'>\n",
      "RangeIndex: 1812 entries, 0 to 1811\n",
      "Data columns (total 5 columns):\n",
      " #   Column             Non-Null Count  Dtype  \n",
      "---  ------             --------------  -----  \n",
      " 0   IMO                1812 non-null   int64  \n",
      " 1   MainEngineRPM      1714 non-null   float64\n",
      " 2   Deadweight         1812 non-null   int64  \n",
      " 3   GrossRatedTonnage  1812 non-null   int64  \n",
      " 4   Yearbuilt          1812 non-null   int64  \n",
      "dtypes: float64(1), int64(4)\n",
      "memory usage: 70.9 KB\n"
     ]
    }
   ],
   "source": [
    "vessel_info.info()"
   ]
  },
  {
   "cell_type": "code",
   "execution_count": 115,
   "id": "477db330",
   "metadata": {},
   "outputs": [
    {
     "data": {
      "text/html": [
       "<div>\n",
       "<style scoped>\n",
       "    .dataframe tbody tr th:only-of-type {\n",
       "        vertical-align: middle;\n",
       "    }\n",
       "\n",
       "    .dataframe tbody tr th {\n",
       "        vertical-align: top;\n",
       "    }\n",
       "\n",
       "    .dataframe thead th {\n",
       "        text-align: right;\n",
       "    }\n",
       "</style>\n",
       "<table border=\"1\" class=\"dataframe\">\n",
       "  <thead>\n",
       "    <tr style=\"text-align: right;\">\n",
       "      <th></th>\n",
       "      <th>IMO</th>\n",
       "      <th>Annual average Fuel consumption per distance [kg / n mile]</th>\n",
       "    </tr>\n",
       "  </thead>\n",
       "  <tbody>\n",
       "    <tr>\n",
       "      <th>249</th>\n",
       "      <td>8905787</td>\n",
       "      <td>84.58</td>\n",
       "    </tr>\n",
       "    <tr>\n",
       "      <th>345</th>\n",
       "      <td>9010929</td>\n",
       "      <td>123.98</td>\n",
       "    </tr>\n",
       "    <tr>\n",
       "      <th>613</th>\n",
       "      <td>9125279</td>\n",
       "      <td>82.97</td>\n",
       "    </tr>\n",
       "    <tr>\n",
       "      <th>744</th>\n",
       "      <td>9145437</td>\n",
       "      <td>121.91</td>\n",
       "    </tr>\n",
       "    <tr>\n",
       "      <th>782</th>\n",
       "      <td>9150614</td>\n",
       "      <td>77.04</td>\n",
       "    </tr>\n",
       "  </tbody>\n",
       "</table>\n",
       "</div>"
      ],
      "text/plain": [
       "         IMO  Annual average Fuel consumption per distance [kg / n mile]\n",
       "249  8905787                                              84.58         \n",
       "345  9010929                                             123.98         \n",
       "613  9125279                                              82.97         \n",
       "744  9145437                                             121.91         \n",
       "782  9150614                                              77.04         "
      ]
     },
     "execution_count": 115,
     "metadata": {},
     "output_type": "execute_result"
    }
   ],
   "source": [
    "avg_cons_per_distance = data[['IMO', 'Annual average Fuel consumption per distance [kg / n mile]']]\n",
    "avg_cons_per_distance.head()"
   ]
  },
  {
   "cell_type": "markdown",
   "id": "f89dc8f4",
   "metadata": {},
   "source": [
    "## Merge the MRV dataset with some info from the database"
   ]
  },
  {
   "cell_type": "code",
   "execution_count": 116,
   "id": "d4908bac",
   "metadata": {},
   "outputs": [],
   "source": [
    "vessel_info_1 = pd.merge(vessel_info, avg_cons_per_distance, how = 'left', on=['IMO'])"
   ]
  },
  {
   "cell_type": "code",
   "execution_count": 117,
   "id": "6adecf4a",
   "metadata": {},
   "outputs": [
    {
     "data": {
      "text/html": [
       "<div>\n",
       "<style scoped>\n",
       "    .dataframe tbody tr th:only-of-type {\n",
       "        vertical-align: middle;\n",
       "    }\n",
       "\n",
       "    .dataframe tbody tr th {\n",
       "        vertical-align: top;\n",
       "    }\n",
       "\n",
       "    .dataframe thead th {\n",
       "        text-align: right;\n",
       "    }\n",
       "</style>\n",
       "<table border=\"1\" class=\"dataframe\">\n",
       "  <thead>\n",
       "    <tr style=\"text-align: right;\">\n",
       "      <th></th>\n",
       "      <th>IMO</th>\n",
       "      <th>MainEngineRPM</th>\n",
       "      <th>Deadweight</th>\n",
       "      <th>GrossRatedTonnage</th>\n",
       "      <th>Yearbuilt</th>\n",
       "      <th>Annual average Fuel consumption per distance [kg / n mile]</th>\n",
       "    </tr>\n",
       "  </thead>\n",
       "  <tbody>\n",
       "    <tr>\n",
       "      <th>0</th>\n",
       "      <td>9199713</td>\n",
       "      <td>104.0</td>\n",
       "      <td>106644</td>\n",
       "      <td>57331</td>\n",
       "      <td>1999</td>\n",
       "      <td>158.15</td>\n",
       "    </tr>\n",
       "    <tr>\n",
       "      <th>1</th>\n",
       "      <td>9227443</td>\n",
       "      <td>91.0</td>\n",
       "      <td>164214</td>\n",
       "      <td>84598</td>\n",
       "      <td>2002</td>\n",
       "      <td>175.07</td>\n",
       "    </tr>\n",
       "    <tr>\n",
       "      <th>2</th>\n",
       "      <td>9248796</td>\n",
       "      <td>127.0</td>\n",
       "      <td>39975</td>\n",
       "      <td>25287</td>\n",
       "      <td>2003</td>\n",
       "      <td>108.13</td>\n",
       "    </tr>\n",
       "    <tr>\n",
       "      <th>3</th>\n",
       "      <td>9248801</td>\n",
       "      <td>127.0</td>\n",
       "      <td>40039</td>\n",
       "      <td>25287</td>\n",
       "      <td>2003</td>\n",
       "      <td>99.63</td>\n",
       "    </tr>\n",
       "    <tr>\n",
       "      <th>4</th>\n",
       "      <td>9249075</td>\n",
       "      <td>82.0</td>\n",
       "      <td>166739</td>\n",
       "      <td>84315</td>\n",
       "      <td>2004</td>\n",
       "      <td>227.72</td>\n",
       "    </tr>\n",
       "  </tbody>\n",
       "</table>\n",
       "</div>"
      ],
      "text/plain": [
       "       IMO  MainEngineRPM  Deadweight  GrossRatedTonnage  Yearbuilt  \\\n",
       "0  9199713          104.0      106644              57331       1999   \n",
       "1  9227443           91.0      164214              84598       2002   \n",
       "2  9248796          127.0       39975              25287       2003   \n",
       "3  9248801          127.0       40039              25287       2003   \n",
       "4  9249075           82.0      166739              84315       2004   \n",
       "\n",
       "   Annual average Fuel consumption per distance [kg / n mile]  \n",
       "0                                             158.15           \n",
       "1                                             175.07           \n",
       "2                                             108.13           \n",
       "3                                              99.63           \n",
       "4                                             227.72           "
      ]
     },
     "execution_count": 117,
     "metadata": {},
     "output_type": "execute_result"
    }
   ],
   "source": [
    "vessel_info_1.head()"
   ]
  },
  {
   "cell_type": "code",
   "execution_count": 118,
   "id": "9e03245b",
   "metadata": {},
   "outputs": [],
   "source": [
    "vessel_info_1.dropna(subset=['MainEngineRPM'], inplace = True)"
   ]
  },
  {
   "cell_type": "code",
   "execution_count": 119,
   "id": "f48a7240",
   "metadata": {},
   "outputs": [
    {
     "name": "stdout",
     "output_type": "stream",
     "text": [
      "<class 'pandas.core.frame.DataFrame'>\n",
      "Int64Index: 1714 entries, 0 to 1811\n",
      "Data columns (total 6 columns):\n",
      " #   Column                                                      Non-Null Count  Dtype  \n",
      "---  ------                                                      --------------  -----  \n",
      " 0   IMO                                                         1714 non-null   int64  \n",
      " 1   MainEngineRPM                                               1714 non-null   float64\n",
      " 2   Deadweight                                                  1714 non-null   int64  \n",
      " 3   GrossRatedTonnage                                           1714 non-null   int64  \n",
      " 4   Yearbuilt                                                   1714 non-null   int64  \n",
      " 5   Annual average Fuel consumption per distance [kg / n mile]  1714 non-null   float64\n",
      "dtypes: float64(2), int64(4)\n",
      "memory usage: 93.7 KB\n"
     ]
    }
   ],
   "source": [
    "vessel_info_1.info()"
   ]
  },
  {
   "cell_type": "markdown",
   "id": "2413818d",
   "metadata": {},
   "source": [
    "This is linear regression with avg fuel consumption per distance as the dependant variable"
   ]
  },
  {
   "cell_type": "code",
   "execution_count": 120,
   "id": "67f89988",
   "metadata": {},
   "outputs": [
    {
     "data": {
      "text/plain": [
       "array([[1.04000e+02, 1.06644e+05, 5.73310e+04, 1.99900e+03],\n",
       "       [9.10000e+01, 1.64214e+05, 8.45980e+04, 2.00200e+03],\n",
       "       [1.27000e+02, 3.99750e+04, 2.52870e+04, 2.00300e+03],\n",
       "       ...,\n",
       "       [1.11000e+02, 3.74300e+04, 2.34200e+04, 2.01900e+03],\n",
       "       [6.60000e+01, 3.02000e+05, 1.57208e+05, 2.02000e+03],\n",
       "       [6.60000e+01, 2.99772e+05, 1.54046e+05, 2.02000e+03]])"
      ]
     },
     "execution_count": 120,
     "metadata": {},
     "output_type": "execute_result"
    }
   ],
   "source": [
    "x = vessel_info_1.drop(['Annual average Fuel consumption per distance [kg / n mile]', 'IMO'], axis = 1).values\n",
    "x"
   ]
  },
  {
   "cell_type": "code",
   "execution_count": 121,
   "id": "ed85ac0a",
   "metadata": {},
   "outputs": [
    {
     "data": {
      "text/plain": [
       "array([158.15, 175.07, 108.13, ..., 117.8 , 200.28, 446.26])"
      ]
     },
     "execution_count": 121,
     "metadata": {},
     "output_type": "execute_result"
    }
   ],
   "source": [
    "#y = data['Annual average Fuel consumption per distance [kg / n mile]'].values\n",
    "y = vessel_info_1['Annual average Fuel consumption per distance [kg / n mile]'].values\n",
    "y\n"
   ]
  },
  {
   "cell_type": "code",
   "execution_count": 123,
   "id": "434c1272",
   "metadata": {},
   "outputs": [],
   "source": [
    "from sklearn.model_selection import train_test_split\n",
    "\n",
    "x_train, x_test, y_train, y_test = train_test_split(x, y, test_size = 0.1, random_state=0)"
   ]
  },
  {
   "cell_type": "code",
   "execution_count": 124,
   "id": "d028cecd",
   "metadata": {},
   "outputs": [
    {
     "data": {
      "text/plain": [
       "LinearRegression()"
      ]
     },
     "execution_count": 124,
     "metadata": {},
     "output_type": "execute_result"
    }
   ],
   "source": [
    "from sklearn.linear_model import LinearRegression\n",
    "\n",
    "ml = LinearRegression()\n",
    "ml.fit(x_train, y_train)"
   ]
  },
  {
   "cell_type": "code",
   "execution_count": 125,
   "id": "0d1d0bd2",
   "metadata": {
    "scrolled": true
   },
   "outputs": [
    {
     "name": "stdout",
     "output_type": "stream",
     "text": [
      "[ 83.60901216 126.1115564  114.35581392  79.2490548  149.68565761\n",
      " 142.21057125 137.61466447 130.5212444  259.89162119 140.78639012\n",
      " 152.6264207  116.79859533  98.81252073 102.74567052 159.55746553\n",
      " 179.46432136 121.16540512 128.2168372  134.02371152 145.71608417\n",
      " 170.40887752 123.34479922 152.09160305 129.38008199  98.72271757\n",
      " 132.44881864 110.40023068 164.16324886 173.01638683 155.11942613\n",
      " 108.14298871 142.39367804 151.71727982 176.20693036 125.07563605\n",
      " 116.97100239 133.85237951 117.69111091  90.54276701 148.85676533\n",
      " 131.6326502  281.03333277 136.43187262 183.79318272 170.23906051\n",
      " 141.6032268  160.11798331 274.08875259 136.21115808  83.64534612\n",
      " 156.23523953 152.64590046  83.6108616  142.80520131  86.81205011\n",
      " 119.14715471 145.42442982 111.82502165 111.63556457 141.33849832\n",
      " 119.4984842  116.7143766  149.22235917 148.83647356  91.82292939\n",
      "  87.26082774 160.91791881 142.38258144 143.71992544 135.20319848\n",
      " 175.97248365 177.84107812 150.03941176 110.40640088  78.2359889\n",
      " 110.77437854 150.04126119 125.64278337 123.80983361 162.460871\n",
      " 144.42988325 164.29929652 123.11316273 135.01299682 118.2407556\n",
      " 260.15874577 170.23130054 118.87155134 277.60303403 159.48001431\n",
      " 120.179076   167.5760233  153.56247338 120.84808681 153.76730413\n",
      " 108.27565075 149.4664843   92.07714491 217.99805075  85.24907753\n",
      " 131.53486194 121.55908916 147.49097535 148.19809983 148.39394477\n",
      " 113.89382626 157.3645458  113.90200771 142.32153522 115.51284687\n",
      " 101.84190702 114.15252137 102.92999869 139.60524571 120.1255635\n",
      " 108.29576393 173.17829251 109.12260112 144.37847918 101.92714089\n",
      " 187.67594187 131.55442707 149.89576057 138.0226733  135.88453064\n",
      " 182.33070155 150.83404979 246.98252367 130.60523773 148.01086733\n",
      " 152.19908635  84.20749421 170.38451889 179.31841053 125.06992379\n",
      " 120.95199158 106.57151526 135.50372905 147.21010365 152.63480386\n",
      " 188.51121419 139.06366569 129.34618035  89.65327744 132.6973838\n",
      " 119.75185649 133.85091938 133.17148806 140.52412762 101.32933082\n",
      " 107.92003248 125.64278337  92.15366427 158.29861833 261.43083401\n",
      " 134.89922541 159.44724745 122.95269042 196.58597133 130.59558863\n",
      " 282.67488272 135.01299682 106.57151526  97.99362958 149.59664697\n",
      " 130.86531459 160.41944086  94.26936871 137.9152028  146.82878085\n",
      " 155.70862104 135.51279338]\n"
     ]
    }
   ],
   "source": [
    "y_pred = ml.predict(x_test)\n",
    "print (y_pred)"
   ]
  },
  {
   "cell_type": "markdown",
   "id": "0c5ee8c8",
   "metadata": {},
   "source": [
    "evaluate the model"
   ]
  },
  {
   "cell_type": "code",
   "execution_count": 128,
   "id": "dd686b65",
   "metadata": {},
   "outputs": [
    {
     "data": {
      "text/plain": [
       "0.612792668751048"
      ]
     },
     "execution_count": 128,
     "metadata": {},
     "output_type": "execute_result"
    }
   ],
   "source": [
    "from sklearn.metrics import r2_score\n",
    "r2_score(y_test, y_pred)"
   ]
  },
  {
   "cell_type": "markdown",
   "id": "0c24196e",
   "metadata": {},
   "source": [
    "plot results"
   ]
  },
  {
   "cell_type": "code",
   "execution_count": 132,
   "id": "f8169814",
   "metadata": {},
   "outputs": [
    {
     "data": {
      "text/plain": [
       "Text(0, 0.5, 'Predicted')"
      ]
     },
     "execution_count": 132,
     "metadata": {},
     "output_type": "execute_result"
    },
    {
     "data": {
      "image/png": "[encoded data removed]",
      "text/plain": [
       "<Figure size 1080x720 with 1 Axes>"
      ]
     },
     "metadata": {
      "needs_background": "light"
     },
     "output_type": "display_data"
    }
   ],
   "source": [
    "import matplotlib.pyplot as plt\n",
    "plt.figure(figsize = (15, 10))\n",
    "plt.scatter(y_test, y_pred)\n",
    "plt.xlabel('Actual')\n",
    "plt.ylabel('Predicted')"
   ]
  },
  {
   "cell_type": "code",
   "execution_count": 133,
   "id": "93dbfe3f",
   "metadata": {},
   "outputs": [
    {
     "data": {
      "text/html": [
       "<div>\n",
       "<style scoped>\n",
       "    .dataframe tbody tr th:only-of-type {\n",
       "        vertical-align: middle;\n",
       "    }\n",
       "\n",
       "    .dataframe tbody tr th {\n",
       "        vertical-align: top;\n",
       "    }\n",
       "\n",
       "    .dataframe thead th {\n",
       "        text-align: right;\n",
       "    }\n",
       "</style>\n",
       "<table border=\"1\" class=\"dataframe\">\n",
       "  <thead>\n",
       "    <tr style=\"text-align: right;\">\n",
       "      <th></th>\n",
       "      <th>Actual Value</th>\n",
       "      <th>Predicted Value</th>\n",
       "      <th>Difference</th>\n",
       "    </tr>\n",
       "  </thead>\n",
       "  <tbody>\n",
       "    <tr>\n",
       "      <th>0</th>\n",
       "      <td>55.83</td>\n",
       "      <td>83.609012</td>\n",
       "      <td>-27.779012</td>\n",
       "    </tr>\n",
       "    <tr>\n",
       "      <th>1</th>\n",
       "      <td>98.94</td>\n",
       "      <td>126.111556</td>\n",
       "      <td>-27.171556</td>\n",
       "    </tr>\n",
       "    <tr>\n",
       "      <th>2</th>\n",
       "      <td>84.96</td>\n",
       "      <td>114.355814</td>\n",
       "      <td>-29.395814</td>\n",
       "    </tr>\n",
       "    <tr>\n",
       "      <th>3</th>\n",
       "      <td>98.99</td>\n",
       "      <td>79.249055</td>\n",
       "      <td>19.740945</td>\n",
       "    </tr>\n",
       "    <tr>\n",
       "      <th>4</th>\n",
       "      <td>166.33</td>\n",
       "      <td>149.685658</td>\n",
       "      <td>16.644342</td>\n",
       "    </tr>\n",
       "    <tr>\n",
       "      <th>5</th>\n",
       "      <td>180.03</td>\n",
       "      <td>142.210571</td>\n",
       "      <td>37.819429</td>\n",
       "    </tr>\n",
       "    <tr>\n",
       "      <th>6</th>\n",
       "      <td>119.29</td>\n",
       "      <td>137.614664</td>\n",
       "      <td>-18.324664</td>\n",
       "    </tr>\n",
       "    <tr>\n",
       "      <th>7</th>\n",
       "      <td>114.33</td>\n",
       "      <td>130.521244</td>\n",
       "      <td>-16.191244</td>\n",
       "    </tr>\n",
       "    <tr>\n",
       "      <th>8</th>\n",
       "      <td>249.83</td>\n",
       "      <td>259.891621</td>\n",
       "      <td>-10.061621</td>\n",
       "    </tr>\n",
       "    <tr>\n",
       "      <th>9</th>\n",
       "      <td>174.37</td>\n",
       "      <td>140.786390</td>\n",
       "      <td>33.583610</td>\n",
       "    </tr>\n",
       "    <tr>\n",
       "      <th>10</th>\n",
       "      <td>246.30</td>\n",
       "      <td>152.626421</td>\n",
       "      <td>93.673579</td>\n",
       "    </tr>\n",
       "    <tr>\n",
       "      <th>11</th>\n",
       "      <td>132.06</td>\n",
       "      <td>116.798595</td>\n",
       "      <td>15.261405</td>\n",
       "    </tr>\n",
       "    <tr>\n",
       "      <th>12</th>\n",
       "      <td>89.67</td>\n",
       "      <td>98.812521</td>\n",
       "      <td>-9.142521</td>\n",
       "    </tr>\n",
       "    <tr>\n",
       "      <th>13</th>\n",
       "      <td>74.31</td>\n",
       "      <td>102.745671</td>\n",
       "      <td>-28.435671</td>\n",
       "    </tr>\n",
       "    <tr>\n",
       "      <th>14</th>\n",
       "      <td>220.68</td>\n",
       "      <td>159.557466</td>\n",
       "      <td>61.122534</td>\n",
       "    </tr>\n",
       "    <tr>\n",
       "      <th>15</th>\n",
       "      <td>157.10</td>\n",
       "      <td>179.464321</td>\n",
       "      <td>-22.364321</td>\n",
       "    </tr>\n",
       "    <tr>\n",
       "      <th>16</th>\n",
       "      <td>61.44</td>\n",
       "      <td>121.165405</td>\n",
       "      <td>-59.725405</td>\n",
       "    </tr>\n",
       "    <tr>\n",
       "      <th>17</th>\n",
       "      <td>146.63</td>\n",
       "      <td>128.216837</td>\n",
       "      <td>18.413163</td>\n",
       "    </tr>\n",
       "    <tr>\n",
       "      <th>18</th>\n",
       "      <td>82.97</td>\n",
       "      <td>134.023712</td>\n",
       "      <td>-51.053712</td>\n",
       "    </tr>\n",
       "    <tr>\n",
       "      <th>19</th>\n",
       "      <td>147.80</td>\n",
       "      <td>145.716084</td>\n",
       "      <td>2.083916</td>\n",
       "    </tr>\n",
       "    <tr>\n",
       "      <th>20</th>\n",
       "      <td>155.93</td>\n",
       "      <td>170.408878</td>\n",
       "      <td>-14.478878</td>\n",
       "    </tr>\n",
       "    <tr>\n",
       "      <th>21</th>\n",
       "      <td>84.76</td>\n",
       "      <td>123.344799</td>\n",
       "      <td>-38.584799</td>\n",
       "    </tr>\n",
       "    <tr>\n",
       "      <th>22</th>\n",
       "      <td>167.21</td>\n",
       "      <td>152.091603</td>\n",
       "      <td>15.118397</td>\n",
       "    </tr>\n",
       "    <tr>\n",
       "      <th>23</th>\n",
       "      <td>146.53</td>\n",
       "      <td>129.380082</td>\n",
       "      <td>17.149918</td>\n",
       "    </tr>\n",
       "    <tr>\n",
       "      <th>24</th>\n",
       "      <td>92.80</td>\n",
       "      <td>98.722718</td>\n",
       "      <td>-5.922718</td>\n",
       "    </tr>\n",
       "    <tr>\n",
       "      <th>25</th>\n",
       "      <td>114.84</td>\n",
       "      <td>132.448819</td>\n",
       "      <td>-17.608819</td>\n",
       "    </tr>\n",
       "    <tr>\n",
       "      <th>26</th>\n",
       "      <td>101.30</td>\n",
       "      <td>110.400231</td>\n",
       "      <td>-9.100231</td>\n",
       "    </tr>\n",
       "    <tr>\n",
       "      <th>27</th>\n",
       "      <td>214.37</td>\n",
       "      <td>164.163249</td>\n",
       "      <td>50.206751</td>\n",
       "    </tr>\n",
       "    <tr>\n",
       "      <th>28</th>\n",
       "      <td>158.41</td>\n",
       "      <td>173.016387</td>\n",
       "      <td>-14.606387</td>\n",
       "    </tr>\n",
       "    <tr>\n",
       "      <th>29</th>\n",
       "      <td>140.23</td>\n",
       "      <td>155.119426</td>\n",
       "      <td>-14.889426</td>\n",
       "    </tr>\n",
       "  </tbody>\n",
       "</table>\n",
       "</div>"
      ],
      "text/plain": [
       "    Actual Value  Predicted Value  Difference\n",
       "0          55.83        83.609012  -27.779012\n",
       "1          98.94       126.111556  -27.171556\n",
       "2          84.96       114.355814  -29.395814\n",
       "3          98.99        79.249055   19.740945\n",
       "4         166.33       149.685658   16.644342\n",
       "5         180.03       142.210571   37.819429\n",
       "6         119.29       137.614664  -18.324664\n",
       "7         114.33       130.521244  -16.191244\n",
       "8         249.83       259.891621  -10.061621\n",
       "9         174.37       140.786390   33.583610\n",
       "10        246.30       152.626421   93.673579\n",
       "11        132.06       116.798595   15.261405\n",
       "12         89.67        98.812521   -9.142521\n",
       "13         74.31       102.745671  -28.435671\n",
       "14        220.68       159.557466   61.122534\n",
       "15        157.10       179.464321  -22.364321\n",
       "16         61.44       121.165405  -59.725405\n",
       "17        146.63       128.216837   18.413163\n",
       "18         82.97       134.023712  -51.053712\n",
       "19        147.80       145.716084    2.083916\n",
       "20        155.93       170.408878  -14.478878\n",
       "21         84.76       123.344799  -38.584799\n",
       "22        167.21       152.091603   15.118397\n",
       "23        146.53       129.380082   17.149918\n",
       "24         92.80        98.722718   -5.922718\n",
       "25        114.84       132.448819  -17.608819\n",
       "26        101.30       110.400231   -9.100231\n",
       "27        214.37       164.163249   50.206751\n",
       "28        158.41       173.016387  -14.606387\n",
       "29        140.23       155.119426  -14.889426"
      ]
     },
     "execution_count": 133,
     "metadata": {},
     "output_type": "execute_result"
    }
   ],
   "source": [
    "pred_y_df = pd.DataFrame({'Actual Value': y_test, 'Predicted Value':y_pred, 'Difference': y_test - y_pred})\n",
    "pred_y_df[0:30]"
   ]
  },
  {
   "cell_type": "markdown",
   "id": "0f24f4bd",
   "metadata": {},
   "source": [
    "This is linear regression with avg fuel emission per distance as the dependant variable"
   ]
  },
  {
   "cell_type": "code",
   "execution_count": 135,
   "id": "81fde545",
   "metadata": {},
   "outputs": [
    {
     "data": {
      "text/html": [
       "<div>\n",
       "<style scoped>\n",
       "    .dataframe tbody tr th:only-of-type {\n",
       "        vertical-align: middle;\n",
       "    }\n",
       "\n",
       "    .dataframe tbody tr th {\n",
       "        vertical-align: top;\n",
       "    }\n",
       "\n",
       "    .dataframe thead th {\n",
       "        text-align: right;\n",
       "    }\n",
       "</style>\n",
       "<table border=\"1\" class=\"dataframe\">\n",
       "  <thead>\n",
       "    <tr style=\"text-align: right;\">\n",
       "      <th></th>\n",
       "      <th>Annual average CO₂ emissions per distance [kg CO₂ / n mile]</th>\n",
       "      <th>IMO</th>\n",
       "    </tr>\n",
       "  </thead>\n",
       "  <tbody>\n",
       "    <tr>\n",
       "      <th>249</th>\n",
       "      <td>269.07</td>\n",
       "      <td>8905787</td>\n",
       "    </tr>\n",
       "    <tr>\n",
       "      <th>345</th>\n",
       "      <td>386.14</td>\n",
       "      <td>9010929</td>\n",
       "    </tr>\n",
       "    <tr>\n",
       "      <th>613</th>\n",
       "      <td>260.19</td>\n",
       "      <td>9125279</td>\n",
       "    </tr>\n",
       "    <tr>\n",
       "      <th>744</th>\n",
       "      <td>382.36</td>\n",
       "      <td>9145437</td>\n",
       "    </tr>\n",
       "    <tr>\n",
       "      <th>782</th>\n",
       "      <td>242.37</td>\n",
       "      <td>9150614</td>\n",
       "    </tr>\n",
       "  </tbody>\n",
       "</table>\n",
       "</div>"
      ],
      "text/plain": [
       "     Annual average CO₂ emissions per distance [kg CO₂ / n mile]      IMO\n",
       "249                                             269.07            8905787\n",
       "345                                             386.14            9010929\n",
       "613                                             260.19            9125279\n",
       "744                                             382.36            9145437\n",
       "782                                             242.37            9150614"
      ]
     },
     "execution_count": 135,
     "metadata": {},
     "output_type": "execute_result"
    }
   ],
   "source": [
    "avg_emis_per_distance = data[['Annual average CO₂ emissions per distance [kg CO₂ / n mile]', 'IMO']]\n",
    "avg_emis_per_distance.head()"
   ]
  },
  {
   "cell_type": "code",
   "execution_count": 136,
   "id": "2aec358a",
   "metadata": {},
   "outputs": [
    {
     "name": "stdout",
     "output_type": "stream",
     "text": [
      "<class 'pandas.core.frame.DataFrame'>\n",
      "Int64Index: 1714 entries, 0 to 1811\n",
      "Data columns (total 6 columns):\n",
      " #   Column                                                       Non-Null Count  Dtype  \n",
      "---  ------                                                       --------------  -----  \n",
      " 0   IMO                                                          1714 non-null   int64  \n",
      " 1   MainEngineRPM                                                1714 non-null   float64\n",
      " 2   Deadweight                                                   1714 non-null   int64  \n",
      " 3   GrossRatedTonnage                                            1714 non-null   int64  \n",
      " 4   Yearbuilt                                                    1714 non-null   int64  \n",
      " 5   Annual average CO₂ emissions per distance [kg CO₂ / n mile]  1714 non-null   float64\n",
      "dtypes: float64(2), int64(4)\n",
      "memory usage: 93.7 KB\n"
     ]
    }
   ],
   "source": [
    "vessel_info_2 = pd.merge(vessel_info, avg_emis_per_distance, how = 'left', on=['IMO'])\n",
    "vessel_info_2.dropna(subset=['MainEngineRPM'], inplace = True)\n",
    "vessel_info_2.info()"
   ]
  },
  {
   "cell_type": "code",
   "execution_count": 137,
   "id": "92c56d91",
   "metadata": {},
   "outputs": [
    {
     "data": {
      "text/html": [
       "<div>\n",
       "<style scoped>\n",
       "    .dataframe tbody tr th:only-of-type {\n",
       "        vertical-align: middle;\n",
       "    }\n",
       "\n",
       "    .dataframe tbody tr th {\n",
       "        vertical-align: top;\n",
       "    }\n",
       "\n",
       "    .dataframe thead th {\n",
       "        text-align: right;\n",
       "    }\n",
       "</style>\n",
       "<table border=\"1\" class=\"dataframe\">\n",
       "  <thead>\n",
       "    <tr style=\"text-align: right;\">\n",
       "      <th></th>\n",
       "      <th>IMO</th>\n",
       "      <th>MainEngineRPM</th>\n",
       "      <th>Deadweight</th>\n",
       "      <th>GrossRatedTonnage</th>\n",
       "      <th>Yearbuilt</th>\n",
       "      <th>Annual average CO₂ emissions per distance [kg CO₂ / n mile]</th>\n",
       "    </tr>\n",
       "  </thead>\n",
       "  <tbody>\n",
       "    <tr>\n",
       "      <th>0</th>\n",
       "      <td>9199713</td>\n",
       "      <td>104.0</td>\n",
       "      <td>106644</td>\n",
       "      <td>57331</td>\n",
       "      <td>1999</td>\n",
       "      <td>500.44</td>\n",
       "    </tr>\n",
       "    <tr>\n",
       "      <th>1</th>\n",
       "      <td>9227443</td>\n",
       "      <td>91.0</td>\n",
       "      <td>164214</td>\n",
       "      <td>84598</td>\n",
       "      <td>2002</td>\n",
       "      <td>553.05</td>\n",
       "    </tr>\n",
       "    <tr>\n",
       "      <th>2</th>\n",
       "      <td>9248796</td>\n",
       "      <td>127.0</td>\n",
       "      <td>39975</td>\n",
       "      <td>25287</td>\n",
       "      <td>2003</td>\n",
       "      <td>340.64</td>\n",
       "    </tr>\n",
       "    <tr>\n",
       "      <th>3</th>\n",
       "      <td>9248801</td>\n",
       "      <td>127.0</td>\n",
       "      <td>40039</td>\n",
       "      <td>25287</td>\n",
       "      <td>2003</td>\n",
       "      <td>315.65</td>\n",
       "    </tr>\n",
       "    <tr>\n",
       "      <th>4</th>\n",
       "      <td>9249075</td>\n",
       "      <td>82.0</td>\n",
       "      <td>166739</td>\n",
       "      <td>84315</td>\n",
       "      <td>2004</td>\n",
       "      <td>713.94</td>\n",
       "    </tr>\n",
       "  </tbody>\n",
       "</table>\n",
       "</div>"
      ],
      "text/plain": [
       "       IMO  MainEngineRPM  Deadweight  GrossRatedTonnage  Yearbuilt  \\\n",
       "0  9199713          104.0      106644              57331       1999   \n",
       "1  9227443           91.0      164214              84598       2002   \n",
       "2  9248796          127.0       39975              25287       2003   \n",
       "3  9248801          127.0       40039              25287       2003   \n",
       "4  9249075           82.0      166739              84315       2004   \n",
       "\n",
       "   Annual average CO₂ emissions per distance [kg CO₂ / n mile]  \n",
       "0                                             500.44            \n",
       "1                                             553.05            \n",
       "2                                             340.64            \n",
       "3                                             315.65            \n",
       "4                                             713.94            "
      ]
     },
     "execution_count": 137,
     "metadata": {},
     "output_type": "execute_result"
    }
   ],
   "source": [
    "vessel_info_2.head()"
   ]
  },
  {
   "cell_type": "code",
   "execution_count": 138,
   "id": "c1b6a8b6",
   "metadata": {},
   "outputs": [],
   "source": [
    "x = vessel_info_2.drop(['Annual average CO₂ emissions per distance [kg CO₂ / n mile]', 'IMO'], axis = 1).values\n",
    "y = vessel_info_2['Annual average CO₂ emissions per distance [kg CO₂ / n mile]'].values"
   ]
  },
  {
   "cell_type": "code",
   "execution_count": 142,
   "id": "5ff2e25b",
   "metadata": {},
   "outputs": [],
   "source": [
    "x_train, x_test, y_train, y_test = train_test_split(x, y, test_size = 0.2, random_state=0)\n",
    "\n",
    "ml = LinearRegression()\n",
    "ml.fit(x_train, y_train)\n",
    "\n",
    "y_pred = ml.predict(x_test)\n"
   ]
  },
  {
   "cell_type": "code",
   "execution_count": 143,
   "id": "2268883c",
   "metadata": {},
   "outputs": [
    {
     "data": {
      "text/plain": [
       "array([443.61744047])"
      ]
     },
     "execution_count": 143,
     "metadata": {},
     "output_type": "execute_result"
    }
   ],
   "source": [
    "ml.predict([[200.0, 12223, 9094, 1995]])"
   ]
  },
  {
   "cell_type": "code",
   "execution_count": 144,
   "id": "174238eb",
   "metadata": {},
   "outputs": [
    {
     "data": {
      "text/plain": [
       "0.4398813919451934"
      ]
     },
     "execution_count": 144,
     "metadata": {},
     "output_type": "execute_result"
    }
   ],
   "source": [
    "r2_score(y_test, y_pred)"
   ]
  },
  {
   "cell_type": "code",
   "execution_count": 145,
   "id": "13375e6c",
   "metadata": {},
   "outputs": [
    {
     "data": {
      "text/plain": [
       "Text(0, 0.5, 'Predicted')"
      ]
     },
     "execution_count": 145,
     "metadata": {},
     "output_type": "execute_result"
    },
    {
     "data": {
      "image/png": "[encoded data removed]",
      "text/plain": [
       "<Figure size 1080x720 with 1 Axes>"
      ]
     },
     "metadata": {
      "needs_background": "light"
     },
     "output_type": "display_data"
    }
   ],
   "source": [
    "plt.figure(figsize = (15, 10))\n",
    "plt.scatter(y_test, y_pred)\n",
    "plt.xlabel('Actual')\n",
    "plt.ylabel('Predicted')"
   ]
  },
  {
   "cell_type": "code",
   "execution_count": 146,
   "id": "c6b3356a",
   "metadata": {},
   "outputs": [
    {
     "data": {
      "text/html": [
       "<div>\n",
       "<style scoped>\n",
       "    .dataframe tbody tr th:only-of-type {\n",
       "        vertical-align: middle;\n",
       "    }\n",
       "\n",
       "    .dataframe tbody tr th {\n",
       "        vertical-align: top;\n",
       "    }\n",
       "\n",
       "    .dataframe thead th {\n",
       "        text-align: right;\n",
       "    }\n",
       "</style>\n",
       "<table border=\"1\" class=\"dataframe\">\n",
       "  <thead>\n",
       "    <tr style=\"text-align: right;\">\n",
       "      <th></th>\n",
       "      <th>Actual Value</th>\n",
       "      <th>Predicted Value</th>\n",
       "      <th>Difference</th>\n",
       "    </tr>\n",
       "  </thead>\n",
       "  <tbody>\n",
       "    <tr>\n",
       "      <th>0</th>\n",
       "      <td>176.27</td>\n",
       "      <td>278.022649</td>\n",
       "      <td>-101.752649</td>\n",
       "    </tr>\n",
       "    <tr>\n",
       "      <th>1</th>\n",
       "      <td>309.04</td>\n",
       "      <td>402.227986</td>\n",
       "      <td>-93.187986</td>\n",
       "    </tr>\n",
       "    <tr>\n",
       "      <th>2</th>\n",
       "      <td>265.21</td>\n",
       "      <td>364.979184</td>\n",
       "      <td>-99.769184</td>\n",
       "    </tr>\n",
       "    <tr>\n",
       "      <th>3</th>\n",
       "      <td>308.87</td>\n",
       "      <td>255.334303</td>\n",
       "      <td>53.535697</td>\n",
       "    </tr>\n",
       "    <tr>\n",
       "      <th>4</th>\n",
       "      <td>525.86</td>\n",
       "      <td>469.979146</td>\n",
       "      <td>55.880854</td>\n",
       "    </tr>\n",
       "    <tr>\n",
       "      <th>5</th>\n",
       "      <td>571.31</td>\n",
       "      <td>443.381605</td>\n",
       "      <td>127.928395</td>\n",
       "    </tr>\n",
       "    <tr>\n",
       "      <th>6</th>\n",
       "      <td>376.52</td>\n",
       "      <td>427.392909</td>\n",
       "      <td>-50.872909</td>\n",
       "    </tr>\n",
       "    <tr>\n",
       "      <th>7</th>\n",
       "      <td>361.44</td>\n",
       "      <td>406.599891</td>\n",
       "      <td>-45.159891</td>\n",
       "    </tr>\n",
       "    <tr>\n",
       "      <th>8</th>\n",
       "      <td>780.00</td>\n",
       "      <td>793.443775</td>\n",
       "      <td>-13.443775</td>\n",
       "    </tr>\n",
       "    <tr>\n",
       "      <th>9</th>\n",
       "      <td>551.24</td>\n",
       "      <td>442.411092</td>\n",
       "      <td>108.828908</td>\n",
       "    </tr>\n",
       "    <tr>\n",
       "      <th>10</th>\n",
       "      <td>789.65</td>\n",
       "      <td>482.443380</td>\n",
       "      <td>307.206620</td>\n",
       "    </tr>\n",
       "    <tr>\n",
       "      <th>11</th>\n",
       "      <td>413.45</td>\n",
       "      <td>368.888060</td>\n",
       "      <td>44.561940</td>\n",
       "    </tr>\n",
       "    <tr>\n",
       "      <th>12</th>\n",
       "      <td>287.49</td>\n",
       "      <td>320.452631</td>\n",
       "      <td>-32.962631</td>\n",
       "    </tr>\n",
       "    <tr>\n",
       "      <th>13</th>\n",
       "      <td>232.01</td>\n",
       "      <td>326.987733</td>\n",
       "      <td>-94.977733</td>\n",
       "    </tr>\n",
       "    <tr>\n",
       "      <th>14</th>\n",
       "      <td>694.06</td>\n",
       "      <td>500.252266</td>\n",
       "      <td>193.807734</td>\n",
       "    </tr>\n",
       "    <tr>\n",
       "      <th>15</th>\n",
       "      <td>495.64</td>\n",
       "      <td>561.718445</td>\n",
       "      <td>-66.078445</td>\n",
       "    </tr>\n",
       "    <tr>\n",
       "      <th>16</th>\n",
       "      <td>196.96</td>\n",
       "      <td>390.558762</td>\n",
       "      <td>-193.598762</td>\n",
       "    </tr>\n",
       "    <tr>\n",
       "      <th>17</th>\n",
       "      <td>465.32</td>\n",
       "      <td>398.850851</td>\n",
       "      <td>66.469149</td>\n",
       "    </tr>\n",
       "    <tr>\n",
       "      <th>18</th>\n",
       "      <td>260.19</td>\n",
       "      <td>433.259246</td>\n",
       "      <td>-173.069246</td>\n",
       "    </tr>\n",
       "    <tr>\n",
       "      <th>19</th>\n",
       "      <td>463.30</td>\n",
       "      <td>451.585157</td>\n",
       "      <td>11.714843</td>\n",
       "    </tr>\n",
       "    <tr>\n",
       "      <th>20</th>\n",
       "      <td>487.58</td>\n",
       "      <td>528.523558</td>\n",
       "      <td>-40.943558</td>\n",
       "    </tr>\n",
       "    <tr>\n",
       "      <th>21</th>\n",
       "      <td>268.75</td>\n",
       "      <td>393.551748</td>\n",
       "      <td>-124.801748</td>\n",
       "    </tr>\n",
       "    <tr>\n",
       "      <th>22</th>\n",
       "      <td>528.01</td>\n",
       "      <td>474.680782</td>\n",
       "      <td>53.329218</td>\n",
       "    </tr>\n",
       "    <tr>\n",
       "      <th>23</th>\n",
       "      <td>462.80</td>\n",
       "      <td>406.238185</td>\n",
       "      <td>56.561815</td>\n",
       "    </tr>\n",
       "    <tr>\n",
       "      <th>24</th>\n",
       "      <td>293.15</td>\n",
       "      <td>315.648734</td>\n",
       "      <td>-22.498734</td>\n",
       "    </tr>\n",
       "    <tr>\n",
       "      <th>25</th>\n",
       "      <td>363.05</td>\n",
       "      <td>418.889150</td>\n",
       "      <td>-55.839150</td>\n",
       "    </tr>\n",
       "    <tr>\n",
       "      <th>26</th>\n",
       "      <td>316.99</td>\n",
       "      <td>353.029367</td>\n",
       "      <td>-36.039367</td>\n",
       "    </tr>\n",
       "    <tr>\n",
       "      <th>27</th>\n",
       "      <td>672.49</td>\n",
       "      <td>512.469931</td>\n",
       "      <td>160.020069</td>\n",
       "    </tr>\n",
       "    <tr>\n",
       "      <th>28</th>\n",
       "      <td>507.76</td>\n",
       "      <td>540.154478</td>\n",
       "      <td>-32.394478</td>\n",
       "    </tr>\n",
       "    <tr>\n",
       "      <th>29</th>\n",
       "      <td>439.63</td>\n",
       "      <td>479.365228</td>\n",
       "      <td>-39.735228</td>\n",
       "    </tr>\n",
       "  </tbody>\n",
       "</table>\n",
       "</div>"
      ],
      "text/plain": [
       "    Actual Value  Predicted Value  Difference\n",
       "0         176.27       278.022649 -101.752649\n",
       "1         309.04       402.227986  -93.187986\n",
       "2         265.21       364.979184  -99.769184\n",
       "3         308.87       255.334303   53.535697\n",
       "4         525.86       469.979146   55.880854\n",
       "5         571.31       443.381605  127.928395\n",
       "6         376.52       427.392909  -50.872909\n",
       "7         361.44       406.599891  -45.159891\n",
       "8         780.00       793.443775  -13.443775\n",
       "9         551.24       442.411092  108.828908\n",
       "10        789.65       482.443380  307.206620\n",
       "11        413.45       368.888060   44.561940\n",
       "12        287.49       320.452631  -32.962631\n",
       "13        232.01       326.987733  -94.977733\n",
       "14        694.06       500.252266  193.807734\n",
       "15        495.64       561.718445  -66.078445\n",
       "16        196.96       390.558762 -193.598762\n",
       "17        465.32       398.850851   66.469149\n",
       "18        260.19       433.259246 -173.069246\n",
       "19        463.30       451.585157   11.714843\n",
       "20        487.58       528.523558  -40.943558\n",
       "21        268.75       393.551748 -124.801748\n",
       "22        528.01       474.680782   53.329218\n",
       "23        462.80       406.238185   56.561815\n",
       "24        293.15       315.648734  -22.498734\n",
       "25        363.05       418.889150  -55.839150\n",
       "26        316.99       353.029367  -36.039367\n",
       "27        672.49       512.469931  160.020069\n",
       "28        507.76       540.154478  -32.394478\n",
       "29        439.63       479.365228  -39.735228"
      ]
     },
     "execution_count": 146,
     "metadata": {},
     "output_type": "execute_result"
    }
   ],
   "source": [
    "pred_y_df = pd.DataFrame({'Actual Value': y_test, 'Predicted Value':y_pred, 'Difference': y_test - y_pred})\n",
    "pred_y_df[0:30]"
   ]
  },
  {
   "cell_type": "markdown",
   "id": "7106fb87",
   "metadata": {},
   "source": [
    "### Checking that the saved model from model_3 data work correct"
   ]
  },
  {
   "cell_type": "code",
   "execution_count": 35,
   "id": "dd3c0cc8",
   "metadata": {},
   "outputs": [],
   "source": [
    "from keras.models import model_from_json\n",
    "\n",
    "json_file = open('model.json', 'r')\n",
    "loaded_model_json = json_file.read()\n",
    "json_file.close()\n",
    "model_neural = model_from_json(loaded_model_json)\n",
    "# load weights into new model\n",
    "model_neural.load_weights(\"model.h5\")\n",
    "model_neural.compile(loss='mean_squared_error', optimizer='adam')\n"
   ]
  },
  {
   "cell_type": "code",
   "execution_count": 21,
   "id": "e7df0159",
   "metadata": {},
   "outputs": [],
   "source": [
    "from sklearn.preprocessing import StandardScaler\n",
    "import numpy as np"
   ]
  },
  {
   "cell_type": "code",
   "execution_count": 18,
   "id": "d4048508",
   "metadata": {},
   "outputs": [],
   "source": [
    "X = [[9010929, 12111, 12112, 121211, 2000]]\n",
    "PredictorScaler = StandardScaler()\n",
    "PredictorScalerFit = PredictorScaler.fit(X)\n",
    "X = PredictorScalerFit.transform(X)\n",
    "consumption2 = np.round(model_neural.predict(X), 1)"
   ]
  },
  {
   "cell_type": "code",
   "execution_count": 19,
   "id": "97c3b39d",
   "metadata": {},
   "outputs": [
    {
     "name": "stdout",
     "output_type": "stream",
     "text": [
      "[[0.1]]\n"
     ]
    }
   ],
   "source": [
    "print (consumption2)"
   ]
  },
  {
   "cell_type": "code",
   "execution_count": 30,
   "id": "20b85bea",
   "metadata": {},
   "outputs": [
    {
     "name": "stdout",
     "output_type": "stream",
     "text": [
      "[[3360, 12223, 9094, 1995], [3360, 12223, 9094, 1995], [4080, 8000, 5045, 1993]]\n",
      "StandardScaler()\n",
      "[[-0.70710678  0.70710678  0.70710678  0.70710678]\n",
      " [-0.70710678  0.70710678  0.70710678  0.70710678]\n",
      " [ 1.41421356 -1.41421356 -1.41421356 -1.41421356]]\n"
     ]
    }
   ],
   "source": [
    "X =[[  3360,  12223,   9094,   1995],\n",
    " [  3360,  12223,   9094  , 1995],\n",
    " [  4080,   8000 ,  5045 , 1993]]\n",
    "PredictorScaler = StandardScaler()\n",
    "PredictorScalerFit = PredictorScaler.fit(X)\n",
    "print (X)\n",
    "print (PredictorScalerFit)\n",
    "X = PredictorScalerFit.transform(X)\n",
    "print (X)"
   ]
  },
  {
   "cell_type": "code",
   "execution_count": 33,
   "id": "2097a052",
   "metadata": {},
   "outputs": [],
   "source": [
    "from pickle import load"
   ]
  },
  {
   "cell_type": "code",
   "execution_count": 34,
   "id": "9fdc259c",
   "metadata": {},
   "outputs": [
    {
     "name": "stdout",
     "output_type": "stream",
     "text": [
      "[[ 492.47813237 2625.08813674 1882.64975249  379.29209809]]\n"
     ]
    }
   ],
   "source": [
    "X =[[  3360,  12223,   9094,   1995]]\n",
    "scaler = load(open('scaler_neural.pkl', 'rb'))\n",
    "X_scaled = scaler.transform(X)\n",
    "print (X_scaled)"
   ]
  },
  {
   "cell_type": "code",
   "execution_count": 36,
   "id": "fe3084e8",
   "metadata": {},
   "outputs": [
    {
     "ename": "ValueError",
     "evalue": "in user code:\n\n    File \"C:\\Users\\p.alexias\\Anaconda3\\lib\\site-packages\\keras\\engine\\training.py\", line 1801, in predict_function  *\n        return step_function(self, iterator)\n    File \"C:\\Users\\p.alexias\\Anaconda3\\lib\\site-packages\\keras\\engine\\training.py\", line 1790, in step_function  **\n        outputs = model.distribute_strategy.run(run_step, args=(data,))\n    File \"C:\\Users\\p.alexias\\Anaconda3\\lib\\site-packages\\keras\\engine\\training.py\", line 1783, in run_step  **\n        outputs = model.predict_step(data)\n    File \"C:\\Users\\p.alexias\\Anaconda3\\lib\\site-packages\\keras\\engine\\training.py\", line 1751, in predict_step\n        return self(x, training=False)\n    File \"C:\\Users\\p.alexias\\Anaconda3\\lib\\site-packages\\keras\\utils\\traceback_utils.py\", line 67, in error_handler\n        raise e.with_traceback(filtered_tb) from None\n    File \"C:\\Users\\p.alexias\\Anaconda3\\lib\\site-packages\\keras\\engine\\input_spec.py\", line 264, in assert_input_compatibility\n        raise ValueError(f'Input {input_index} of layer \"{layer_name}\" is '\n\n    ValueError: Input 0 of layer \"sequential\" is incompatible with the layer: expected shape=(None, 5), found shape=(None, 4)\n",
     "output_type": "error",
     "traceback": [
      "\u001b[1;31m---------------------------------------------------------------------------\u001b[0m",
      "\u001b[1;31mValueError\u001b[0m                                Traceback (most recent call last)",
      "\u001b[1;32m<ipython-input-36-2ce769ee15b6>\u001b[0m in \u001b[0;36m<module>\u001b[1;34m\u001b[0m\n\u001b[1;32m----> 1\u001b[1;33m \u001b[0mmodel_neural\u001b[0m\u001b[1;33m.\u001b[0m\u001b[0mpredict\u001b[0m\u001b[1;33m(\u001b[0m\u001b[0mX_scaled\u001b[0m\u001b[1;33m)\u001b[0m\u001b[1;33m\u001b[0m\u001b[1;33m\u001b[0m\u001b[0m\n\u001b[0m",
      "\u001b[1;32m~\\Anaconda3\\lib\\site-packages\\keras\\utils\\traceback_utils.py\u001b[0m in \u001b[0;36merror_handler\u001b[1;34m(*args, **kwargs)\u001b[0m\n\u001b[0;32m     65\u001b[0m     \u001b[1;32mexcept\u001b[0m \u001b[0mException\u001b[0m \u001b[1;32mas\u001b[0m \u001b[0me\u001b[0m\u001b[1;33m:\u001b[0m  \u001b[1;31m# pylint: disable=broad-except\u001b[0m\u001b[1;33m\u001b[0m\u001b[1;33m\u001b[0m\u001b[0m\n\u001b[0;32m     66\u001b[0m       \u001b[0mfiltered_tb\u001b[0m \u001b[1;33m=\u001b[0m \u001b[0m_process_traceback_frames\u001b[0m\u001b[1;33m(\u001b[0m\u001b[0me\u001b[0m\u001b[1;33m.\u001b[0m\u001b[0m__traceback__\u001b[0m\u001b[1;33m)\u001b[0m\u001b[1;33m\u001b[0m\u001b[1;33m\u001b[0m\u001b[0m\n\u001b[1;32m---> 67\u001b[1;33m       \u001b[1;32mraise\u001b[0m \u001b[0me\u001b[0m\u001b[1;33m.\u001b[0m\u001b[0mwith_traceback\u001b[0m\u001b[1;33m(\u001b[0m\u001b[0mfiltered_tb\u001b[0m\u001b[1;33m)\u001b[0m \u001b[1;32mfrom\u001b[0m \u001b[1;32mNone\u001b[0m\u001b[1;33m\u001b[0m\u001b[1;33m\u001b[0m\u001b[0m\n\u001b[0m\u001b[0;32m     68\u001b[0m     \u001b[1;32mfinally\u001b[0m\u001b[1;33m:\u001b[0m\u001b[1;33m\u001b[0m\u001b[1;33m\u001b[0m\u001b[0m\n\u001b[0;32m     69\u001b[0m       \u001b[1;32mdel\u001b[0m \u001b[0mfiltered_tb\u001b[0m\u001b[1;33m\u001b[0m\u001b[1;33m\u001b[0m\u001b[0m\n",
      "\u001b[1;32m~\\Anaconda3\\lib\\site-packages\\tensorflow\\python\\framework\\func_graph.py\u001b[0m in \u001b[0;36mautograph_handler\u001b[1;34m(*args, **kwargs)\u001b[0m\n\u001b[0;32m   1145\u001b[0m           \u001b[1;32mexcept\u001b[0m \u001b[0mException\u001b[0m \u001b[1;32mas\u001b[0m \u001b[0me\u001b[0m\u001b[1;33m:\u001b[0m  \u001b[1;31m# pylint:disable=broad-except\u001b[0m\u001b[1;33m\u001b[0m\u001b[1;33m\u001b[0m\u001b[0m\n\u001b[0;32m   1146\u001b[0m             \u001b[1;32mif\u001b[0m \u001b[0mhasattr\u001b[0m\u001b[1;33m(\u001b[0m\u001b[0me\u001b[0m\u001b[1;33m,\u001b[0m \u001b[1;34m\"ag_error_metadata\"\u001b[0m\u001b[1;33m)\u001b[0m\u001b[1;33m:\u001b[0m\u001b[1;33m\u001b[0m\u001b[1;33m\u001b[0m\u001b[0m\n\u001b[1;32m-> 1147\u001b[1;33m               \u001b[1;32mraise\u001b[0m \u001b[0me\u001b[0m\u001b[1;33m.\u001b[0m\u001b[0mag_error_metadata\u001b[0m\u001b[1;33m.\u001b[0m\u001b[0mto_exception\u001b[0m\u001b[1;33m(\u001b[0m\u001b[0me\u001b[0m\u001b[1;33m)\u001b[0m\u001b[1;33m\u001b[0m\u001b[1;33m\u001b[0m\u001b[0m\n\u001b[0m\u001b[0;32m   1148\u001b[0m             \u001b[1;32melse\u001b[0m\u001b[1;33m:\u001b[0m\u001b[1;33m\u001b[0m\u001b[1;33m\u001b[0m\u001b[0m\n\u001b[0;32m   1149\u001b[0m               \u001b[1;32mraise\u001b[0m\u001b[1;33m\u001b[0m\u001b[1;33m\u001b[0m\u001b[0m\n",
      "\u001b[1;31mValueError\u001b[0m: in user code:\n\n    File \"C:\\Users\\p.alexias\\Anaconda3\\lib\\site-packages\\keras\\engine\\training.py\", line 1801, in predict_function  *\n        return step_function(self, iterator)\n    File \"C:\\Users\\p.alexias\\Anaconda3\\lib\\site-packages\\keras\\engine\\training.py\", line 1790, in step_function  **\n        outputs = model.distribute_strategy.run(run_step, args=(data,))\n    File \"C:\\Users\\p.alexias\\Anaconda3\\lib\\site-packages\\keras\\engine\\training.py\", line 1783, in run_step  **\n        outputs = model.predict_step(data)\n    File \"C:\\Users\\p.alexias\\Anaconda3\\lib\\site-packages\\keras\\engine\\training.py\", line 1751, in predict_step\n        return self(x, training=False)\n    File \"C:\\Users\\p.alexias\\Anaconda3\\lib\\site-packages\\keras\\utils\\traceback_utils.py\", line 67, in error_handler\n        raise e.with_traceback(filtered_tb) from None\n    File \"C:\\Users\\p.alexias\\Anaconda3\\lib\\site-packages\\keras\\engine\\input_spec.py\", line 264, in assert_input_compatibility\n        raise ValueError(f'Input {input_index} of layer \"{layer_name}\" is '\n\n    ValueError: Input 0 of layer \"sequential\" is incompatible with the layer: expected shape=(None, 5), found shape=(None, 4)\n"
     ]
    }
   ],
   "source": [
    "model_neural.predict(X_scaled)"
   ]
  },
  {
   "cell_type": "code",
   "execution_count": null,
   "id": "c472b1e7",
   "metadata": {},
   "outputs": [],
   "source": []
  }
 ],
 "metadata": {
  "kernelspec": {
   "display_name": "Python 3 (ipykernel)",
   "language": "python",
   "name": "python3"
  },
  "language_info": {
   "codemirror_mode": {
    "name": "ipython",
    "version": 3
   },
   "file_extension": ".py",
   "mimetype": "text/x-python",
   "name": "python",
   "nbconvert_exporter": "python",
   "pygments_lexer": "ipython3",
   "version": "3.9.12"
  }
 },
 "nbformat": 4,
 "nbformat_minor": 5
}
