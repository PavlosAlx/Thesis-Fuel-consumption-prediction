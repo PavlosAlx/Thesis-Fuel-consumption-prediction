{
 "cells": [
  {
   "cell_type": "code",
   "execution_count": 3,
   "id": "3f8cbb8f",
   "metadata": {},
   "outputs": [],
   "source": [
    "import pyodbc\n",
    "import pandas as pd\n",
    "import requests\n",
    "import json\n",
    "import numpy as np\n",
    "import matplotlib.pyplot as plt\n",
    "from datetime import datetime\n",
    "pd.options.mode.chained_assignment = None"
   ]
  },
  {
   "cell_type": "code",
   "execution_count": 5,
   "id": "073c7701",
   "metadata": {},
   "outputs": [
    {
     "data": {
      "text/html": [
       "<div>\n",
       "<style scoped>\n",
       "    .dataframe tbody tr th:only-of-type {\n",
       "        vertical-align: middle;\n",
       "    }\n",
       "\n",
       "    .dataframe tbody tr th {\n",
       "        vertical-align: top;\n",
       "    }\n",
       "\n",
       "    .dataframe thead th {\n",
       "        text-align: right;\n",
       "    }\n",
       "</style>\n",
       "<table border=\"1\" class=\"dataframe\">\n",
       "  <thead>\n",
       "    <tr style=\"text-align: right;\">\n",
       "      <th></th>\n",
       "      <th>MainEngineKW</th>\n",
       "      <th>Deadweight</th>\n",
       "      <th>GrossRatedTonnage</th>\n",
       "      <th>Yearbuilt</th>\n",
       "      <th>Annual average Fuel consumption per distance [kg / n mile]</th>\n",
       "    </tr>\n",
       "  </thead>\n",
       "  <tbody>\n",
       "    <tr>\n",
       "      <th>0</th>\n",
       "      <td>3360.0</td>\n",
       "      <td>12223</td>\n",
       "      <td>9094</td>\n",
       "      <td>1995</td>\n",
       "      <td>84.30</td>\n",
       "    </tr>\n",
       "    <tr>\n",
       "      <th>1</th>\n",
       "      <td>3360.0</td>\n",
       "      <td>12223</td>\n",
       "      <td>9094</td>\n",
       "      <td>1995</td>\n",
       "      <td>84.58</td>\n",
       "    </tr>\n",
       "    <tr>\n",
       "      <th>2</th>\n",
       "      <td>4080.0</td>\n",
       "      <td>8000</td>\n",
       "      <td>5045</td>\n",
       "      <td>1993</td>\n",
       "      <td>72.10</td>\n",
       "    </tr>\n",
       "    <tr>\n",
       "      <th>3</th>\n",
       "      <td>4080.0</td>\n",
       "      <td>8000</td>\n",
       "      <td>5045</td>\n",
       "      <td>1993</td>\n",
       "      <td>115.66</td>\n",
       "    </tr>\n",
       "    <tr>\n",
       "      <th>4</th>\n",
       "      <td>4080.0</td>\n",
       "      <td>8000</td>\n",
       "      <td>5045</td>\n",
       "      <td>1993</td>\n",
       "      <td>123.98</td>\n",
       "    </tr>\n",
       "    <tr>\n",
       "      <th>5</th>\n",
       "      <td>16859.0</td>\n",
       "      <td>148435</td>\n",
       "      <td>79832</td>\n",
       "      <td>1996</td>\n",
       "      <td>271.81</td>\n",
       "    </tr>\n",
       "    <tr>\n",
       "      <th>6</th>\n",
       "      <td>5400.0</td>\n",
       "      <td>10044</td>\n",
       "      <td>6877</td>\n",
       "      <td>1996</td>\n",
       "      <td>75.45</td>\n",
       "    </tr>\n",
       "    <tr>\n",
       "      <th>7</th>\n",
       "      <td>5400.0</td>\n",
       "      <td>10044</td>\n",
       "      <td>6877</td>\n",
       "      <td>1996</td>\n",
       "      <td>67.33</td>\n",
       "    </tr>\n",
       "    <tr>\n",
       "      <th>8</th>\n",
       "      <td>5400.0</td>\n",
       "      <td>10044</td>\n",
       "      <td>6877</td>\n",
       "      <td>1996</td>\n",
       "      <td>82.97</td>\n",
       "    </tr>\n",
       "    <tr>\n",
       "      <th>9</th>\n",
       "      <td>14004.0</td>\n",
       "      <td>106504</td>\n",
       "      <td>56127</td>\n",
       "      <td>1998</td>\n",
       "      <td>204.86</td>\n",
       "    </tr>\n",
       "    <tr>\n",
       "      <th>10</th>\n",
       "      <td>14004.0</td>\n",
       "      <td>106504</td>\n",
       "      <td>56127</td>\n",
       "      <td>1998</td>\n",
       "      <td>217.68</td>\n",
       "    </tr>\n",
       "    <tr>\n",
       "      <th>11</th>\n",
       "      <td>7940.0</td>\n",
       "      <td>33757</td>\n",
       "      <td>21682</td>\n",
       "      <td>2002</td>\n",
       "      <td>125.11</td>\n",
       "    </tr>\n",
       "    <tr>\n",
       "      <th>12</th>\n",
       "      <td>7940.0</td>\n",
       "      <td>33757</td>\n",
       "      <td>21682</td>\n",
       "      <td>2002</td>\n",
       "      <td>133.63</td>\n",
       "    </tr>\n",
       "    <tr>\n",
       "      <th>13</th>\n",
       "      <td>7940.0</td>\n",
       "      <td>33757</td>\n",
       "      <td>21682</td>\n",
       "      <td>2002</td>\n",
       "      <td>121.91</td>\n",
       "    </tr>\n",
       "    <tr>\n",
       "      <th>14</th>\n",
       "      <td>6000.0</td>\n",
       "      <td>12008</td>\n",
       "      <td>9835</td>\n",
       "      <td>1997</td>\n",
       "      <td>151.64</td>\n",
       "    </tr>\n",
       "  </tbody>\n",
       "</table>\n",
       "</div>"
      ],
      "text/plain": [
       "    MainEngineKW  Deadweight  GrossRatedTonnage  Yearbuilt  \\\n",
       "0         3360.0       12223               9094       1995   \n",
       "1         3360.0       12223               9094       1995   \n",
       "2         4080.0        8000               5045       1993   \n",
       "3         4080.0        8000               5045       1993   \n",
       "4         4080.0        8000               5045       1993   \n",
       "5        16859.0      148435              79832       1996   \n",
       "6         5400.0       10044               6877       1996   \n",
       "7         5400.0       10044               6877       1996   \n",
       "8         5400.0       10044               6877       1996   \n",
       "9        14004.0      106504              56127       1998   \n",
       "10       14004.0      106504              56127       1998   \n",
       "11        7940.0       33757              21682       2002   \n",
       "12        7940.0       33757              21682       2002   \n",
       "13        7940.0       33757              21682       2002   \n",
       "14        6000.0       12008               9835       1997   \n",
       "\n",
       "    Annual average Fuel consumption per distance [kg / n mile]  \n",
       "0                                               84.30           \n",
       "1                                               84.58           \n",
       "2                                               72.10           \n",
       "3                                              115.66           \n",
       "4                                              123.98           \n",
       "5                                              271.81           \n",
       "6                                               75.45           \n",
       "7                                               67.33           \n",
       "8                                               82.97           \n",
       "9                                              204.86           \n",
       "10                                             217.68           \n",
       "11                                             125.11           \n",
       "12                                             133.63           \n",
       "13                                             121.91           \n",
       "14                                             151.64           "
      ]
     },
     "execution_count": 5,
     "metadata": {},
     "output_type": "execute_result"
    }
   ],
   "source": [
    "data = pd.read_csv('vessel_information_1.csv')\n",
    "data.drop(columns='IMO', inplace=True)\n",
    "data.head(15)"
   ]
  },
  {
   "cell_type": "code",
   "execution_count": 2,
   "id": "92fe797b",
   "metadata": {},
   "outputs": [
    {
     "ename": "FileNotFoundError",
     "evalue": "[Errno 2] No such file or directory: './MRV Data - 2018.csv'",
     "output_type": "error",
     "traceback": [
      "\u001b[1;31m---------------------------------------------------------------------------\u001b[0m",
      "\u001b[1;31mFileNotFoundError\u001b[0m                         Traceback (most recent call last)",
      "Input \u001b[1;32mIn [2]\u001b[0m, in \u001b[0;36m<cell line: 1>\u001b[1;34m()\u001b[0m\n\u001b[1;32m----> 1\u001b[0m data \u001b[38;5;241m=\u001b[39m \u001b[43mpd\u001b[49m\u001b[38;5;241;43m.\u001b[39;49m\u001b[43mread_csv\u001b[49m\u001b[43m(\u001b[49m\u001b[38;5;124;43m'\u001b[39;49m\u001b[38;5;124;43m./MRV Data - 2018.csv\u001b[39;49m\u001b[38;5;124;43m'\u001b[39;49m\u001b[43m)\u001b[49m\n\u001b[0;32m      2\u001b[0m data2 \u001b[38;5;241m=\u001b[39m pd\u001b[38;5;241m.\u001b[39mread_csv(\u001b[38;5;124m'\u001b[39m\u001b[38;5;124m./MRV Data - 2019.csv\u001b[39m\u001b[38;5;124m'\u001b[39m)\n\u001b[0;32m      3\u001b[0m data3 \u001b[38;5;241m=\u001b[39m pd\u001b[38;5;241m.\u001b[39mread_csv(\u001b[38;5;124m'\u001b[39m\u001b[38;5;124m./MRV Data - 2020.csv\u001b[39m\u001b[38;5;124m'\u001b[39m)\n",
      "File \u001b[1;32m~\\anaconda3\\lib\\site-packages\\pandas\\util\\_decorators.py:311\u001b[0m, in \u001b[0;36mdeprecate_nonkeyword_arguments.<locals>.decorate.<locals>.wrapper\u001b[1;34m(*args, **kwargs)\u001b[0m\n\u001b[0;32m    305\u001b[0m \u001b[38;5;28;01mif\u001b[39;00m \u001b[38;5;28mlen\u001b[39m(args) \u001b[38;5;241m>\u001b[39m num_allow_args:\n\u001b[0;32m    306\u001b[0m     warnings\u001b[38;5;241m.\u001b[39mwarn(\n\u001b[0;32m    307\u001b[0m         msg\u001b[38;5;241m.\u001b[39mformat(arguments\u001b[38;5;241m=\u001b[39marguments),\n\u001b[0;32m    308\u001b[0m         \u001b[38;5;167;01mFutureWarning\u001b[39;00m,\n\u001b[0;32m    309\u001b[0m         stacklevel\u001b[38;5;241m=\u001b[39mstacklevel,\n\u001b[0;32m    310\u001b[0m     )\n\u001b[1;32m--> 311\u001b[0m \u001b[38;5;28;01mreturn\u001b[39;00m func(\u001b[38;5;241m*\u001b[39margs, \u001b[38;5;241m*\u001b[39m\u001b[38;5;241m*\u001b[39mkwargs)\n",
      "File \u001b[1;32m~\\anaconda3\\lib\\site-packages\\pandas\\io\\parsers\\readers.py:680\u001b[0m, in \u001b[0;36mread_csv\u001b[1;34m(filepath_or_buffer, sep, delimiter, header, names, index_col, usecols, squeeze, prefix, mangle_dupe_cols, dtype, engine, converters, true_values, false_values, skipinitialspace, skiprows, skipfooter, nrows, na_values, keep_default_na, na_filter, verbose, skip_blank_lines, parse_dates, infer_datetime_format, keep_date_col, date_parser, dayfirst, cache_dates, iterator, chunksize, compression, thousands, decimal, lineterminator, quotechar, quoting, doublequote, escapechar, comment, encoding, encoding_errors, dialect, error_bad_lines, warn_bad_lines, on_bad_lines, delim_whitespace, low_memory, memory_map, float_precision, storage_options)\u001b[0m\n\u001b[0;32m    665\u001b[0m kwds_defaults \u001b[38;5;241m=\u001b[39m _refine_defaults_read(\n\u001b[0;32m    666\u001b[0m     dialect,\n\u001b[0;32m    667\u001b[0m     delimiter,\n\u001b[1;32m   (...)\u001b[0m\n\u001b[0;32m    676\u001b[0m     defaults\u001b[38;5;241m=\u001b[39m{\u001b[38;5;124m\"\u001b[39m\u001b[38;5;124mdelimiter\u001b[39m\u001b[38;5;124m\"\u001b[39m: \u001b[38;5;124m\"\u001b[39m\u001b[38;5;124m,\u001b[39m\u001b[38;5;124m\"\u001b[39m},\n\u001b[0;32m    677\u001b[0m )\n\u001b[0;32m    678\u001b[0m kwds\u001b[38;5;241m.\u001b[39mupdate(kwds_defaults)\n\u001b[1;32m--> 680\u001b[0m \u001b[38;5;28;01mreturn\u001b[39;00m \u001b[43m_read\u001b[49m\u001b[43m(\u001b[49m\u001b[43mfilepath_or_buffer\u001b[49m\u001b[43m,\u001b[49m\u001b[43m \u001b[49m\u001b[43mkwds\u001b[49m\u001b[43m)\u001b[49m\n",
      "File \u001b[1;32m~\\anaconda3\\lib\\site-packages\\pandas\\io\\parsers\\readers.py:575\u001b[0m, in \u001b[0;36m_read\u001b[1;34m(filepath_or_buffer, kwds)\u001b[0m\n\u001b[0;32m    572\u001b[0m _validate_names(kwds\u001b[38;5;241m.\u001b[39mget(\u001b[38;5;124m\"\u001b[39m\u001b[38;5;124mnames\u001b[39m\u001b[38;5;124m\"\u001b[39m, \u001b[38;5;28;01mNone\u001b[39;00m))\n\u001b[0;32m    574\u001b[0m \u001b[38;5;66;03m# Create the parser.\u001b[39;00m\n\u001b[1;32m--> 575\u001b[0m parser \u001b[38;5;241m=\u001b[39m TextFileReader(filepath_or_buffer, \u001b[38;5;241m*\u001b[39m\u001b[38;5;241m*\u001b[39mkwds)\n\u001b[0;32m    577\u001b[0m \u001b[38;5;28;01mif\u001b[39;00m chunksize \u001b[38;5;129;01mor\u001b[39;00m iterator:\n\u001b[0;32m    578\u001b[0m     \u001b[38;5;28;01mreturn\u001b[39;00m parser\n",
      "File \u001b[1;32m~\\anaconda3\\lib\\site-packages\\pandas\\io\\parsers\\readers.py:933\u001b[0m, in \u001b[0;36mTextFileReader.__init__\u001b[1;34m(self, f, engine, **kwds)\u001b[0m\n\u001b[0;32m    930\u001b[0m     \u001b[38;5;28mself\u001b[39m\u001b[38;5;241m.\u001b[39moptions[\u001b[38;5;124m\"\u001b[39m\u001b[38;5;124mhas_index_names\u001b[39m\u001b[38;5;124m\"\u001b[39m] \u001b[38;5;241m=\u001b[39m kwds[\u001b[38;5;124m\"\u001b[39m\u001b[38;5;124mhas_index_names\u001b[39m\u001b[38;5;124m\"\u001b[39m]\n\u001b[0;32m    932\u001b[0m \u001b[38;5;28mself\u001b[39m\u001b[38;5;241m.\u001b[39mhandles: IOHandles \u001b[38;5;241m|\u001b[39m \u001b[38;5;28;01mNone\u001b[39;00m \u001b[38;5;241m=\u001b[39m \u001b[38;5;28;01mNone\u001b[39;00m\n\u001b[1;32m--> 933\u001b[0m \u001b[38;5;28mself\u001b[39m\u001b[38;5;241m.\u001b[39m_engine \u001b[38;5;241m=\u001b[39m \u001b[38;5;28;43mself\u001b[39;49m\u001b[38;5;241;43m.\u001b[39;49m\u001b[43m_make_engine\u001b[49m\u001b[43m(\u001b[49m\u001b[43mf\u001b[49m\u001b[43m,\u001b[49m\u001b[43m \u001b[49m\u001b[38;5;28;43mself\u001b[39;49m\u001b[38;5;241;43m.\u001b[39;49m\u001b[43mengine\u001b[49m\u001b[43m)\u001b[49m\n",
      "File \u001b[1;32m~\\anaconda3\\lib\\site-packages\\pandas\\io\\parsers\\readers.py:1217\u001b[0m, in \u001b[0;36mTextFileReader._make_engine\u001b[1;34m(self, f, engine)\u001b[0m\n\u001b[0;32m   1213\u001b[0m     mode \u001b[38;5;241m=\u001b[39m \u001b[38;5;124m\"\u001b[39m\u001b[38;5;124mrb\u001b[39m\u001b[38;5;124m\"\u001b[39m\n\u001b[0;32m   1214\u001b[0m \u001b[38;5;66;03m# error: No overload variant of \"get_handle\" matches argument types\u001b[39;00m\n\u001b[0;32m   1215\u001b[0m \u001b[38;5;66;03m# \"Union[str, PathLike[str], ReadCsvBuffer[bytes], ReadCsvBuffer[str]]\"\u001b[39;00m\n\u001b[0;32m   1216\u001b[0m \u001b[38;5;66;03m# , \"str\", \"bool\", \"Any\", \"Any\", \"Any\", \"Any\", \"Any\"\u001b[39;00m\n\u001b[1;32m-> 1217\u001b[0m \u001b[38;5;28mself\u001b[39m\u001b[38;5;241m.\u001b[39mhandles \u001b[38;5;241m=\u001b[39m \u001b[43mget_handle\u001b[49m\u001b[43m(\u001b[49m\u001b[43m  \u001b[49m\u001b[38;5;66;43;03m# type: ignore[call-overload]\u001b[39;49;00m\n\u001b[0;32m   1218\u001b[0m \u001b[43m    \u001b[49m\u001b[43mf\u001b[49m\u001b[43m,\u001b[49m\n\u001b[0;32m   1219\u001b[0m \u001b[43m    \u001b[49m\u001b[43mmode\u001b[49m\u001b[43m,\u001b[49m\n\u001b[0;32m   1220\u001b[0m \u001b[43m    \u001b[49m\u001b[43mencoding\u001b[49m\u001b[38;5;241;43m=\u001b[39;49m\u001b[38;5;28;43mself\u001b[39;49m\u001b[38;5;241;43m.\u001b[39;49m\u001b[43moptions\u001b[49m\u001b[38;5;241;43m.\u001b[39;49m\u001b[43mget\u001b[49m\u001b[43m(\u001b[49m\u001b[38;5;124;43m\"\u001b[39;49m\u001b[38;5;124;43mencoding\u001b[39;49m\u001b[38;5;124;43m\"\u001b[39;49m\u001b[43m,\u001b[49m\u001b[43m \u001b[49m\u001b[38;5;28;43;01mNone\u001b[39;49;00m\u001b[43m)\u001b[49m\u001b[43m,\u001b[49m\n\u001b[0;32m   1221\u001b[0m \u001b[43m    \u001b[49m\u001b[43mcompression\u001b[49m\u001b[38;5;241;43m=\u001b[39;49m\u001b[38;5;28;43mself\u001b[39;49m\u001b[38;5;241;43m.\u001b[39;49m\u001b[43moptions\u001b[49m\u001b[38;5;241;43m.\u001b[39;49m\u001b[43mget\u001b[49m\u001b[43m(\u001b[49m\u001b[38;5;124;43m\"\u001b[39;49m\u001b[38;5;124;43mcompression\u001b[39;49m\u001b[38;5;124;43m\"\u001b[39;49m\u001b[43m,\u001b[49m\u001b[43m \u001b[49m\u001b[38;5;28;43;01mNone\u001b[39;49;00m\u001b[43m)\u001b[49m\u001b[43m,\u001b[49m\n\u001b[0;32m   1222\u001b[0m \u001b[43m    \u001b[49m\u001b[43mmemory_map\u001b[49m\u001b[38;5;241;43m=\u001b[39;49m\u001b[38;5;28;43mself\u001b[39;49m\u001b[38;5;241;43m.\u001b[39;49m\u001b[43moptions\u001b[49m\u001b[38;5;241;43m.\u001b[39;49m\u001b[43mget\u001b[49m\u001b[43m(\u001b[49m\u001b[38;5;124;43m\"\u001b[39;49m\u001b[38;5;124;43mmemory_map\u001b[39;49m\u001b[38;5;124;43m\"\u001b[39;49m\u001b[43m,\u001b[49m\u001b[43m \u001b[49m\u001b[38;5;28;43;01mFalse\u001b[39;49;00m\u001b[43m)\u001b[49m\u001b[43m,\u001b[49m\n\u001b[0;32m   1223\u001b[0m \u001b[43m    \u001b[49m\u001b[43mis_text\u001b[49m\u001b[38;5;241;43m=\u001b[39;49m\u001b[43mis_text\u001b[49m\u001b[43m,\u001b[49m\n\u001b[0;32m   1224\u001b[0m \u001b[43m    \u001b[49m\u001b[43merrors\u001b[49m\u001b[38;5;241;43m=\u001b[39;49m\u001b[38;5;28;43mself\u001b[39;49m\u001b[38;5;241;43m.\u001b[39;49m\u001b[43moptions\u001b[49m\u001b[38;5;241;43m.\u001b[39;49m\u001b[43mget\u001b[49m\u001b[43m(\u001b[49m\u001b[38;5;124;43m\"\u001b[39;49m\u001b[38;5;124;43mencoding_errors\u001b[39;49m\u001b[38;5;124;43m\"\u001b[39;49m\u001b[43m,\u001b[49m\u001b[43m \u001b[49m\u001b[38;5;124;43m\"\u001b[39;49m\u001b[38;5;124;43mstrict\u001b[39;49m\u001b[38;5;124;43m\"\u001b[39;49m\u001b[43m)\u001b[49m\u001b[43m,\u001b[49m\n\u001b[0;32m   1225\u001b[0m \u001b[43m    \u001b[49m\u001b[43mstorage_options\u001b[49m\u001b[38;5;241;43m=\u001b[39;49m\u001b[38;5;28;43mself\u001b[39;49m\u001b[38;5;241;43m.\u001b[39;49m\u001b[43moptions\u001b[49m\u001b[38;5;241;43m.\u001b[39;49m\u001b[43mget\u001b[49m\u001b[43m(\u001b[49m\u001b[38;5;124;43m\"\u001b[39;49m\u001b[38;5;124;43mstorage_options\u001b[39;49m\u001b[38;5;124;43m\"\u001b[39;49m\u001b[43m,\u001b[49m\u001b[43m \u001b[49m\u001b[38;5;28;43;01mNone\u001b[39;49;00m\u001b[43m)\u001b[49m\u001b[43m,\u001b[49m\n\u001b[0;32m   1226\u001b[0m \u001b[43m\u001b[49m\u001b[43m)\u001b[49m\n\u001b[0;32m   1227\u001b[0m \u001b[38;5;28;01massert\u001b[39;00m \u001b[38;5;28mself\u001b[39m\u001b[38;5;241m.\u001b[39mhandles \u001b[38;5;129;01mis\u001b[39;00m \u001b[38;5;129;01mnot\u001b[39;00m \u001b[38;5;28;01mNone\u001b[39;00m\n\u001b[0;32m   1228\u001b[0m f \u001b[38;5;241m=\u001b[39m \u001b[38;5;28mself\u001b[39m\u001b[38;5;241m.\u001b[39mhandles\u001b[38;5;241m.\u001b[39mhandle\n",
      "File \u001b[1;32m~\\anaconda3\\lib\\site-packages\\pandas\\io\\common.py:789\u001b[0m, in \u001b[0;36mget_handle\u001b[1;34m(path_or_buf, mode, encoding, compression, memory_map, is_text, errors, storage_options)\u001b[0m\n\u001b[0;32m    784\u001b[0m \u001b[38;5;28;01melif\u001b[39;00m \u001b[38;5;28misinstance\u001b[39m(handle, \u001b[38;5;28mstr\u001b[39m):\n\u001b[0;32m    785\u001b[0m     \u001b[38;5;66;03m# Check whether the filename is to be opened in binary mode.\u001b[39;00m\n\u001b[0;32m    786\u001b[0m     \u001b[38;5;66;03m# Binary mode does not support 'encoding' and 'newline'.\u001b[39;00m\n\u001b[0;32m    787\u001b[0m     \u001b[38;5;28;01mif\u001b[39;00m ioargs\u001b[38;5;241m.\u001b[39mencoding \u001b[38;5;129;01mand\u001b[39;00m \u001b[38;5;124m\"\u001b[39m\u001b[38;5;124mb\u001b[39m\u001b[38;5;124m\"\u001b[39m \u001b[38;5;129;01mnot\u001b[39;00m \u001b[38;5;129;01min\u001b[39;00m ioargs\u001b[38;5;241m.\u001b[39mmode:\n\u001b[0;32m    788\u001b[0m         \u001b[38;5;66;03m# Encoding\u001b[39;00m\n\u001b[1;32m--> 789\u001b[0m         handle \u001b[38;5;241m=\u001b[39m \u001b[38;5;28;43mopen\u001b[39;49m\u001b[43m(\u001b[49m\n\u001b[0;32m    790\u001b[0m \u001b[43m            \u001b[49m\u001b[43mhandle\u001b[49m\u001b[43m,\u001b[49m\n\u001b[0;32m    791\u001b[0m \u001b[43m            \u001b[49m\u001b[43mioargs\u001b[49m\u001b[38;5;241;43m.\u001b[39;49m\u001b[43mmode\u001b[49m\u001b[43m,\u001b[49m\n\u001b[0;32m    792\u001b[0m \u001b[43m            \u001b[49m\u001b[43mencoding\u001b[49m\u001b[38;5;241;43m=\u001b[39;49m\u001b[43mioargs\u001b[49m\u001b[38;5;241;43m.\u001b[39;49m\u001b[43mencoding\u001b[49m\u001b[43m,\u001b[49m\n\u001b[0;32m    793\u001b[0m \u001b[43m            \u001b[49m\u001b[43merrors\u001b[49m\u001b[38;5;241;43m=\u001b[39;49m\u001b[43merrors\u001b[49m\u001b[43m,\u001b[49m\n\u001b[0;32m    794\u001b[0m \u001b[43m            \u001b[49m\u001b[43mnewline\u001b[49m\u001b[38;5;241;43m=\u001b[39;49m\u001b[38;5;124;43m\"\u001b[39;49m\u001b[38;5;124;43m\"\u001b[39;49m\u001b[43m,\u001b[49m\n\u001b[0;32m    795\u001b[0m \u001b[43m        \u001b[49m\u001b[43m)\u001b[49m\n\u001b[0;32m    796\u001b[0m     \u001b[38;5;28;01melse\u001b[39;00m:\n\u001b[0;32m    797\u001b[0m         \u001b[38;5;66;03m# Binary mode\u001b[39;00m\n\u001b[0;32m    798\u001b[0m         handle \u001b[38;5;241m=\u001b[39m \u001b[38;5;28mopen\u001b[39m(handle, ioargs\u001b[38;5;241m.\u001b[39mmode)\n",
      "\u001b[1;31mFileNotFoundError\u001b[0m: [Errno 2] No such file or directory: './MRV Data - 2018.csv'"
     ]
    }
   ],
   "source": [
    "data = pd.read_csv('./MRV Data - 2018.csv')\n",
    "data2 = pd.read_csv('./MRV Data - 2019.csv')\n",
    "data3 = pd.read_csv('./MRV Data - 2020.csv')"
   ]
  },
  {
   "cell_type": "code",
   "execution_count": null,
   "id": "73d27a4f",
   "metadata": {},
   "outputs": [],
   "source": [
    "data = data[(data['Ship type']=='Oil tanker') \n",
    "            &(data['Total fuel consumption [m tonnes]'] > 0) \n",
    "            &(data['Total CO₂ emissions [m tonnes]'] > 0)]\n",
    "data['Annual average Fuel consumption per transport work (mass) [g / m tonnes · n miles]'] =(\n",
    "    data['Annual average Fuel consumption per transport work (mass) [g / m tonnes · n miles]']\n",
    "    .apply(lambda x: np.nan if x=='Division by zero!' else x))\n",
    "data['Annual average CO₂ emissions per transport work (mass) [g CO₂ / m tonnes · n miles]'] = (\n",
    "    data['Annual average CO₂ emissions per transport work (mass) [g CO₂ / m tonnes · n miles]']\n",
    "    .apply(lambda x: np.nan if x=='Division by zero!' else x))\n",
    "data.rename(columns= {'IMO Number' : 'IMO'}, inplace=True)\n",
    "\n",
    "\n",
    "data.dropna(subset=['Annual average Fuel consumption per transport work (mass) [g / m tonnes · n miles]', \n",
    "                    'Annual average CO₂ emissions per transport work (mass) [g CO₂ / m tonnes · n miles]'], inplace = True)\n",
    "\n",
    "#float \n",
    "data['Annual average Fuel consumption per distance [kg / n mile]'] = data['Annual average Fuel consumption per distance [kg / n mile]'].astype(float)\n",
    "data['Annual average CO₂ emissions per distance [kg CO₂ / n mile]'] = data['Annual average CO₂ emissions per distance [kg CO₂ / n mile]'].astype(float)\n",
    "\n",
    "data.head()"
   ]
  },
  {
   "cell_type": "code",
   "execution_count": 10,
   "id": "2dadfd63",
   "metadata": {},
   "outputs": [],
   "source": [
    "data2 = data2[(data2['Ship type']=='Oil tanker') \n",
    "            &(data2['Total fuel consumption [m tonnes]'] > 0) \n",
    "            &(data2['Total CO₂ emissions [m tonnes]'] > 0)]\n",
    "data2['Annual average Fuel consumption per transport work (mass) [g / m tonnes · n miles]'] =(\n",
    "    data2['Annual average Fuel consumption per transport work (mass) [g / m tonnes · n miles]']\n",
    "    .apply(lambda x: np.nan if x=='Division by zero!' else x))\n",
    "data2['Annual average CO₂ emissions per transport work (mass) [g CO₂ / m tonnes · n miles]'] = (\n",
    "    data2['Annual average CO₂ emissions per transport work (mass) [g CO₂ / m tonnes · n miles]']\n",
    "    .apply(lambda x: np.nan if x=='Division by zero!' else x))\n",
    "data2.rename(columns= {'IMO Number' : 'IMO'}, inplace=True)\n",
    "\n",
    "\n",
    "data2.dropna(subset=['Annual average Fuel consumption per transport work (mass) [g / m tonnes · n miles]', \n",
    "                    'Annual average CO₂ emissions per transport work (mass) [g CO₂ / m tonnes · n miles]'], inplace = True)\n",
    "\n",
    "#float \n",
    "data2['Annual average Fuel consumption per distance [kg / n mile]'] = data2['Annual average Fuel consumption per distance [kg / n mile]'].astype(float)\n",
    "data2['Annual average CO₂ emissions per distance [kg CO₂ / n mile]'] = data2['Annual average CO₂ emissions per distance [kg CO₂ / n mile]'].astype(float)\n",
    "\n",
    "#data2.head()"
   ]
  },
  {
   "cell_type": "code",
   "execution_count": 11,
   "id": "e52e6982",
   "metadata": {},
   "outputs": [],
   "source": [
    "data3 = data3[(data3['Ship type']=='Oil tanker') \n",
    "            &(data3['Total fuel consumption [m tonnes]'] > 0) \n",
    "            &(data3['Total CO₂ emissions [m tonnes]'] > 0)]\n",
    "data3['Annual average Fuel consumption per transport work (mass) [g / m tonnes · n miles]'] =(\n",
    "    data3['Annual average Fuel consumption per transport work (mass) [g / m tonnes · n miles]']\n",
    "    .apply(lambda x: np.nan if x=='Division by zero!' else x))\n",
    "data3['Annual average CO₂ emissions per transport work (mass) [g CO₂ / m tonnes · n miles]'] = (\n",
    "    data3['Annual average CO₂ emissions per transport work (mass) [g CO₂ / m tonnes · n miles]']\n",
    "    .apply(lambda x: np.nan if x=='Division by zero!' else x))\n",
    "data3.rename(columns= {'IMO Number' : 'IMO'}, inplace=True)\n",
    "\n",
    "\n",
    "data3.dropna(subset=['Annual average Fuel consumption per transport work (mass) [g / m tonnes · n miles]', \n",
    "                    'Annual average CO₂ emissions per transport work (mass) [g CO₂ / m tonnes · n miles]'], inplace = True)\n",
    "\n",
    "#float \n",
    "data3['Annual average Fuel consumption per distance [kg / n mile]'] = data3['Annual average Fuel consumption per distance [kg / n mile]'].astype(float)\n",
    "data3['Annual average CO₂ emissions per distance [kg CO₂ / n mile]'] = data3['Annual average CO₂ emissions per distance [kg CO₂ / n mile]'].astype(float)\n",
    "\n",
    "#data3.head()"
   ]
  },
  {
   "cell_type": "code",
   "execution_count": 13,
   "id": "93c6ca59",
   "metadata": {},
   "outputs": [],
   "source": [
    "frames = [data, data2, data3]\n",
    "merged_years = pd.concat(frames, axis = 0)"
   ]
  },
  {
   "cell_type": "code",
   "execution_count": 16,
   "id": "4ee60d4a",
   "metadata": {},
   "outputs": [
    {
     "name": "stdout",
     "output_type": "stream",
     "text": [
      "<class 'pandas.core.frame.DataFrame'>\n",
      "Int64Index: 5579 entries, 404 to 11823\n",
      "Data columns (total 61 columns):\n",
      " #   Column                                                                                                                   Non-Null Count  Dtype  \n",
      "---  ------                                                                                                                   --------------  -----  \n",
      " 0   IMO                                                                                                                      5579 non-null   int64  \n",
      " 1   Name                                                                                                                     5579 non-null   object \n",
      " 2   Ship type                                                                                                                5579 non-null   object \n",
      " 3   Reporting Period                                                                                                         5579 non-null   int64  \n",
      " 4   Technical efficiency                                                                                                     5415 non-null   object \n",
      " 5   Port of Registry                                                                                                         3452 non-null   object \n",
      " 6   Home Port                                                                                                                839 non-null    object \n",
      " 7   Ice Class                                                                                                                592 non-null    object \n",
      " 8   DoC issue date                                                                                                           3744 non-null   object \n",
      " 9   DoC expiry date                                                                                                          3744 non-null   object \n",
      " 10  Verifier Number                                                                                                          1309 non-null   object \n",
      " 11  Verifier Name                                                                                                            3744 non-null   object \n",
      " 12  Verifier NAB                                                                                                             3744 non-null   object \n",
      " 13  Verifier Address                                                                                                         3744 non-null   object \n",
      " 14  Verifier City                                                                                                            3744 non-null   object \n",
      " 15  Verifier Accreditation number                                                                                            3744 non-null   object \n",
      " 16  Verifier Country                                                                                                         3744 non-null   object \n",
      " 17  A                                                                                                                        1376 non-null   object \n",
      " 18  B                                                                                                                        1626 non-null   object \n",
      " 19  C                                                                                                                        1200 non-null   object \n",
      " 20  D                                                                                                                        0 non-null      object \n",
      " 21  Total fuel consumption [m tonnes]                                                                                        5579 non-null   float64\n",
      " 22  Fuel consumptions assigned to On laden [m tonnes]                                                                        261 non-null    float64\n",
      " 23  Total CO₂ emissions [m tonnes]                                                                                           5579 non-null   float64\n",
      " 24  CO₂ emissions from all voyages between ports under a MS jurisdiction [m tonnes]                                          3744 non-null   float64\n",
      " 25  CO₂ emissions from all voyages which departed from ports under a MS jurisdiction [m tonnes]                              3744 non-null   float64\n",
      " 26  CO₂ emissions from all voyages to ports under a MS jurisdiction [m tonnes]                                               3744 non-null   float64\n",
      " 27  CO₂ emissions which occurred within ports under a MS jurisdiction at berth [m tonnes]                                    3744 non-null   float64\n",
      " 28  CO₂ emissions assigned to Passenger transport [m tonnes]                                                                 0 non-null      float64\n",
      " 29  CO₂ emissions assigned to Freight transport [m tonnes]                                                                   0 non-null      float64\n",
      " 30  CO₂ emissions assigned to On laden [m tonnes]                                                                            261 non-null    float64\n",
      " 31  Annual Total time spent at sea [hours]                                                                                   3744 non-null   float64\n",
      " 32  Annual average Fuel consumption per distance [kg / n mile]                                                               5579 non-null   float64\n",
      " 33  Annual average Fuel consumption per transport work (mass) [g / m tonnes · n miles]                                       5579 non-null   object \n",
      " 34  Annual average Fuel consumption per transport work (volume) [g / m³ · n miles]                                           0 non-null      object \n",
      " 35  Annual average Fuel consumption per transport work (dwt) [g / dwt carried · n miles]                                     4 non-null      object \n",
      " 36  Annual average Fuel consumption per transport work (pax) [g / pax · n miles]                                             0 non-null      object \n",
      " 37  Annual average Fuel consumption per transport work (freight) [g / m tonnes · n miles]                                    0 non-null      object \n",
      " 38  Annual average CO₂ emissions per distance [kg CO₂ / n mile]                                                              5579 non-null   float64\n",
      " 39  Annual average CO₂ emissions per transport work (mass) [g CO₂ / m tonnes · n miles]                                      5579 non-null   object \n",
      " 40  Annual average CO₂ emissions per transport work (volume) [g CO₂ / m³ · n miles]                                          0 non-null      object \n",
      " 41  Annual average CO₂ emissions per transport work (dwt) [g CO₂ / dwt carried · n miles]                                    4 non-null      object \n",
      " 42  Annual average CO₂ emissions per transport work (pax) [g CO₂ / pax · n miles]                                            0 non-null      object \n",
      " 43  Annual average CO₂ emissions per transport work (freight) [g CO₂ / m tonnes · n miles]                                   0 non-null      object \n",
      " 44  Through ice [n miles]                                                                                                    145 non-null    float64\n",
      " 45  Total time spent at sea [hours]                                                                                          3744 non-null   float64\n",
      " 46  Total time spent at sea through ice [hours]                                                                              145 non-null    float64\n",
      " 47  Fuel consumption per distance on laden voyages [kg / n mile]                                                             261 non-null    object \n",
      " 48  Fuel consumption per transport work (mass) on laden voyages [g / m tonnes · n miles]                                     261 non-null    object \n",
      " 49  Fuel consumption per transport work (volume) on laden voyages [g / m³ · n miles]                                         0 non-null      object \n",
      " 50  Fuel consumption per transport work (dwt) on laden voyages [g / dwt carried · n miles]                                   0 non-null      object \n",
      " 51  Fuel consumption per transport work (pax) on laden voyages [g / pax · n miles]                                           0 non-null      float64\n",
      " 52  Fuel consumption per transport work (freight) on laden voyages [g / m tonnes · n miles]                                  0 non-null      float64\n",
      " 53  CO₂ emissions per distance on laden voyages [kg CO₂ / n mile]                                                            261 non-null    object \n",
      " 54  CO₂ emissions per transport work (mass) on laden voyages [g CO₂ / m tonnes · n miles]                                    261 non-null    object \n",
      " 55  CO₂ emissions per transport work (volume) on laden voyages [g CO₂ / m³ · n miles]                                        0 non-null      object \n",
      " 56  CO₂ emissions per transport work (dwt) on laden voyages [g CO₂ / dwt carried · n miles]                                  0 non-null      object \n",
      " 57  CO₂ emissions per transport work (pax) on laden voyages [g CO₂ / pax · n miles]                                          0 non-null      float64\n",
      " 58  CO₂ emissions per transport work (freight) on laden voyages [g CO₂ / m tonnes · n miles]                                 0 non-null      float64\n",
      " 59  Additional information to facilitate the understanding of the reported average operational energy efficiency indicators  6 non-null      object \n",
      " 60  Average density of the cargo transported [m tonnes / m³]                                                                 0 non-null      float64\n",
      "dtypes: float64(21), int64(2), object(38)\n",
      "memory usage: 2.6+ MB\n"
     ]
    }
   ],
   "source": [
    "merged_years.info()"
   ]
  },
  {
   "cell_type": "code",
   "execution_count": 17,
   "id": "80887404",
   "metadata": {},
   "outputs": [
    {
     "data": {
      "text/plain": [
       "<AxesSubplot:>"
      ]
     },
     "execution_count": 17,
     "metadata": {},
     "output_type": "execute_result"
    },
    {
     "data": {
      "image/png": "[encoded data removed]",
      "text/plain": [
       "<Figure size 432x288 with 1 Axes>"
      ]
     },
     "metadata": {
      "needs_background": "light"
     },
     "output_type": "display_data"
    }
   ],
   "source": [
    "merged_years.boxplot('Annual average Fuel consumption per distance [kg / n mile]')"
   ]
  },
  {
   "cell_type": "code",
   "execution_count": 18,
   "id": "3a3e3176",
   "metadata": {},
   "outputs": [],
   "source": [
    "#drop outliers\n",
    "\n",
    "merged_years.drop(merged_years.index[merged_years['Annual average Fuel consumption per distance [kg / n mile]'] > 400], inplace=True)"
   ]
  },
  {
   "cell_type": "code",
   "execution_count": 10,
   "id": "72c39c9f",
   "metadata": {
    "scrolled": true
   },
   "outputs": [
    {
     "name": "stdout",
     "output_type": "stream",
     "text": [
      "<class 'pandas.core.frame.DataFrame'>\n",
      "Int64Index: 5548 entries, 404 to 11823\n",
      "Data columns (total 61 columns):\n",
      " #   Column                                                                                                                   Non-Null Count  Dtype  \n",
      "---  ------                                                                                                                   --------------  -----  \n",
      " 0   IMO                                                                                                                      5548 non-null   int64  \n",
      " 1   Name                                                                                                                     5548 non-null   object \n",
      " 2   Ship type                                                                                                                5548 non-null   object \n",
      " 3   Reporting Period                                                                                                         5548 non-null   int64  \n",
      " 4   Technical efficiency                                                                                                     5384 non-null   object \n",
      " 5   Port of Registry                                                                                                         3432 non-null   object \n",
      " 6   Home Port                                                                                                                832 non-null    object \n",
      " 7   Ice Class                                                                                                                589 non-null    object \n",
      " 8   DoC issue date                                                                                                           3724 non-null   object \n",
      " 9   DoC expiry date                                                                                                          3724 non-null   object \n",
      " 10  Verifier Number                                                                                                          1301 non-null   object \n",
      " 11  Verifier Name                                                                                                            3724 non-null   object \n",
      " 12  Verifier NAB                                                                                                             3724 non-null   object \n",
      " 13  Verifier Address                                                                                                         3724 non-null   object \n",
      " 14  Verifier City                                                                                                            3724 non-null   object \n",
      " 15  Verifier Accreditation number                                                                                            3724 non-null   object \n",
      " 16  Verifier Country                                                                                                         3724 non-null   object \n",
      " 17  A                                                                                                                        1367 non-null   object \n",
      " 18  B                                                                                                                        1617 non-null   object \n",
      " 19  C                                                                                                                        1194 non-null   object \n",
      " 20  D                                                                                                                        0 non-null      object \n",
      " 21  Total fuel consumption [m tonnes]                                                                                        5548 non-null   float64\n",
      " 22  Fuel consumptions assigned to On laden [m tonnes]                                                                        260 non-null    float64\n",
      " 23  Total CO₂ emissions [m tonnes]                                                                                           5548 non-null   float64\n",
      " 24  CO₂ emissions from all voyages between ports under a MS jurisdiction [m tonnes]                                          3724 non-null   float64\n",
      " 25  CO₂ emissions from all voyages which departed from ports under a MS jurisdiction [m tonnes]                              3724 non-null   float64\n",
      " 26  CO₂ emissions from all voyages to ports under a MS jurisdiction [m tonnes]                                               3724 non-null   float64\n",
      " 27  CO₂ emissions which occurred within ports under a MS jurisdiction at berth [m tonnes]                                    3724 non-null   float64\n",
      " 28  CO₂ emissions assigned to Passenger transport [m tonnes]                                                                 0 non-null      float64\n",
      " 29  CO₂ emissions assigned to Freight transport [m tonnes]                                                                   0 non-null      float64\n",
      " 30  CO₂ emissions assigned to On laden [m tonnes]                                                                            260 non-null    float64\n",
      " 31  Annual Total time spent at sea [hours]                                                                                   3724 non-null   float64\n",
      " 32  Annual average Fuel consumption per distance [kg / n mile]                                                               5548 non-null   float64\n",
      " 33  Annual average Fuel consumption per transport work (mass) [g / m tonnes · n miles]                                       5548 non-null   object \n",
      " 34  Annual average Fuel consumption per transport work (volume) [g / m³ · n miles]                                           0 non-null      object \n",
      " 35  Annual average Fuel consumption per transport work (dwt) [g / dwt carried · n miles]                                     4 non-null      object \n",
      " 36  Annual average Fuel consumption per transport work (pax) [g / pax · n miles]                                             0 non-null      object \n",
      " 37  Annual average Fuel consumption per transport work (freight) [g / m tonnes · n miles]                                    0 non-null      object \n",
      " 38  Annual average CO₂ emissions per distance [kg CO₂ / n mile]                                                              5548 non-null   float64\n",
      " 39  Annual average CO₂ emissions per transport work (mass) [g CO₂ / m tonnes · n miles]                                      5548 non-null   object \n",
      " 40  Annual average CO₂ emissions per transport work (volume) [g CO₂ / m³ · n miles]                                          0 non-null      object \n",
      " 41  Annual average CO₂ emissions per transport work (dwt) [g CO₂ / dwt carried · n miles]                                    4 non-null      object \n",
      " 42  Annual average CO₂ emissions per transport work (pax) [g CO₂ / pax · n miles]                                            0 non-null      object \n",
      " 43  Annual average CO₂ emissions per transport work (freight) [g CO₂ / m tonnes · n miles]                                   0 non-null      object \n",
      " 44  Through ice [n miles]                                                                                                    144 non-null    float64\n",
      " 45  Total time spent at sea [hours]                                                                                          3724 non-null   float64\n",
      " 46  Total time spent at sea through ice [hours]                                                                              144 non-null    float64\n",
      " 47  Fuel consumption per distance on laden voyages [kg / n mile]                                                             260 non-null    object \n",
      " 48  Fuel consumption per transport work (mass) on laden voyages [g / m tonnes · n miles]                                     260 non-null    object \n",
      " 49  Fuel consumption per transport work (volume) on laden voyages [g / m³ · n miles]                                         0 non-null      object \n",
      " 50  Fuel consumption per transport work (dwt) on laden voyages [g / dwt carried · n miles]                                   0 non-null      object \n",
      " 51  Fuel consumption per transport work (pax) on laden voyages [g / pax · n miles]                                           0 non-null      float64\n",
      " 52  Fuel consumption per transport work (freight) on laden voyages [g / m tonnes · n miles]                                  0 non-null      float64\n",
      " 53  CO₂ emissions per distance on laden voyages [kg CO₂ / n mile]                                                            260 non-null    object \n",
      " 54  CO₂ emissions per transport work (mass) on laden voyages [g CO₂ / m tonnes · n miles]                                    260 non-null    object \n",
      " 55  CO₂ emissions per transport work (volume) on laden voyages [g CO₂ / m³ · n miles]                                        0 non-null      object \n",
      " 56  CO₂ emissions per transport work (dwt) on laden voyages [g CO₂ / dwt carried · n miles]                                  0 non-null      object \n",
      " 57  CO₂ emissions per transport work (pax) on laden voyages [g CO₂ / pax · n miles]                                          0 non-null      float64\n",
      " 58  CO₂ emissions per transport work (freight) on laden voyages [g CO₂ / m tonnes · n miles]                                 0 non-null      float64\n",
      " 59  Additional information to facilitate the understanding of the reported average operational energy efficiency indicators  6 non-null      object \n",
      " 60  Average density of the cargo transported [m tonnes / m³]                                                                 0 non-null      float64\n",
      "dtypes: float64(21), int64(2), object(38)\n",
      "memory usage: 2.6+ MB\n"
     ]
    }
   ],
   "source": [
    "merged_years.info()"
   ]
  },
  {
   "cell_type": "code",
   "execution_count": 12,
   "id": "8f43a870",
   "metadata": {},
   "outputs": [],
   "source": [
    "merged_years.to_csv('./merged_datasets.csv', index=False)"
   ]
  },
  {
   "cell_type": "code",
   "execution_count": 19,
   "id": "e6e3557e",
   "metadata": {},
   "outputs": [
    {
     "name": "stdout",
     "output_type": "stream",
     "text": [
      "<class 'pandas.core.frame.DataFrame'>\n",
      "Int64Index: 5548 entries, 404 to 11823\n",
      "Data columns (total 2 columns):\n",
      " #   Column                                                      Non-Null Count  Dtype  \n",
      "---  ------                                                      --------------  -----  \n",
      " 0   IMO                                                         5548 non-null   int64  \n",
      " 1   Annual average Fuel consumption per distance [kg / n mile]  5548 non-null   float64\n",
      "dtypes: float64(1), int64(1)\n",
      "memory usage: 130.0 KB\n"
     ]
    }
   ],
   "source": [
    "avg_cons_per_distance = merged_years[['IMO', 'Annual average Fuel consumption per distance [kg / n mile]']]\n",
    "avg_cons_per_distance.info()"
   ]
  },
  {
   "cell_type": "code",
   "execution_count": 20,
   "id": "6b59d20a",
   "metadata": {
    "scrolled": false
   },
   "outputs": [
    {
     "data": {
      "text/plain": [
       "<AxesSubplot:>"
      ]
     },
     "execution_count": 20,
     "metadata": {},
     "output_type": "execute_result"
    },
    {
     "data": {
      "image/png": "[encoded data removed]",
      "text/plain": [
       "<Figure size 1080x720 with 1 Axes>"
      ]
     },
     "metadata": {
      "needs_background": "light"
     },
     "output_type": "display_data"
    }
   ],
   "source": [
    "plt.figure(figsize = (15, 10))\n",
    "avg_cons_per_distance.boxplot('Annual average Fuel consumption per distance [kg / n mile]')"
   ]
  },
  {
   "cell_type": "code",
   "execution_count": 21,
   "id": "608eb0f1",
   "metadata": {},
   "outputs": [
    {
     "name": "stdout",
     "output_type": "stream",
     "text": [
      "<class 'pandas.core.frame.DataFrame'>\n",
      "Int64Index: 5548 entries, 404 to 11823\n",
      "Data columns (total 2 columns):\n",
      " #   Column                                                      Non-Null Count  Dtype  \n",
      "---  ------                                                      --------------  -----  \n",
      " 0   IMO                                                         5548 non-null   int64  \n",
      " 1   Annual average Fuel consumption per distance [kg / n mile]  5548 non-null   float64\n",
      "dtypes: float64(1), int64(1)\n",
      "memory usage: 130.0 KB\n"
     ]
    },
    {
     "data": {
      "text/plain": [
       "IMO                                                           0\n",
       "Annual average Fuel consumption per distance [kg / n mile]    0\n",
       "dtype: int64"
      ]
     },
     "execution_count": 21,
     "metadata": {},
     "output_type": "execute_result"
    }
   ],
   "source": [
    "avg_cons_per_distance.info()\n",
    "avg_cons_per_distance.isnull().sum()"
   ]
  },
  {
   "cell_type": "code",
   "execution_count": 16,
   "id": "73411059",
   "metadata": {},
   "outputs": [],
   "source": [
    "##\n",
    "##\n",
    "##\n",
    "##\n",
    "### Was connecting to the databases to get some missing info. Code deleted"
   ]
  },
  {
   "cell_type": "code",
   "execution_count": 17,
   "id": "3a72ccab",
   "metadata": {},
   "outputs": [
    {
     "name": "stdout",
     "output_type": "stream",
     "text": [
      "5563\n"
     ]
    }
   ],
   "source": [
    "columns = ['IMO', 'Main Engine KW','Deadweight', \n",
    "           'Gross Rated Tonnage', 'YearBuilt']\n",
    "vessel_info = pd.DataFrame(columns=columns)\n",
    "imolist = avg_cons_per_distance.IMO.tolist()\n",
    "print(len(imolist))\n",
    "coma_list = ','.join([str(i) for i in imolist])"
   ]
  },
  {
   "cell_type": "code",
   "execution_count": 18,
   "id": "849e1cf1",
   "metadata": {},
   "outputs": [],
   "source": [
    "vessel_info = get_vessel_info(coma_list)"
   ]
  },
  {
   "cell_type": "code",
   "execution_count": 19,
   "id": "e7493b2a",
   "metadata": {},
   "outputs": [
    {
     "name": "stdout",
     "output_type": "stream",
     "text": [
      "<class 'pandas.core.frame.DataFrame'>\n",
      "RangeIndex: 2597 entries, 0 to 2596\n",
      "Data columns (total 5 columns):\n",
      " #   Column             Non-Null Count  Dtype  \n",
      "---  ------             --------------  -----  \n",
      " 0   IMO                2597 non-null   int64  \n",
      " 1   MainEngineKW       2340 non-null   float64\n",
      " 2   Deadweight         2597 non-null   int64  \n",
      " 3   GrossRatedTonnage  2597 non-null   int64  \n",
      " 4   Yearbuilt          2597 non-null   int64  \n",
      "dtypes: float64(1), int64(4)\n",
      "memory usage: 101.6 KB\n"
     ]
    }
   ],
   "source": [
    "vessel_info.info()"
   ]
  },
  {
   "cell_type": "code",
   "execution_count": 2,
   "id": "48c5ad18",
   "metadata": {},
   "outputs": [
    {
     "ename": "NameError",
     "evalue": "name 'vessel_info' is not defined",
     "output_type": "error",
     "traceback": [
      "\u001b[1;31m---------------------------------------------------------------------------\u001b[0m",
      "\u001b[1;31mNameError\u001b[0m                                 Traceback (most recent call last)",
      "\u001b[1;32m<ipython-input-2-03d88a2e534f>\u001b[0m in \u001b[0;36m<module>\u001b[1;34m\u001b[0m\n\u001b[1;32m----> 1\u001b[1;33m \u001b[0mvessel_info\u001b[0m\u001b[1;33m.\u001b[0m\u001b[0mto_csv\u001b[0m\u001b[1;33m(\u001b[0m\u001b[1;34m'./vessel_information.csv'\u001b[0m\u001b[1;33m,\u001b[0m \u001b[0mindex\u001b[0m\u001b[1;33m=\u001b[0m\u001b[1;32mFalse\u001b[0m\u001b[1;33m)\u001b[0m\u001b[1;33m\u001b[0m\u001b[1;33m\u001b[0m\u001b[0m\n\u001b[0m",
      "\u001b[1;31mNameError\u001b[0m: name 'vessel_info' is not defined"
     ]
    }
   ],
   "source": [
    "vessel_info.to_csv('./vessel_information.csv', index=False)"
   ]
  },
  {
   "cell_type": "code",
   "execution_count": 39,
   "id": "9d6c288e",
   "metadata": {},
   "outputs": [],
   "source": [
    "vessel_info_1 = pd.merge(vessel_info_1, avg_cons_per_distance, how = 'left', on=['IMO'])\n",
    "vessel_info_1.dropna(subset=['MainEngineKW', 'Annual average Fuel consumption per distance [kg / n mile]'], inplace = True)"
   ]
  },
  {
   "cell_type": "code",
   "execution_count": 40,
   "id": "37dba11f",
   "metadata": {},
   "outputs": [
    {
     "name": "stdout",
     "output_type": "stream",
     "text": [
      "<class 'pandas.core.frame.DataFrame'>\n",
      "Int64Index: 4929 entries, 0 to 5483\n",
      "Data columns (total 6 columns):\n",
      " #   Column                                                      Non-Null Count  Dtype  \n",
      "---  ------                                                      --------------  -----  \n",
      " 0   IMO                                                         4929 non-null   int64  \n",
      " 1   MainEngineKW                                                4929 non-null   float64\n",
      " 2   Deadweight                                                  4929 non-null   int64  \n",
      " 3   GrossRatedTonnage                                           4929 non-null   int64  \n",
      " 4   Yearbuilt                                                   4929 non-null   int64  \n",
      " 5   Annual average Fuel consumption per distance [kg / n mile]  4929 non-null   float64\n",
      "dtypes: float64(2), int64(4)\n",
      "memory usage: 269.6 KB\n"
     ]
    }
   ],
   "source": [
    "vessel_info_1.info()\n",
    "#vessel_info_1.max()"
   ]
  },
  {
   "cell_type": "code",
   "execution_count": 27,
   "id": "73f09c32",
   "metadata": {},
   "outputs": [
    {
     "data": {
      "text/plain": [
       "IMO                                                           2340\n",
       "MainEngineKW                                                   416\n",
       "Deadweight                                                    1731\n",
       "GrossRatedTonnage                                             1091\n",
       "Yearbuilt                                                       27\n",
       "Annual average Fuel consumption per distance [kg / n mile]    4248\n",
       "dtype: int64"
      ]
     },
     "execution_count": 27,
     "metadata": {},
     "output_type": "execute_result"
    }
   ],
   "source": [
    "vessel_info_1.nunique()"
   ]
  },
  {
   "cell_type": "code",
   "execution_count": 3,
   "id": "6dc3a3a7",
   "metadata": {},
   "outputs": [
    {
     "ename": "NameError",
     "evalue": "name 'vessel_info_1' is not defined",
     "output_type": "error",
     "traceback": [
      "\u001b[1;31m---------------------------------------------------------------------------\u001b[0m",
      "\u001b[1;31mNameError\u001b[0m                                 Traceback (most recent call last)",
      "\u001b[1;32m<ipython-input-3-07489fd72ed0>\u001b[0m in \u001b[0;36m<module>\u001b[1;34m\u001b[0m\n\u001b[1;32m----> 1\u001b[1;33m \u001b[0mvessel_info_1\u001b[0m\u001b[1;33m.\u001b[0m\u001b[0mto_csv\u001b[0m\u001b[1;33m(\u001b[0m\u001b[1;34m'./vessel_information_1.csv'\u001b[0m\u001b[1;33m,\u001b[0m \u001b[0mindex\u001b[0m\u001b[1;33m=\u001b[0m\u001b[1;32mFalse\u001b[0m\u001b[1;33m)\u001b[0m\u001b[1;33m\u001b[0m\u001b[1;33m\u001b[0m\u001b[0m\n\u001b[0m",
      "\u001b[1;31mNameError\u001b[0m: name 'vessel_info_1' is not defined"
     ]
    }
   ],
   "source": [
    "vessel_info_1.to_csv('./vessel_information_1.csv', index=False)"
   ]
  },
  {
   "cell_type": "code",
   "execution_count": 38,
   "id": "759eeae3",
   "metadata": {},
   "outputs": [],
   "source": [
    "vessel_info_1 = pd.read_csv('./vessel_information.csv')\n"
   ]
  },
  {
   "cell_type": "code",
   "execution_count": 7,
   "id": "187a1041",
   "metadata": {},
   "outputs": [
    {
     "data": {
      "text/html": [
       "<div>\n",
       "<style scoped>\n",
       "    .dataframe tbody tr th:only-of-type {\n",
       "        vertical-align: middle;\n",
       "    }\n",
       "\n",
       "    .dataframe tbody tr th {\n",
       "        vertical-align: top;\n",
       "    }\n",
       "\n",
       "    .dataframe thead th {\n",
       "        text-align: right;\n",
       "    }\n",
       "</style>\n",
       "<table border=\"1\" class=\"dataframe\">\n",
       "  <thead>\n",
       "    <tr style=\"text-align: right;\">\n",
       "      <th></th>\n",
       "      <th>IMO</th>\n",
       "      <th>MainEngineKW</th>\n",
       "      <th>Deadweight</th>\n",
       "      <th>GrossRatedTonnage</th>\n",
       "      <th>Yearbuilt</th>\n",
       "    </tr>\n",
       "  </thead>\n",
       "  <tbody>\n",
       "    <tr>\n",
       "      <th>0</th>\n",
       "      <td>8905787</td>\n",
       "      <td>3360.0</td>\n",
       "      <td>12223</td>\n",
       "      <td>9094</td>\n",
       "      <td>1995</td>\n",
       "    </tr>\n",
       "    <tr>\n",
       "      <th>1</th>\n",
       "      <td>9010929</td>\n",
       "      <td>4080.0</td>\n",
       "      <td>8000</td>\n",
       "      <td>5045</td>\n",
       "      <td>1993</td>\n",
       "    </tr>\n",
       "    <tr>\n",
       "      <th>2</th>\n",
       "      <td>9114608</td>\n",
       "      <td>16859.0</td>\n",
       "      <td>148435</td>\n",
       "      <td>79832</td>\n",
       "      <td>1996</td>\n",
       "    </tr>\n",
       "    <tr>\n",
       "      <th>3</th>\n",
       "      <td>9125279</td>\n",
       "      <td>5400.0</td>\n",
       "      <td>10044</td>\n",
       "      <td>6877</td>\n",
       "      <td>1996</td>\n",
       "    </tr>\n",
       "    <tr>\n",
       "      <th>4</th>\n",
       "      <td>9144794</td>\n",
       "      <td>14004.0</td>\n",
       "      <td>106504</td>\n",
       "      <td>56127</td>\n",
       "      <td>1998</td>\n",
       "    </tr>\n",
       "    <tr>\n",
       "      <th>...</th>\n",
       "      <td>...</td>\n",
       "      <td>...</td>\n",
       "      <td>...</td>\n",
       "      <td>...</td>\n",
       "      <td>...</td>\n",
       "    </tr>\n",
       "    <tr>\n",
       "      <th>2592</th>\n",
       "      <td>9868778</td>\n",
       "      <td>13450.0</td>\n",
       "      <td>114900</td>\n",
       "      <td>62000</td>\n",
       "      <td>2020</td>\n",
       "    </tr>\n",
       "    <tr>\n",
       "      <th>2593</th>\n",
       "      <td>9871012</td>\n",
       "      <td>6560.0</td>\n",
       "      <td>37430</td>\n",
       "      <td>23420</td>\n",
       "      <td>2019</td>\n",
       "    </tr>\n",
       "    <tr>\n",
       "      <th>2594</th>\n",
       "      <td>9874210</td>\n",
       "      <td>24330.0</td>\n",
       "      <td>302000</td>\n",
       "      <td>157208</td>\n",
       "      <td>2020</td>\n",
       "    </tr>\n",
       "    <tr>\n",
       "      <th>2595</th>\n",
       "      <td>9878838</td>\n",
       "      <td>24500.0</td>\n",
       "      <td>299772</td>\n",
       "      <td>154046</td>\n",
       "      <td>2020</td>\n",
       "    </tr>\n",
       "    <tr>\n",
       "      <th>2596</th>\n",
       "      <td>9884045</td>\n",
       "      <td>21840.0</td>\n",
       "      <td>157447</td>\n",
       "      <td>81502</td>\n",
       "      <td>2020</td>\n",
       "    </tr>\n",
       "  </tbody>\n",
       "</table>\n",
       "<p>2597 rows × 5 columns</p>\n",
       "</div>"
      ],
      "text/plain": [
       "          IMO  MainEngineKW  Deadweight  GrossRatedTonnage  Yearbuilt\n",
       "0     8905787        3360.0       12223               9094       1995\n",
       "1     9010929        4080.0        8000               5045       1993\n",
       "2     9114608       16859.0      148435              79832       1996\n",
       "3     9125279        5400.0       10044               6877       1996\n",
       "4     9144794       14004.0      106504              56127       1998\n",
       "...       ...           ...         ...                ...        ...\n",
       "2592  9868778       13450.0      114900              62000       2020\n",
       "2593  9871012        6560.0       37430              23420       2019\n",
       "2594  9874210       24330.0      302000             157208       2020\n",
       "2595  9878838       24500.0      299772             154046       2020\n",
       "2596  9884045       21840.0      157447              81502       2020\n",
       "\n",
       "[2597 rows x 5 columns]"
      ]
     },
     "execution_count": 7,
     "metadata": {},
     "output_type": "execute_result"
    }
   ],
   "source": [
    "vessel_info_1"
   ]
  },
  {
   "cell_type": "code",
   "execution_count": 6,
   "id": "17107875",
   "metadata": {},
   "outputs": [
    {
     "ename": "KeyError",
     "evalue": "\"None of [Index(['Annual average Fuel consumption per distance [kg / n mile]'], dtype='object')] are in the [columns]\"",
     "output_type": "error",
     "traceback": [
      "\u001b[1;31m---------------------------------------------------------------------------\u001b[0m",
      "\u001b[1;31mKeyError\u001b[0m                                  Traceback (most recent call last)",
      "\u001b[1;32m<ipython-input-6-f0e9ffc898c8>\u001b[0m in \u001b[0;36m<module>\u001b[1;34m\u001b[0m\n\u001b[0;32m      1\u001b[0m \u001b[0mplt\u001b[0m\u001b[1;33m.\u001b[0m\u001b[0mfigure\u001b[0m\u001b[1;33m(\u001b[0m\u001b[0mfigsize\u001b[0m \u001b[1;33m=\u001b[0m \u001b[1;33m(\u001b[0m\u001b[1;36m15\u001b[0m\u001b[1;33m,\u001b[0m \u001b[1;36m10\u001b[0m\u001b[1;33m)\u001b[0m\u001b[1;33m)\u001b[0m\u001b[1;33m\u001b[0m\u001b[1;33m\u001b[0m\u001b[0m\n\u001b[1;32m----> 2\u001b[1;33m \u001b[0mvessel_info_1\u001b[0m\u001b[1;33m.\u001b[0m\u001b[0mboxplot\u001b[0m\u001b[1;33m(\u001b[0m\u001b[1;34m'Annual average Fuel consumption per distance [kg / n mile]'\u001b[0m\u001b[1;33m)\u001b[0m\u001b[1;33m\u001b[0m\u001b[1;33m\u001b[0m\u001b[0m\n\u001b[0m",
      "\u001b[1;32m~\\Anaconda3\\lib\\site-packages\\pandas\\plotting\\_core.py\u001b[0m in \u001b[0;36mboxplot_frame\u001b[1;34m(self, column, by, ax, fontsize, rot, grid, figsize, layout, return_type, backend, **kwargs)\u001b[0m\n\u001b[0;32m    492\u001b[0m ):\n\u001b[0;32m    493\u001b[0m     \u001b[0mplot_backend\u001b[0m \u001b[1;33m=\u001b[0m \u001b[0m_get_plot_backend\u001b[0m\u001b[1;33m(\u001b[0m\u001b[0mbackend\u001b[0m\u001b[1;33m)\u001b[0m\u001b[1;33m\u001b[0m\u001b[1;33m\u001b[0m\u001b[0m\n\u001b[1;32m--> 494\u001b[1;33m     return plot_backend.boxplot_frame(\n\u001b[0m\u001b[0;32m    495\u001b[0m         \u001b[0mself\u001b[0m\u001b[1;33m,\u001b[0m\u001b[1;33m\u001b[0m\u001b[1;33m\u001b[0m\u001b[0m\n\u001b[0;32m    496\u001b[0m         \u001b[0mcolumn\u001b[0m\u001b[1;33m=\u001b[0m\u001b[0mcolumn\u001b[0m\u001b[1;33m,\u001b[0m\u001b[1;33m\u001b[0m\u001b[1;33m\u001b[0m\u001b[0m\n",
      "\u001b[1;32m~\\Anaconda3\\lib\\site-packages\\pandas\\plotting\\_matplotlib\\boxplot.py\u001b[0m in \u001b[0;36mboxplot_frame\u001b[1;34m(self, column, by, ax, fontsize, rot, grid, figsize, layout, return_type, **kwds)\u001b[0m\n\u001b[0;32m    383\u001b[0m     \u001b[1;32mimport\u001b[0m \u001b[0mmatplotlib\u001b[0m\u001b[1;33m.\u001b[0m\u001b[0mpyplot\u001b[0m \u001b[1;32mas\u001b[0m \u001b[0mplt\u001b[0m\u001b[1;33m\u001b[0m\u001b[1;33m\u001b[0m\u001b[0m\n\u001b[0;32m    384\u001b[0m \u001b[1;33m\u001b[0m\u001b[0m\n\u001b[1;32m--> 385\u001b[1;33m     ax = boxplot(\n\u001b[0m\u001b[0;32m    386\u001b[0m         \u001b[0mself\u001b[0m\u001b[1;33m,\u001b[0m\u001b[1;33m\u001b[0m\u001b[1;33m\u001b[0m\u001b[0m\n\u001b[0;32m    387\u001b[0m         \u001b[0mcolumn\u001b[0m\u001b[1;33m=\u001b[0m\u001b[0mcolumn\u001b[0m\u001b[1;33m,\u001b[0m\u001b[1;33m\u001b[0m\u001b[1;33m\u001b[0m\u001b[0m\n",
      "\u001b[1;32m~\\Anaconda3\\lib\\site-packages\\pandas\\plotting\\_matplotlib\\boxplot.py\u001b[0m in \u001b[0;36mboxplot\u001b[1;34m(data, column, by, ax, fontsize, rot, grid, figsize, layout, return_type, **kwds)\u001b[0m\n\u001b[0;32m    360\u001b[0m             \u001b[0mcolumns\u001b[0m \u001b[1;33m=\u001b[0m \u001b[0mdata\u001b[0m\u001b[1;33m.\u001b[0m\u001b[0mcolumns\u001b[0m\u001b[1;33m\u001b[0m\u001b[1;33m\u001b[0m\u001b[0m\n\u001b[0;32m    361\u001b[0m         \u001b[1;32melse\u001b[0m\u001b[1;33m:\u001b[0m\u001b[1;33m\u001b[0m\u001b[1;33m\u001b[0m\u001b[0m\n\u001b[1;32m--> 362\u001b[1;33m             \u001b[0mdata\u001b[0m \u001b[1;33m=\u001b[0m \u001b[0mdata\u001b[0m\u001b[1;33m[\u001b[0m\u001b[0mcolumns\u001b[0m\u001b[1;33m]\u001b[0m\u001b[1;33m\u001b[0m\u001b[1;33m\u001b[0m\u001b[0m\n\u001b[0m\u001b[0;32m    363\u001b[0m \u001b[1;33m\u001b[0m\u001b[0m\n\u001b[0;32m    364\u001b[0m         \u001b[0mresult\u001b[0m \u001b[1;33m=\u001b[0m \u001b[0mplot_group\u001b[0m\u001b[1;33m(\u001b[0m\u001b[0mcolumns\u001b[0m\u001b[1;33m,\u001b[0m \u001b[0mdata\u001b[0m\u001b[1;33m.\u001b[0m\u001b[0mvalues\u001b[0m\u001b[1;33m.\u001b[0m\u001b[0mT\u001b[0m\u001b[1;33m,\u001b[0m \u001b[0max\u001b[0m\u001b[1;33m)\u001b[0m\u001b[1;33m\u001b[0m\u001b[1;33m\u001b[0m\u001b[0m\n",
      "\u001b[1;32m~\\Anaconda3\\lib\\site-packages\\pandas\\core\\frame.py\u001b[0m in \u001b[0;36m__getitem__\u001b[1;34m(self, key)\u001b[0m\n\u001b[0;32m   3028\u001b[0m             \u001b[1;32mif\u001b[0m \u001b[0mis_iterator\u001b[0m\u001b[1;33m(\u001b[0m\u001b[0mkey\u001b[0m\u001b[1;33m)\u001b[0m\u001b[1;33m:\u001b[0m\u001b[1;33m\u001b[0m\u001b[1;33m\u001b[0m\u001b[0m\n\u001b[0;32m   3029\u001b[0m                 \u001b[0mkey\u001b[0m \u001b[1;33m=\u001b[0m \u001b[0mlist\u001b[0m\u001b[1;33m(\u001b[0m\u001b[0mkey\u001b[0m\u001b[1;33m)\u001b[0m\u001b[1;33m\u001b[0m\u001b[1;33m\u001b[0m\u001b[0m\n\u001b[1;32m-> 3030\u001b[1;33m             \u001b[0mindexer\u001b[0m \u001b[1;33m=\u001b[0m \u001b[0mself\u001b[0m\u001b[1;33m.\u001b[0m\u001b[0mloc\u001b[0m\u001b[1;33m.\u001b[0m\u001b[0m_get_listlike_indexer\u001b[0m\u001b[1;33m(\u001b[0m\u001b[0mkey\u001b[0m\u001b[1;33m,\u001b[0m \u001b[0maxis\u001b[0m\u001b[1;33m=\u001b[0m\u001b[1;36m1\u001b[0m\u001b[1;33m,\u001b[0m \u001b[0mraise_missing\u001b[0m\u001b[1;33m=\u001b[0m\u001b[1;32mTrue\u001b[0m\u001b[1;33m)\u001b[0m\u001b[1;33m[\u001b[0m\u001b[1;36m1\u001b[0m\u001b[1;33m]\u001b[0m\u001b[1;33m\u001b[0m\u001b[1;33m\u001b[0m\u001b[0m\n\u001b[0m\u001b[0;32m   3031\u001b[0m \u001b[1;33m\u001b[0m\u001b[0m\n\u001b[0;32m   3032\u001b[0m         \u001b[1;31m# take() does not accept boolean indexers\u001b[0m\u001b[1;33m\u001b[0m\u001b[1;33m\u001b[0m\u001b[1;33m\u001b[0m\u001b[0m\n",
      "\u001b[1;32m~\\Anaconda3\\lib\\site-packages\\pandas\\core\\indexing.py\u001b[0m in \u001b[0;36m_get_listlike_indexer\u001b[1;34m(self, key, axis, raise_missing)\u001b[0m\n\u001b[0;32m   1264\u001b[0m             \u001b[0mkeyarr\u001b[0m\u001b[1;33m,\u001b[0m \u001b[0mindexer\u001b[0m\u001b[1;33m,\u001b[0m \u001b[0mnew_indexer\u001b[0m \u001b[1;33m=\u001b[0m \u001b[0max\u001b[0m\u001b[1;33m.\u001b[0m\u001b[0m_reindex_non_unique\u001b[0m\u001b[1;33m(\u001b[0m\u001b[0mkeyarr\u001b[0m\u001b[1;33m)\u001b[0m\u001b[1;33m\u001b[0m\u001b[1;33m\u001b[0m\u001b[0m\n\u001b[0;32m   1265\u001b[0m \u001b[1;33m\u001b[0m\u001b[0m\n\u001b[1;32m-> 1266\u001b[1;33m         \u001b[0mself\u001b[0m\u001b[1;33m.\u001b[0m\u001b[0m_validate_read_indexer\u001b[0m\u001b[1;33m(\u001b[0m\u001b[0mkeyarr\u001b[0m\u001b[1;33m,\u001b[0m \u001b[0mindexer\u001b[0m\u001b[1;33m,\u001b[0m \u001b[0maxis\u001b[0m\u001b[1;33m,\u001b[0m \u001b[0mraise_missing\u001b[0m\u001b[1;33m=\u001b[0m\u001b[0mraise_missing\u001b[0m\u001b[1;33m)\u001b[0m\u001b[1;33m\u001b[0m\u001b[1;33m\u001b[0m\u001b[0m\n\u001b[0m\u001b[0;32m   1267\u001b[0m         \u001b[1;32mreturn\u001b[0m \u001b[0mkeyarr\u001b[0m\u001b[1;33m,\u001b[0m \u001b[0mindexer\u001b[0m\u001b[1;33m\u001b[0m\u001b[1;33m\u001b[0m\u001b[0m\n\u001b[0;32m   1268\u001b[0m \u001b[1;33m\u001b[0m\u001b[0m\n",
      "\u001b[1;32m~\\Anaconda3\\lib\\site-packages\\pandas\\core\\indexing.py\u001b[0m in \u001b[0;36m_validate_read_indexer\u001b[1;34m(self, key, indexer, axis, raise_missing)\u001b[0m\n\u001b[0;32m   1306\u001b[0m             \u001b[1;32mif\u001b[0m \u001b[0mmissing\u001b[0m \u001b[1;33m==\u001b[0m \u001b[0mlen\u001b[0m\u001b[1;33m(\u001b[0m\u001b[0mindexer\u001b[0m\u001b[1;33m)\u001b[0m\u001b[1;33m:\u001b[0m\u001b[1;33m\u001b[0m\u001b[1;33m\u001b[0m\u001b[0m\n\u001b[0;32m   1307\u001b[0m                 \u001b[0maxis_name\u001b[0m \u001b[1;33m=\u001b[0m \u001b[0mself\u001b[0m\u001b[1;33m.\u001b[0m\u001b[0mobj\u001b[0m\u001b[1;33m.\u001b[0m\u001b[0m_get_axis_name\u001b[0m\u001b[1;33m(\u001b[0m\u001b[0maxis\u001b[0m\u001b[1;33m)\u001b[0m\u001b[1;33m\u001b[0m\u001b[1;33m\u001b[0m\u001b[0m\n\u001b[1;32m-> 1308\u001b[1;33m                 \u001b[1;32mraise\u001b[0m \u001b[0mKeyError\u001b[0m\u001b[1;33m(\u001b[0m\u001b[1;34mf\"None of [{key}] are in the [{axis_name}]\"\u001b[0m\u001b[1;33m)\u001b[0m\u001b[1;33m\u001b[0m\u001b[1;33m\u001b[0m\u001b[0m\n\u001b[0m\u001b[0;32m   1309\u001b[0m \u001b[1;33m\u001b[0m\u001b[0m\n\u001b[0;32m   1310\u001b[0m             \u001b[0max\u001b[0m \u001b[1;33m=\u001b[0m \u001b[0mself\u001b[0m\u001b[1;33m.\u001b[0m\u001b[0mobj\u001b[0m\u001b[1;33m.\u001b[0m\u001b[0m_get_axis\u001b[0m\u001b[1;33m(\u001b[0m\u001b[0maxis\u001b[0m\u001b[1;33m)\u001b[0m\u001b[1;33m\u001b[0m\u001b[1;33m\u001b[0m\u001b[0m\n",
      "\u001b[1;31mKeyError\u001b[0m: \"None of [Index(['Annual average Fuel consumption per distance [kg / n mile]'], dtype='object')] are in the [columns]\""
     ]
    },
    {
     "data": {
      "image/png": "[encoded data removed]",
      "text/plain": [
       "<Figure size 1080x720 with 1 Axes>"
      ]
     },
     "metadata": {
      "needs_background": "light"
     },
     "output_type": "display_data"
    }
   ],
   "source": [
    "plt.figure(figsize = (15, 10))\n",
    "vessel_info_1.boxplot('Annual average Fuel consumption per distance [kg / n mile]')"
   ]
  },
  {
   "cell_type": "code",
   "execution_count": 125,
   "id": "dd935f86",
   "metadata": {},
   "outputs": [
    {
     "name": "stdout",
     "output_type": "stream",
     "text": [
      "<class 'pandas.core.frame.DataFrame'>\n",
      "Int64Index: 4941 entries, 0 to 5492\n",
      "Data columns (total 6 columns):\n",
      " #   Column                                                      Non-Null Count  Dtype  \n",
      "---  ------                                                      --------------  -----  \n",
      " 0   IMO                                                         4941 non-null   int64  \n",
      " 1   MainEngineKW                                                4941 non-null   float64\n",
      " 2   Deadweight                                                  4941 non-null   int64  \n",
      " 3   GrossRatedTonnage                                           4941 non-null   int64  \n",
      " 4   Yearbuilt                                                   4941 non-null   int64  \n",
      " 5   Annual average Fuel consumption per distance [kg / n mile]  4941 non-null   float64\n",
      "dtypes: float64(2), int64(4)\n",
      "memory usage: 270.2 KB\n"
     ]
    }
   ],
   "source": [
    "vessel_info_1.info()"
   ]
  },
  {
   "cell_type": "code",
   "execution_count": 49,
   "id": "c795a437",
   "metadata": {},
   "outputs": [
    {
     "data": {
      "text/html": [
       "<div>\n",
       "<style scoped>\n",
       "    .dataframe tbody tr th:only-of-type {\n",
       "        vertical-align: middle;\n",
       "    }\n",
       "\n",
       "    .dataframe tbody tr th {\n",
       "        vertical-align: top;\n",
       "    }\n",
       "\n",
       "    .dataframe thead th {\n",
       "        text-align: right;\n",
       "    }\n",
       "</style>\n",
       "<table border=\"1\" class=\"dataframe\">\n",
       "  <thead>\n",
       "    <tr style=\"text-align: right;\">\n",
       "      <th></th>\n",
       "      <th>IMO</th>\n",
       "      <th>MainEngineKW</th>\n",
       "      <th>Deadweight</th>\n",
       "      <th>GrossRatedTonnage</th>\n",
       "      <th>Yearbuilt</th>\n",
       "      <th>Annual average Fuel consumption per distance [kg / n mile]</th>\n",
       "    </tr>\n",
       "  </thead>\n",
       "  <tbody>\n",
       "    <tr>\n",
       "      <th>0</th>\n",
       "      <td>8905787</td>\n",
       "      <td>3360.0</td>\n",
       "      <td>12223</td>\n",
       "      <td>9094</td>\n",
       "      <td>1995</td>\n",
       "      <td>84.30</td>\n",
       "    </tr>\n",
       "    <tr>\n",
       "      <th>1</th>\n",
       "      <td>8905787</td>\n",
       "      <td>3360.0</td>\n",
       "      <td>12223</td>\n",
       "      <td>9094</td>\n",
       "      <td>1995</td>\n",
       "      <td>84.58</td>\n",
       "    </tr>\n",
       "    <tr>\n",
       "      <th>2</th>\n",
       "      <td>9010929</td>\n",
       "      <td>4080.0</td>\n",
       "      <td>8000</td>\n",
       "      <td>5045</td>\n",
       "      <td>1993</td>\n",
       "      <td>72.10</td>\n",
       "    </tr>\n",
       "    <tr>\n",
       "      <th>3</th>\n",
       "      <td>9010929</td>\n",
       "      <td>4080.0</td>\n",
       "      <td>8000</td>\n",
       "      <td>5045</td>\n",
       "      <td>1993</td>\n",
       "      <td>115.66</td>\n",
       "    </tr>\n",
       "    <tr>\n",
       "      <th>4</th>\n",
       "      <td>9010929</td>\n",
       "      <td>4080.0</td>\n",
       "      <td>8000</td>\n",
       "      <td>5045</td>\n",
       "      <td>1993</td>\n",
       "      <td>123.98</td>\n",
       "    </tr>\n",
       "  </tbody>\n",
       "</table>\n",
       "</div>"
      ],
      "text/plain": [
       "       IMO  MainEngineKW  Deadweight  GrossRatedTonnage  Yearbuilt  \\\n",
       "0  8905787        3360.0       12223               9094       1995   \n",
       "1  8905787        3360.0       12223               9094       1995   \n",
       "2  9010929        4080.0        8000               5045       1993   \n",
       "3  9010929        4080.0        8000               5045       1993   \n",
       "4  9010929        4080.0        8000               5045       1993   \n",
       "\n",
       "   Annual average Fuel consumption per distance [kg / n mile]  \n",
       "0                                              84.30           \n",
       "1                                              84.58           \n",
       "2                                              72.10           \n",
       "3                                             115.66           \n",
       "4                                             123.98           "
      ]
     },
     "execution_count": 49,
     "metadata": {},
     "output_type": "execute_result"
    }
   ],
   "source": [
    "vessel_info_1.head()"
   ]
  },
  {
   "cell_type": "code",
   "execution_count": 41,
   "id": "e0455502",
   "metadata": {},
   "outputs": [],
   "source": [
    "#y = data['Annual average Fuel consumption per distance [kg / n mile]'].values\n",
    "y = vessel_info_1['Annual average Fuel consumption per distance [kg / n mile]'].values\n",
    "\n",
    "x = vessel_info_1.drop(['Annual average Fuel consumption per distance [kg / n mile]', 'IMO'], axis = 1).values"
   ]
  },
  {
   "cell_type": "markdown",
   "id": "998e2f25",
   "metadata": {},
   "source": [
    "### Linear Model"
   ]
  },
  {
   "cell_type": "code",
   "execution_count": 31,
   "id": "11637b1e",
   "metadata": {},
   "outputs": [],
   "source": [
    "from sklearn.model_selection import train_test_split\n",
    "\n",
    "x_train, x_test, y_train, y_test = train_test_split(x, y, test_size = 0.3)"
   ]
  },
  {
   "cell_type": "code",
   "execution_count": 34,
   "id": "7640a217",
   "metadata": {},
   "outputs": [
    {
     "ename": "ValueError",
     "evalue": "Input contains NaN, infinity or a value too large for dtype('float64').",
     "output_type": "error",
     "traceback": [
      "\u001b[1;31m---------------------------------------------------------------------------\u001b[0m",
      "\u001b[1;31mValueError\u001b[0m                                Traceback (most recent call last)",
      "\u001b[1;32m<ipython-input-34-f352af847ea6>\u001b[0m in \u001b[0;36m<module>\u001b[1;34m\u001b[0m\n\u001b[0;32m      3\u001b[0m \u001b[1;33m\u001b[0m\u001b[0m\n\u001b[0;32m      4\u001b[0m \u001b[0mml\u001b[0m \u001b[1;33m=\u001b[0m \u001b[0mLinearRegression\u001b[0m\u001b[1;33m(\u001b[0m\u001b[1;33m)\u001b[0m\u001b[1;33m\u001b[0m\u001b[1;33m\u001b[0m\u001b[0m\n\u001b[1;32m----> 5\u001b[1;33m \u001b[0mml\u001b[0m\u001b[1;33m.\u001b[0m\u001b[0mfit\u001b[0m\u001b[1;33m(\u001b[0m\u001b[0mx_train\u001b[0m\u001b[1;33m,\u001b[0m \u001b[0my_train\u001b[0m\u001b[1;33m)\u001b[0m\u001b[1;33m\u001b[0m\u001b[1;33m\u001b[0m\u001b[0m\n\u001b[0m\u001b[0;32m      6\u001b[0m \u001b[0my_pred_linear\u001b[0m \u001b[1;33m=\u001b[0m \u001b[0mml\u001b[0m\u001b[1;33m.\u001b[0m\u001b[0mpredict\u001b[0m\u001b[1;33m(\u001b[0m\u001b[0mx_test\u001b[0m\u001b[1;33m)\u001b[0m\u001b[1;33m\u001b[0m\u001b[1;33m\u001b[0m\u001b[0m\n\u001b[0;32m      7\u001b[0m \u001b[1;33m\u001b[0m\u001b[0m\n",
      "\u001b[1;32m~\\Anaconda3\\lib\\site-packages\\sklearn\\linear_model\\_base.py\u001b[0m in \u001b[0;36mfit\u001b[1;34m(self, X, y, sample_weight)\u001b[0m\n\u001b[0;32m    516\u001b[0m         \u001b[0maccept_sparse\u001b[0m \u001b[1;33m=\u001b[0m \u001b[1;32mFalse\u001b[0m \u001b[1;32mif\u001b[0m \u001b[0mself\u001b[0m\u001b[1;33m.\u001b[0m\u001b[0mpositive\u001b[0m \u001b[1;32melse\u001b[0m \u001b[1;33m[\u001b[0m\u001b[1;34m'csr'\u001b[0m\u001b[1;33m,\u001b[0m \u001b[1;34m'csc'\u001b[0m\u001b[1;33m,\u001b[0m \u001b[1;34m'coo'\u001b[0m\u001b[1;33m]\u001b[0m\u001b[1;33m\u001b[0m\u001b[1;33m\u001b[0m\u001b[0m\n\u001b[0;32m    517\u001b[0m \u001b[1;33m\u001b[0m\u001b[0m\n\u001b[1;32m--> 518\u001b[1;33m         X, y = self._validate_data(X, y, accept_sparse=accept_sparse,\n\u001b[0m\u001b[0;32m    519\u001b[0m                                    y_numeric=True, multi_output=True)\n\u001b[0;32m    520\u001b[0m \u001b[1;33m\u001b[0m\u001b[0m\n",
      "\u001b[1;32m~\\Anaconda3\\lib\\site-packages\\sklearn\\base.py\u001b[0m in \u001b[0;36m_validate_data\u001b[1;34m(self, X, y, reset, validate_separately, **check_params)\u001b[0m\n\u001b[0;32m    431\u001b[0m                 \u001b[0my\u001b[0m \u001b[1;33m=\u001b[0m \u001b[0mcheck_array\u001b[0m\u001b[1;33m(\u001b[0m\u001b[0my\u001b[0m\u001b[1;33m,\u001b[0m \u001b[1;33m**\u001b[0m\u001b[0mcheck_y_params\u001b[0m\u001b[1;33m)\u001b[0m\u001b[1;33m\u001b[0m\u001b[1;33m\u001b[0m\u001b[0m\n\u001b[0;32m    432\u001b[0m             \u001b[1;32melse\u001b[0m\u001b[1;33m:\u001b[0m\u001b[1;33m\u001b[0m\u001b[1;33m\u001b[0m\u001b[0m\n\u001b[1;32m--> 433\u001b[1;33m                 \u001b[0mX\u001b[0m\u001b[1;33m,\u001b[0m \u001b[0my\u001b[0m \u001b[1;33m=\u001b[0m \u001b[0mcheck_X_y\u001b[0m\u001b[1;33m(\u001b[0m\u001b[0mX\u001b[0m\u001b[1;33m,\u001b[0m \u001b[0my\u001b[0m\u001b[1;33m,\u001b[0m \u001b[1;33m**\u001b[0m\u001b[0mcheck_params\u001b[0m\u001b[1;33m)\u001b[0m\u001b[1;33m\u001b[0m\u001b[1;33m\u001b[0m\u001b[0m\n\u001b[0m\u001b[0;32m    434\u001b[0m             \u001b[0mout\u001b[0m \u001b[1;33m=\u001b[0m \u001b[0mX\u001b[0m\u001b[1;33m,\u001b[0m \u001b[0my\u001b[0m\u001b[1;33m\u001b[0m\u001b[1;33m\u001b[0m\u001b[0m\n\u001b[0;32m    435\u001b[0m \u001b[1;33m\u001b[0m\u001b[0m\n",
      "\u001b[1;32m~\\Anaconda3\\lib\\site-packages\\sklearn\\utils\\validation.py\u001b[0m in \u001b[0;36minner_f\u001b[1;34m(*args, **kwargs)\u001b[0m\n\u001b[0;32m     61\u001b[0m             \u001b[0mextra_args\u001b[0m \u001b[1;33m=\u001b[0m \u001b[0mlen\u001b[0m\u001b[1;33m(\u001b[0m\u001b[0margs\u001b[0m\u001b[1;33m)\u001b[0m \u001b[1;33m-\u001b[0m \u001b[0mlen\u001b[0m\u001b[1;33m(\u001b[0m\u001b[0mall_args\u001b[0m\u001b[1;33m)\u001b[0m\u001b[1;33m\u001b[0m\u001b[1;33m\u001b[0m\u001b[0m\n\u001b[0;32m     62\u001b[0m             \u001b[1;32mif\u001b[0m \u001b[0mextra_args\u001b[0m \u001b[1;33m<=\u001b[0m \u001b[1;36m0\u001b[0m\u001b[1;33m:\u001b[0m\u001b[1;33m\u001b[0m\u001b[1;33m\u001b[0m\u001b[0m\n\u001b[1;32m---> 63\u001b[1;33m                 \u001b[1;32mreturn\u001b[0m \u001b[0mf\u001b[0m\u001b[1;33m(\u001b[0m\u001b[1;33m*\u001b[0m\u001b[0margs\u001b[0m\u001b[1;33m,\u001b[0m \u001b[1;33m**\u001b[0m\u001b[0mkwargs\u001b[0m\u001b[1;33m)\u001b[0m\u001b[1;33m\u001b[0m\u001b[1;33m\u001b[0m\u001b[0m\n\u001b[0m\u001b[0;32m     64\u001b[0m \u001b[1;33m\u001b[0m\u001b[0m\n\u001b[0;32m     65\u001b[0m             \u001b[1;31m# extra_args > 0\u001b[0m\u001b[1;33m\u001b[0m\u001b[1;33m\u001b[0m\u001b[1;33m\u001b[0m\u001b[0m\n",
      "\u001b[1;32m~\\Anaconda3\\lib\\site-packages\\sklearn\\utils\\validation.py\u001b[0m in \u001b[0;36mcheck_X_y\u001b[1;34m(X, y, accept_sparse, accept_large_sparse, dtype, order, copy, force_all_finite, ensure_2d, allow_nd, multi_output, ensure_min_samples, ensure_min_features, y_numeric, estimator)\u001b[0m\n\u001b[0;32m    821\u001b[0m                     estimator=estimator)\n\u001b[0;32m    822\u001b[0m     \u001b[1;32mif\u001b[0m \u001b[0mmulti_output\u001b[0m\u001b[1;33m:\u001b[0m\u001b[1;33m\u001b[0m\u001b[1;33m\u001b[0m\u001b[0m\n\u001b[1;32m--> 823\u001b[1;33m         y = check_array(y, accept_sparse='csr', force_all_finite=True,\n\u001b[0m\u001b[0;32m    824\u001b[0m                         ensure_2d=False, dtype=None)\n\u001b[0;32m    825\u001b[0m     \u001b[1;32melse\u001b[0m\u001b[1;33m:\u001b[0m\u001b[1;33m\u001b[0m\u001b[1;33m\u001b[0m\u001b[0m\n",
      "\u001b[1;32m~\\Anaconda3\\lib\\site-packages\\sklearn\\utils\\validation.py\u001b[0m in \u001b[0;36minner_f\u001b[1;34m(*args, **kwargs)\u001b[0m\n\u001b[0;32m     61\u001b[0m             \u001b[0mextra_args\u001b[0m \u001b[1;33m=\u001b[0m \u001b[0mlen\u001b[0m\u001b[1;33m(\u001b[0m\u001b[0margs\u001b[0m\u001b[1;33m)\u001b[0m \u001b[1;33m-\u001b[0m \u001b[0mlen\u001b[0m\u001b[1;33m(\u001b[0m\u001b[0mall_args\u001b[0m\u001b[1;33m)\u001b[0m\u001b[1;33m\u001b[0m\u001b[1;33m\u001b[0m\u001b[0m\n\u001b[0;32m     62\u001b[0m             \u001b[1;32mif\u001b[0m \u001b[0mextra_args\u001b[0m \u001b[1;33m<=\u001b[0m \u001b[1;36m0\u001b[0m\u001b[1;33m:\u001b[0m\u001b[1;33m\u001b[0m\u001b[1;33m\u001b[0m\u001b[0m\n\u001b[1;32m---> 63\u001b[1;33m                 \u001b[1;32mreturn\u001b[0m \u001b[0mf\u001b[0m\u001b[1;33m(\u001b[0m\u001b[1;33m*\u001b[0m\u001b[0margs\u001b[0m\u001b[1;33m,\u001b[0m \u001b[1;33m**\u001b[0m\u001b[0mkwargs\u001b[0m\u001b[1;33m)\u001b[0m\u001b[1;33m\u001b[0m\u001b[1;33m\u001b[0m\u001b[0m\n\u001b[0m\u001b[0;32m     64\u001b[0m \u001b[1;33m\u001b[0m\u001b[0m\n\u001b[0;32m     65\u001b[0m             \u001b[1;31m# extra_args > 0\u001b[0m\u001b[1;33m\u001b[0m\u001b[1;33m\u001b[0m\u001b[1;33m\u001b[0m\u001b[0m\n",
      "\u001b[1;32m~\\Anaconda3\\lib\\site-packages\\sklearn\\utils\\validation.py\u001b[0m in \u001b[0;36mcheck_array\u001b[1;34m(array, accept_sparse, accept_large_sparse, dtype, order, copy, force_all_finite, ensure_2d, allow_nd, ensure_min_samples, ensure_min_features, estimator)\u001b[0m\n\u001b[0;32m    661\u001b[0m \u001b[1;33m\u001b[0m\u001b[0m\n\u001b[0;32m    662\u001b[0m         \u001b[1;32mif\u001b[0m \u001b[0mforce_all_finite\u001b[0m\u001b[1;33m:\u001b[0m\u001b[1;33m\u001b[0m\u001b[1;33m\u001b[0m\u001b[0m\n\u001b[1;32m--> 663\u001b[1;33m             _assert_all_finite(array,\n\u001b[0m\u001b[0;32m    664\u001b[0m                                allow_nan=force_all_finite == 'allow-nan')\n\u001b[0;32m    665\u001b[0m \u001b[1;33m\u001b[0m\u001b[0m\n",
      "\u001b[1;32m~\\Anaconda3\\lib\\site-packages\\sklearn\\utils\\validation.py\u001b[0m in \u001b[0;36m_assert_all_finite\u001b[1;34m(X, allow_nan, msg_dtype)\u001b[0m\n\u001b[0;32m    101\u001b[0m                 not allow_nan and not np.isfinite(X).all()):\n\u001b[0;32m    102\u001b[0m             \u001b[0mtype_err\u001b[0m \u001b[1;33m=\u001b[0m \u001b[1;34m'infinity'\u001b[0m \u001b[1;32mif\u001b[0m \u001b[0mallow_nan\u001b[0m \u001b[1;32melse\u001b[0m \u001b[1;34m'NaN, infinity'\u001b[0m\u001b[1;33m\u001b[0m\u001b[1;33m\u001b[0m\u001b[0m\n\u001b[1;32m--> 103\u001b[1;33m             raise ValueError(\n\u001b[0m\u001b[0;32m    104\u001b[0m                     \u001b[0mmsg_err\u001b[0m\u001b[1;33m.\u001b[0m\u001b[0mformat\u001b[0m\u001b[1;33m\u001b[0m\u001b[1;33m\u001b[0m\u001b[0m\n\u001b[0;32m    105\u001b[0m                     (type_err,\n",
      "\u001b[1;31mValueError\u001b[0m: Input contains NaN, infinity or a value too large for dtype('float64')."
     ]
    }
   ],
   "source": [
    "from sklearn.linear_model import LinearRegression\n",
    "from sklearn.metrics import r2_score\n",
    "\n",
    "ml = LinearRegression()\n",
    "ml.fit(x_train, y_train)\n",
    "y_pred_linear = ml.predict(x_test)\n",
    "\n",
    "r2_score(y_test, y_pred_linear)"
   ]
  },
  {
   "cell_type": "code",
   "execution_count": 54,
   "id": "019e05b5",
   "metadata": {},
   "outputs": [
    {
     "data": {
      "text/plain": [
       "['finalized_lin_model.sav']"
      ]
     },
     "execution_count": 54,
     "metadata": {},
     "output_type": "execute_result"
    }
   ],
   "source": [
    "import joblib\n",
    "filename = 'finalized_lin_model.sav'\n",
    "joblib.dump(ml, filename)"
   ]
  },
  {
   "cell_type": "code",
   "execution_count": 56,
   "id": "fc41c990",
   "metadata": {},
   "outputs": [
    {
     "data": {
      "text/plain": [
       "['finalized_lin_model.pkl']"
      ]
     },
     "execution_count": 56,
     "metadata": {},
     "output_type": "execute_result"
    }
   ],
   "source": [
    "import joblib\n",
    "filename = 'finalized_lin_model.pkl'\n",
    "joblib.dump(ml, filename)"
   ]
  },
  {
   "cell_type": "code",
   "execution_count": 55,
   "id": "9fb5ef7a",
   "metadata": {},
   "outputs": [
    {
     "data": {
      "text/plain": [
       "array([124.08949502])"
      ]
     },
     "execution_count": 55,
     "metadata": {},
     "output_type": "execute_result"
    }
   ],
   "source": [
    "ml.predict([[3336, 12223, 9094, 1996]])"
   ]
  },
  {
   "cell_type": "code",
   "execution_count": 40,
   "id": "6219587c",
   "metadata": {},
   "outputs": [
    {
     "data": {
      "text/plain": [
       "Text(0, 0.5, 'Predicted')"
      ]
     },
     "execution_count": 40,
     "metadata": {},
     "output_type": "execute_result"
    },
    {
     "data": {
      "image/png": "[encoded data removed]",
      "text/plain": [
       "<Figure size 1080x720 with 1 Axes>"
      ]
     },
     "metadata": {
      "needs_background": "light"
     },
     "output_type": "display_data"
    }
   ],
   "source": [
    "\n",
    "plt.figure(figsize = (15, 10))\n",
    "plt.scatter(y_test, y_pred_linear)\n",
    "plt.xlabel('Actual')\n",
    "plt.ylabel('Predicted')"
   ]
  },
  {
   "cell_type": "markdown",
   "id": "0ee691ce",
   "metadata": {},
   "source": [
    "### Polyonomial Model"
   ]
  },
  {
   "cell_type": "code",
   "execution_count": 42,
   "id": "0248d17d",
   "metadata": {},
   "outputs": [],
   "source": [
    "from sklearn.model_selection import train_test_split\n",
    "\n",
    "x_train, x_test, y_train, y_test = train_test_split(x, y, test_size = 0.3)"
   ]
  },
  {
   "cell_type": "code",
   "execution_count": 43,
   "id": "65ad9ee9",
   "metadata": {},
   "outputs": [
    {
     "data": {
      "text/plain": [
       "LinearRegression()"
      ]
     },
     "execution_count": 43,
     "metadata": {},
     "output_type": "execute_result"
    }
   ],
   "source": [
    "# Fitting Polynomial Regression to the dataset\n",
    "from sklearn.preprocessing import PolynomialFeatures\n",
    "\n",
    "poly_reg = PolynomialFeatures(degree=2)\n",
    "X_poly = poly_reg.fit_transform(x_train)\n",
    "pol_reg = LinearRegression()\n",
    "pol_reg.fit(X_poly, y_train)\n"
   ]
  },
  {
   "cell_type": "code",
   "execution_count": 44,
   "id": "a8e051f7",
   "metadata": {},
   "outputs": [],
   "source": [
    "y_pred_poly = pol_reg.predict(poly_reg.fit_transform(x_test))"
   ]
  },
  {
   "cell_type": "code",
   "execution_count": 45,
   "id": "0d25bbc6",
   "metadata": {},
   "outputs": [
    {
     "data": {
      "text/plain": [
       "0.6539989432390217"
      ]
     },
     "execution_count": 45,
     "metadata": {},
     "output_type": "execute_result"
    }
   ],
   "source": [
    "r2_score(y_test, y_pred_poly)"
   ]
  },
  {
   "cell_type": "code",
   "execution_count": 46,
   "id": "1c4c0473",
   "metadata": {},
   "outputs": [
    {
     "data": {
      "text/plain": [
       "Text(0, 0.5, 'Predicted')"
      ]
     },
     "execution_count": 46,
     "metadata": {},
     "output_type": "execute_result"
    },
    {
     "data": {
      "image/png": "[encoded data removed]",
      "text/plain": [
       "<Figure size 1080x720 with 1 Axes>"
      ]
     },
     "metadata": {
      "needs_background": "light"
     },
     "output_type": "display_data"
    }
   ],
   "source": [
    "plt.figure(figsize = (15, 10))\n",
    "plt.scatter(y_test, y_pred_poly)\n",
    "plt.xlabel('Actual')\n",
    "plt.ylabel('Predicted')"
   ]
  },
  {
   "cell_type": "code",
   "execution_count": 48,
   "id": "c226a547",
   "metadata": {},
   "outputs": [
    {
     "data": {
      "text/plain": [
       "['finalized_poly_model.sav']"
      ]
     },
     "execution_count": 48,
     "metadata": {},
     "output_type": "execute_result"
    }
   ],
   "source": [
    "import pickle\n",
    "import joblib\n",
    "filename = 'finalized_poly_model.sav'\n",
    "joblib.dump(pol_reg, filename)"
   ]
  },
  {
   "cell_type": "code",
   "execution_count": 162,
   "id": "a91dd14d",
   "metadata": {},
   "outputs": [
    {
     "data": {
      "text/html": [
       "<div>\n",
       "<style scoped>\n",
       "    .dataframe tbody tr th:only-of-type {\n",
       "        vertical-align: middle;\n",
       "    }\n",
       "\n",
       "    .dataframe tbody tr th {\n",
       "        vertical-align: top;\n",
       "    }\n",
       "\n",
       "    .dataframe thead th {\n",
       "        text-align: right;\n",
       "    }\n",
       "</style>\n",
       "<table border=\"1\" class=\"dataframe\">\n",
       "  <thead>\n",
       "    <tr style=\"text-align: right;\">\n",
       "      <th></th>\n",
       "      <th>Actual Value</th>\n",
       "      <th>Predicted Value</th>\n",
       "      <th>Difference</th>\n",
       "    </tr>\n",
       "  </thead>\n",
       "  <tbody>\n",
       "    <tr>\n",
       "      <th>0</th>\n",
       "      <td>87.62</td>\n",
       "      <td>75.639318</td>\n",
       "      <td>11.980682</td>\n",
       "    </tr>\n",
       "    <tr>\n",
       "      <th>1</th>\n",
       "      <td>113.25</td>\n",
       "      <td>106.126232</td>\n",
       "      <td>7.123768</td>\n",
       "    </tr>\n",
       "    <tr>\n",
       "      <th>2</th>\n",
       "      <td>113.64</td>\n",
       "      <td>141.324968</td>\n",
       "      <td>-27.684968</td>\n",
       "    </tr>\n",
       "    <tr>\n",
       "      <th>3</th>\n",
       "      <td>135.01</td>\n",
       "      <td>129.225364</td>\n",
       "      <td>5.784636</td>\n",
       "    </tr>\n",
       "    <tr>\n",
       "      <th>4</th>\n",
       "      <td>184.97</td>\n",
       "      <td>171.095716</td>\n",
       "      <td>13.874284</td>\n",
       "    </tr>\n",
       "    <tr>\n",
       "      <th>5</th>\n",
       "      <td>137.60</td>\n",
       "      <td>118.117778</td>\n",
       "      <td>19.482222</td>\n",
       "    </tr>\n",
       "    <tr>\n",
       "      <th>6</th>\n",
       "      <td>191.95</td>\n",
       "      <td>137.569743</td>\n",
       "      <td>54.380257</td>\n",
       "    </tr>\n",
       "    <tr>\n",
       "      <th>7</th>\n",
       "      <td>143.92</td>\n",
       "      <td>155.275328</td>\n",
       "      <td>-11.355328</td>\n",
       "    </tr>\n",
       "    <tr>\n",
       "      <th>8</th>\n",
       "      <td>133.60</td>\n",
       "      <td>132.114535</td>\n",
       "      <td>1.485465</td>\n",
       "    </tr>\n",
       "    <tr>\n",
       "      <th>9</th>\n",
       "      <td>157.78</td>\n",
       "      <td>184.380379</td>\n",
       "      <td>-26.600379</td>\n",
       "    </tr>\n",
       "    <tr>\n",
       "      <th>10</th>\n",
       "      <td>165.84</td>\n",
       "      <td>196.229857</td>\n",
       "      <td>-30.389857</td>\n",
       "    </tr>\n",
       "    <tr>\n",
       "      <th>11</th>\n",
       "      <td>158.70</td>\n",
       "      <td>129.318705</td>\n",
       "      <td>29.381295</td>\n",
       "    </tr>\n",
       "    <tr>\n",
       "      <th>12</th>\n",
       "      <td>97.82</td>\n",
       "      <td>113.497683</td>\n",
       "      <td>-15.677683</td>\n",
       "    </tr>\n",
       "    <tr>\n",
       "      <th>13</th>\n",
       "      <td>150.60</td>\n",
       "      <td>143.506234</td>\n",
       "      <td>7.093766</td>\n",
       "    </tr>\n",
       "    <tr>\n",
       "      <th>14</th>\n",
       "      <td>140.23</td>\n",
       "      <td>135.518148</td>\n",
       "      <td>4.711852</td>\n",
       "    </tr>\n",
       "    <tr>\n",
       "      <th>15</th>\n",
       "      <td>112.75</td>\n",
       "      <td>117.335781</td>\n",
       "      <td>-4.585781</td>\n",
       "    </tr>\n",
       "    <tr>\n",
       "      <th>16</th>\n",
       "      <td>127.95</td>\n",
       "      <td>146.048795</td>\n",
       "      <td>-18.098795</td>\n",
       "    </tr>\n",
       "    <tr>\n",
       "      <th>17</th>\n",
       "      <td>111.21</td>\n",
       "      <td>127.360351</td>\n",
       "      <td>-16.150351</td>\n",
       "    </tr>\n",
       "    <tr>\n",
       "      <th>18</th>\n",
       "      <td>120.37</td>\n",
       "      <td>117.618031</td>\n",
       "      <td>2.751969</td>\n",
       "    </tr>\n",
       "    <tr>\n",
       "      <th>19</th>\n",
       "      <td>129.17</td>\n",
       "      <td>133.190275</td>\n",
       "      <td>-4.020275</td>\n",
       "    </tr>\n",
       "    <tr>\n",
       "      <th>20</th>\n",
       "      <td>116.17</td>\n",
       "      <td>159.800226</td>\n",
       "      <td>-43.630226</td>\n",
       "    </tr>\n",
       "    <tr>\n",
       "      <th>21</th>\n",
       "      <td>97.42</td>\n",
       "      <td>96.769449</td>\n",
       "      <td>0.650551</td>\n",
       "    </tr>\n",
       "    <tr>\n",
       "      <th>22</th>\n",
       "      <td>115.38</td>\n",
       "      <td>133.749731</td>\n",
       "      <td>-18.369731</td>\n",
       "    </tr>\n",
       "    <tr>\n",
       "      <th>23</th>\n",
       "      <td>199.19</td>\n",
       "      <td>183.561296</td>\n",
       "      <td>15.628704</td>\n",
       "    </tr>\n",
       "    <tr>\n",
       "      <th>24</th>\n",
       "      <td>166.15</td>\n",
       "      <td>153.933979</td>\n",
       "      <td>12.216021</td>\n",
       "    </tr>\n",
       "    <tr>\n",
       "      <th>25</th>\n",
       "      <td>83.08</td>\n",
       "      <td>82.618167</td>\n",
       "      <td>0.461833</td>\n",
       "    </tr>\n",
       "    <tr>\n",
       "      <th>26</th>\n",
       "      <td>97.15</td>\n",
       "      <td>105.924832</td>\n",
       "      <td>-8.774832</td>\n",
       "    </tr>\n",
       "    <tr>\n",
       "      <th>27</th>\n",
       "      <td>160.66</td>\n",
       "      <td>166.033129</td>\n",
       "      <td>-5.373129</td>\n",
       "    </tr>\n",
       "    <tr>\n",
       "      <th>28</th>\n",
       "      <td>97.95</td>\n",
       "      <td>117.771809</td>\n",
       "      <td>-19.821809</td>\n",
       "    </tr>\n",
       "    <tr>\n",
       "      <th>29</th>\n",
       "      <td>146.36</td>\n",
       "      <td>125.100120</td>\n",
       "      <td>21.259880</td>\n",
       "    </tr>\n",
       "  </tbody>\n",
       "</table>\n",
       "</div>"
      ],
      "text/plain": [
       "    Actual Value  Predicted Value  Difference\n",
       "0          87.62        75.639318   11.980682\n",
       "1         113.25       106.126232    7.123768\n",
       "2         113.64       141.324968  -27.684968\n",
       "3         135.01       129.225364    5.784636\n",
       "4         184.97       171.095716   13.874284\n",
       "5         137.60       118.117778   19.482222\n",
       "6         191.95       137.569743   54.380257\n",
       "7         143.92       155.275328  -11.355328\n",
       "8         133.60       132.114535    1.485465\n",
       "9         157.78       184.380379  -26.600379\n",
       "10        165.84       196.229857  -30.389857\n",
       "11        158.70       129.318705   29.381295\n",
       "12         97.82       113.497683  -15.677683\n",
       "13        150.60       143.506234    7.093766\n",
       "14        140.23       135.518148    4.711852\n",
       "15        112.75       117.335781   -4.585781\n",
       "16        127.95       146.048795  -18.098795\n",
       "17        111.21       127.360351  -16.150351\n",
       "18        120.37       117.618031    2.751969\n",
       "19        129.17       133.190275   -4.020275\n",
       "20        116.17       159.800226  -43.630226\n",
       "21         97.42        96.769449    0.650551\n",
       "22        115.38       133.749731  -18.369731\n",
       "23        199.19       183.561296   15.628704\n",
       "24        166.15       153.933979   12.216021\n",
       "25         83.08        82.618167    0.461833\n",
       "26         97.15       105.924832   -8.774832\n",
       "27        160.66       166.033129   -5.373129\n",
       "28         97.95       117.771809  -19.821809\n",
       "29        146.36       125.100120   21.259880"
      ]
     },
     "execution_count": 162,
     "metadata": {},
     "output_type": "execute_result"
    }
   ],
   "source": [
    "pred_y_poly_df = pd.DataFrame({'Actual Value': y_test, 'Predicted Value':y_pred_poly, 'Difference': y_test - y_pred_poly})\n",
    "pred_y_poly_df[0:30]"
   ]
  },
  {
   "cell_type": "code",
   "execution_count": null,
   "id": "430b016f",
   "metadata": {},
   "outputs": [],
   "source": []
  }
 ],
 "metadata": {
  "kernelspec": {
   "display_name": "Python 3 (ipykernel)",
   "language": "python",
   "name": "python3"
  },
  "language_info": {
   "codemirror_mode": {
    "name": "ipython",
    "version": 3
   },
   "file_extension": ".py",
   "mimetype": "text/x-python",
   "name": "python",
   "nbconvert_exporter": "python",
   "pygments_lexer": "ipython3",
   "version": "3.9.12"
  }
 },
 "nbformat": 4,
 "nbformat_minor": 5
}
